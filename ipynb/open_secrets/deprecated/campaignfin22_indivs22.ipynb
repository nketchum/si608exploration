{
 "cells": [
  {
   "cell_type": "code",
   "execution_count": null,
   "id": "83cf4882-8d63-45f4-9bcf-5cd999ff188b",
   "metadata": {},
   "outputs": [],
   "source": [
    "import pandas as pd\n",
    "import numpy as np"
   ]
  },
  {
   "cell_type": "code",
   "execution_count": null,
   "id": "b7c5478b-456b-4efd-b6bb-17c2169880c2",
   "metadata": {},
   "outputs": [],
   "source": [
    "# Dataset description:\n",
    "# https://www.opensecrets.org/resources/datadictionary/Data%20Dictionary%20for%20Individual%20Contribution%20Data.htm\n",
    "columns_campfin22_indivs22 = ['cycle', 'fectransid', 'contribid', 'contrib_last', 'contrib_first', 'recipid', 'orgname', \n",
    "                    'ultorg', 'realcode', 'date', 'amount', 'street', 'city', 'state',\n",
    "                    'zip', 'recipcode', 'type', 'cmteid', 'otherid', 'gender', 'microfilm',\n",
    "                    'occupation', 'employer', 'source']\n",
    "columns_campfin22_indivs22 = dict(enumerate(columns_campfin22_indivs22))"
   ]
  },
  {
   "cell_type": "code",
   "execution_count": null,
   "id": "10f63528-e545-4df5-a0c4-763763bfbce2",
   "metadata": {},
   "outputs": [],
   "source": [
    "# This dataset is huge, and crashes my computer. For now, limiting to 1000000 rows\n",
    "# until a better way is found to trim off this dataset to only the last cycle or two.\n",
    "df = pd.read_csv('../../../data/open_secrets/CampaignFin22/indivs22.csv', nrows=1000000, on_bad_lines='skip', sep=',', header=None, na_values=['N/A', 'NA'], encoding='ISO-8859-1')\n",
    "df = df.rename(columns=columns_campfin22_indivs22)"
   ]
  },
  {
   "cell_type": "code",
   "execution_count": null,
   "id": "c34d933c-2e01-40b6-841c-52153b6bb609",
   "metadata": {},
   "outputs": [],
   "source": [
    "# Get rid of the pipes on both sides of the data.\n",
    "df = df.applymap(lambda x: x.replace('|', '') if type(x) == str else x)\n",
    "\n",
    "# Other cleanup.\n",
    "df['cycle'] = df['cycle'].apply(lambda x: int(x))\n",
    "df['fectransid'] = df['fectransid'].apply(lambda x: int(x))\n",
    "df['date'] = df['date'][:9]\n",
    "df['date'] = pd.to_datetime(df['date'], format='%m/%d/%Y')\n",
    "# df['microfilm'] = df['microfilm'].fillna(0)\n",
    "# df['microfilm'] = df['microfilm'].apply(lambda x: 0 if x == '' else int(x))"
   ]
  },
  {
   "cell_type": "code",
   "execution_count": null,
   "id": "3f79e6dd-2223-4f30-b531-4b0708d90fc4",
   "metadata": {},
   "outputs": [],
   "source": [
    "pd.options.display.max_columns = None\n",
    "df"
   ]
  },
  {
   "cell_type": "code",
   "execution_count": null,
   "id": "1f4521d9-a92d-48d5-a95b-e9a473b0bfa6",
   "metadata": {},
   "outputs": [],
   "source": [
    "# Donor Albert Allens'recipient is Andre Carlson, via Act Blue (did Allen specify Andre, or did ActBlue specify it?)\n",
    "# Andre's cid is shown here as the recipid field.\n",
    "# otherid \"C00442921\" is his committee.\n",
    "# CmteID \"C00401224\" is ActBlue (cmtes527.csv)\n",
    "df[df['recipid'] == 'N00029513']"
   ]
  },
  {
   "cell_type": "code",
   "execution_count": null,
   "id": "fe9295d5-e6f6-4316-9853-f07af1cffe2c",
   "metadata": {},
   "outputs": [],
   "source": [
    "# No individual made a donation that got funneled Goldberg. (?)\n",
    "df[df['recipid'] == 'N00036203']"
   ]
  },
  {
   "cell_type": "code",
   "execution_count": null,
   "id": "3620d80a-d0b4-4bd9-b036-805447169d4c",
   "metadata": {},
   "outputs": [],
   "source": []
  }
 ],
 "metadata": {
  "kernelspec": {
   "display_name": "Python 3 (ipykernel)",
   "language": "python",
   "name": "python3"
  },
  "language_info": {
   "codemirror_mode": {
    "name": "ipython",
    "version": 3
   },
   "file_extension": ".py",
   "mimetype": "text/x-python",
   "name": "python",
   "nbconvert_exporter": "python",
   "pygments_lexer": "ipython3",
   "version": "3.12.7"
  }
 },
 "nbformat": 4,
 "nbformat_minor": 5
}
