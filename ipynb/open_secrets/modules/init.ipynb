{
 "cells": [
  {
   "cell_type": "markdown",
   "id": "62d4088c-0852-4f41-8062-9d5f15ef19c5",
   "metadata": {},
   "source": [
    "#### Initialization ####\n",
    "\n",
    "Contains ONLY functions, \"default\" package imports, and environment settings."
   ]
  },
  {
   "cell_type": "code",
   "execution_count": null,
   "id": "16da8867-1b94-42f7-9d99-1727c7ad1a7b",
   "metadata": {},
   "outputs": [],
   "source": [
    "print(\"Initializing project...\")"
   ]
  },
  {
   "cell_type": "code",
   "execution_count": null,
   "id": "0bcd3a07-d1ad-4f80-8a66-9f951f6c2dcf",
   "metadata": {},
   "outputs": [],
   "source": [
    "import warnings\n",
    "warnings.filterwarnings(\"ignore\")"
   ]
  },
  {
   "cell_type": "markdown",
   "id": "b41ea108-62eb-461c-bcc9-3f86b9598a6e",
   "metadata": {},
   "source": [
    "#### Package installer ####\n",
    "\n",
    "Install a package if not already present."
   ]
  },
  {
   "cell_type": "code",
   "execution_count": null,
   "id": "132615ff-9a80-41e7-b20e-a57851e22c9c",
   "metadata": {},
   "outputs": [],
   "source": [
    "import sys\n",
    "import subprocess\n",
    "import pkg_resources\n",
    "\n",
    "def install_if_needed(package):\n",
    "    try:\n",
    "        pkg_resources.get_distribution(package)\n",
    "        print(f\"{package} is already installed.\")\n",
    "    except pkg_resources.DistributionNotFound:\n",
    "        print(f\"{package} not found. Installing...\")\n",
    "        subprocess.check_call([sys.executable, \"-m\", \"pip\", \"install\", package])"
   ]
  },
  {
   "cell_type": "code",
   "execution_count": null,
   "id": "2c47a478-28f1-40cd-b3dc-b0eaa7152523",
   "metadata": {},
   "outputs": [],
   "source": [
    "# Wrap long labels.\n",
    "import textwrap\n",
    "def split_label(label, max_length=25):\n",
    "    return textwrap.fill(label, width=max_length)"
   ]
  },
  {
   "cell_type": "markdown",
   "id": "201d42e6-4ce7-471d-903a-d220880b882c",
   "metadata": {},
   "source": [
    "#### Default packages ###\n",
    "\n",
    "Load most-commonly used packages and install if not already present."
   ]
  },
  {
   "cell_type": "code",
   "execution_count": null,
   "id": "9cc74da8-796b-4304-80d4-1b9b362ca421",
   "metadata": {},
   "outputs": [],
   "source": [
    "# Contributed libraries\n",
    "install_if_needed('pandas')\n",
    "import pandas as pd\n",
    "\n",
    "install_if_needed('matplotlib')\n",
    "import matplotlib.pyplot as plt\n",
    "\n",
    "install_if_needed('networkx')\n",
    "import networkx as nx\n",
    "\n",
    "install_if_needed('numpy')\n",
    "import numpy as np\n",
    "\n",
    "# Standard libraries\n",
    "import os"
   ]
  },
  {
   "cell_type": "markdown",
   "id": "8a49aca0-9c11-4ce9-a853-ee9221f3f8d4",
   "metadata": {},
   "source": [
    "#### Environment ####"
   ]
  },
  {
   "cell_type": "code",
   "execution_count": null,
   "id": "956c9ea4-69cc-41d6-8adc-903e2df87640",
   "metadata": {},
   "outputs": [],
   "source": [
    "pd.options.display.max_columns = None # Do not truncate numerous columns."
   ]
  },
  {
   "cell_type": "markdown",
   "id": "8e6e8e6c-4f2c-47c6-b4b0-12f60ba0e45f",
   "metadata": {},
   "source": [
    "#### Done ####"
   ]
  },
  {
   "cell_type": "code",
   "execution_count": null,
   "id": "40884d90-718b-4947-b254-4fc1b6f6379e",
   "metadata": {},
   "outputs": [],
   "source": [
    "print(\"...initialization complete.\")"
   ]
  }
 ],
 "metadata": {
  "kernelspec": {
   "display_name": "Python 3 (ipykernel)",
   "language": "python",
   "name": "python3"
  },
  "language_info": {
   "codemirror_mode": {
    "name": "ipython",
    "version": 3
   },
   "file_extension": ".py",
   "mimetype": "text/x-python",
   "name": "python",
   "nbconvert_exporter": "python",
   "pygments_lexer": "ipython3",
   "version": "3.12.7"
  }
 },
 "nbformat": 4,
 "nbformat_minor": 5
}
