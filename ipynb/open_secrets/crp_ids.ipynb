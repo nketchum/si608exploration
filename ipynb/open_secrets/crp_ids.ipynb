{
 "cells": [
  {
   "cell_type": "code",
   "execution_count": null,
   "id": "83cf4882-8d63-45f4-9bcf-5cd999ff188b",
   "metadata": {},
   "outputs": [],
   "source": [
    "import pandas as pd\n",
    "import numpy as np"
   ]
  },
  {
   "cell_type": "code",
   "execution_count": null,
   "id": "b7c5478b-456b-4efd-b6bb-17c2169880c2",
   "metadata": {},
   "outputs": [],
   "source": [
    "# Blank excel column\n",
    "columns_crp_ids = ['blank_excel_column', 'cid', 'crpname', 'party', 'distidrunfor', 'feccandid']\n",
    "columns_crp_ids = dict(enumerate(columns_crp_ids))"
   ]
  },
  {
   "cell_type": "code",
   "execution_count": null,
   "id": "10f63528-e545-4df5-a0c4-763763bfbce2",
   "metadata": {},
   "outputs": [],
   "source": [
    "df = pd.read_excel('../../data/open_secrets/CRP_IDs.xls', nrows=10000, header=None, skiprows=15)\n",
    "df = df.drop(df.columns[0], axis=1)\n",
    "df = df.rename(columns=columns_crp_ids)"
   ]
  },
  {
   "cell_type": "code",
   "execution_count": null,
   "id": "f57b3c55-1697-4b56-9fa7-d69ed954a57a",
   "metadata": {},
   "outputs": [],
   "source": [
    "pd.options.display.max_columns = None\n",
    "df"
   ]
  },
  {
   "cell_type": "code",
   "execution_count": null,
   "id": "3f79e6dd-2223-4f30-b531-4b0708d90fc4",
   "metadata": {},
   "outputs": [],
   "source": []
  }
 ],
 "metadata": {
  "kernelspec": {
   "display_name": "Python 3 (ipykernel)",
   "language": "python",
   "name": "python3"
  },
  "language_info": {
   "codemirror_mode": {
    "name": "ipython",
    "version": 3
   },
   "file_extension": ".py",
   "mimetype": "text/x-python",
   "name": "python",
   "nbconvert_exporter": "python",
   "pygments_lexer": "ipython3",
   "version": "3.12.4"
  }
 },
 "nbformat": 4,
 "nbformat_minor": 5
}
