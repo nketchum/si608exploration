{
 "cells": [
  {
   "cell_type": "code",
   "execution_count": null,
   "id": "4fb10efd-2552-4d10-961b-79cda5541857",
   "metadata": {},
   "outputs": [],
   "source": [
    "def plot_contrib_details(G):\n",
    "    print(f\"Number of nodes: {len(G.nodes)}\")\n",
    "    print(f\"Global Clustering Coefficient: {nx.average_clustering(G)}\")\n",
    "    largest_scc_nodes = max(nx.strongly_connected_components(G), key=len)\n",
    "    largest_scc_subgraph = G.subgraph(largest_scc_nodes).copy()\n",
    "    print(f\"Largest strongly-connected component: {G.subgraph(largest_scc_subgraph)}\")\n",
    "    print(f\"Average shortest path length: {nx.average_shortest_path_length(largest_scc_subgraph)}\")"
   ]
  }
 ],
 "metadata": {
  "kernelspec": {
   "display_name": "Python 3 (ipykernel)",
   "language": "python",
   "name": "python3"
  },
  "language_info": {
   "codemirror_mode": {
    "name": "ipython",
    "version": 3
   },
   "file_extension": ".py",
   "mimetype": "text/x-python",
   "name": "python",
   "nbconvert_exporter": "python",
   "pygments_lexer": "ipython3",
   "version": "3.12.7"
  }
 },
 "nbformat": 4,
 "nbformat_minor": 5
}
