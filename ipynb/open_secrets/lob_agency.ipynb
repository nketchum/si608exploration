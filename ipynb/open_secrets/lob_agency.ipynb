{
 "cells": [
  {
   "cell_type": "code",
   "execution_count": 1,
   "id": "83cf4882-8d63-45f4-9bcf-5cd999ff188b",
   "metadata": {},
   "outputs": [],
   "source": [
    "import pandas as pd\n",
    "import numpy as np"
   ]
  },
  {
   "cell_type": "code",
   "execution_count": 2,
   "id": "b7c5478b-456b-4efd-b6bb-17c2169880c2",
   "metadata": {},
   "outputs": [],
   "source": [
    "# Dataset description:\n",
    "# https://www.opensecrets.org/resources/datadictionary/Data%20Dictionary%20lob_agency.htm\n",
    "columns_lob_agency = ['uniqid', 'agencyid', 'agency']\n",
    "\n",
    "columns_lob_agency = dict(enumerate(columns_lob_agency))"
   ]
  },
  {
   "cell_type": "code",
   "execution_count": 3,
   "id": "10f63528-e545-4df5-a0c4-763763bfbce2",
   "metadata": {},
   "outputs": [],
   "source": [
    "df = pd.read_csv('../../data/open_secrets/Lobby/lob_agency.csv', on_bad_lines='skip', sep=',', header=None, na_values=['N/A', 'NA'], encoding='ISO-8859-1')\n",
    "df = df.rename(columns=columns_lob_agency)"
   ]
  },
  {
   "cell_type": "code",
   "execution_count": 4,
   "id": "f5e25fa7-a90a-4d31-bdca-c56a0c45aa1f",
   "metadata": {},
   "outputs": [],
   "source": [
    "# Get rid of the pipes on both sides of the data.\n",
    "df = df.map(lambda x: x.replace('|', '') if type(x) == str else x)\n",
    "\n",
    "# Other cleanup.\n",
    "df['agencyid'] = pd.to_numeric(df['agencyid'], errors='coerce')\n",
    "df = df.dropna(subset=['agencyid'])\n",
    "df['agencyid'] = df['agencyid'].astype(int)"
   ]
  },
  {
   "cell_type": "code",
   "execution_count": 5,
   "id": "084b581b-6c72-40a9-bfcd-e34aa2cf442f",
   "metadata": {},
   "outputs": [
    {
     "data": {
      "text/html": [
       "<div>\n",
       "<style scoped>\n",
       "    .dataframe tbody tr th:only-of-type {\n",
       "        vertical-align: middle;\n",
       "    }\n",
       "\n",
       "    .dataframe tbody tr th {\n",
       "        vertical-align: top;\n",
       "    }\n",
       "\n",
       "    .dataframe thead th {\n",
       "        text-align: right;\n",
       "    }\n",
       "</style>\n",
       "<table border=\"1\" class=\"dataframe\">\n",
       "  <thead>\n",
       "    <tr style=\"text-align: right;\">\n",
       "      <th></th>\n",
       "      <th>uniqid</th>\n",
       "      <th>agencyid</th>\n",
       "      <th>agency</th>\n",
       "    </tr>\n",
       "  </thead>\n",
       "  <tbody>\n",
       "    <tr>\n",
       "      <th>0</th>\n",
       "      <td>BB7367A7-7B60-4DED-AA2D-A94771A9EBE8</td>\n",
       "      <td>1</td>\n",
       "      <td>US Senate</td>\n",
       "    </tr>\n",
       "    <tr>\n",
       "      <th>1</th>\n",
       "      <td>BB7367A7-7B60-4DED-AA2D-A94771A9EBE8</td>\n",
       "      <td>2</td>\n",
       "      <td>US House of Representatives</td>\n",
       "    </tr>\n",
       "    <tr>\n",
       "      <th>2</th>\n",
       "      <td>04366C6F-B0CE-4C28-87BF-EE1CC8A9BB41</td>\n",
       "      <td>2</td>\n",
       "      <td>US House of Representatives</td>\n",
       "    </tr>\n",
       "    <tr>\n",
       "      <th>3</th>\n",
       "      <td>04366C6F-B0CE-4C28-87BF-EE1CC8A9BB41</td>\n",
       "      <td>34</td>\n",
       "      <td>Dept of Health &amp; Human Services</td>\n",
       "    </tr>\n",
       "    <tr>\n",
       "      <th>4</th>\n",
       "      <td>04366C6F-B0CE-4C28-87BF-EE1CC8A9BB41</td>\n",
       "      <td>134</td>\n",
       "      <td>Centers for Disease Control &amp; Prevention</td>\n",
       "    </tr>\n",
       "    <tr>\n",
       "      <th>...</th>\n",
       "      <td>...</td>\n",
       "      <td>...</td>\n",
       "      <td>...</td>\n",
       "    </tr>\n",
       "    <tr>\n",
       "      <th>4097758</th>\n",
       "      <td>2efcb77e-4c7a-433c-8559-b9df48db3782</td>\n",
       "      <td>2</td>\n",
       "      <td>US House of Representatives</td>\n",
       "    </tr>\n",
       "    <tr>\n",
       "      <th>4097759</th>\n",
       "      <td>2f702749-ef71-471d-800f-de6149bad184</td>\n",
       "      <td>201</td>\n",
       "      <td>Dept of Homeland Security</td>\n",
       "    </tr>\n",
       "    <tr>\n",
       "      <th>4097760</th>\n",
       "      <td>3057976c-a668-4957-ab7f-a8bb559fa6aa</td>\n",
       "      <td>64</td>\n",
       "      <td>Federal Trade Commission</td>\n",
       "    </tr>\n",
       "    <tr>\n",
       "      <th>4097761</th>\n",
       "      <td>3058e662-c783-4c63-90d3-f585624871d0</td>\n",
       "      <td>36</td>\n",
       "      <td>Dept of the Interior</td>\n",
       "    </tr>\n",
       "    <tr>\n",
       "      <th>4097762</th>\n",
       "      <td>3093ba4c-41bb-4a3c-b6c0-0f6629ad304b</td>\n",
       "      <td>2</td>\n",
       "      <td>US House of Representatives</td>\n",
       "    </tr>\n",
       "  </tbody>\n",
       "</table>\n",
       "<p>4097763 rows × 3 columns</p>\n",
       "</div>"
      ],
      "text/plain": [
       "                                       uniqid  agencyid  \\\n",
       "0        BB7367A7-7B60-4DED-AA2D-A94771A9EBE8         1   \n",
       "1        BB7367A7-7B60-4DED-AA2D-A94771A9EBE8         2   \n",
       "2        04366C6F-B0CE-4C28-87BF-EE1CC8A9BB41         2   \n",
       "3        04366C6F-B0CE-4C28-87BF-EE1CC8A9BB41        34   \n",
       "4        04366C6F-B0CE-4C28-87BF-EE1CC8A9BB41       134   \n",
       "...                                       ...       ...   \n",
       "4097758  2efcb77e-4c7a-433c-8559-b9df48db3782         2   \n",
       "4097759  2f702749-ef71-471d-800f-de6149bad184       201   \n",
       "4097760  3057976c-a668-4957-ab7f-a8bb559fa6aa        64   \n",
       "4097761  3058e662-c783-4c63-90d3-f585624871d0        36   \n",
       "4097762  3093ba4c-41bb-4a3c-b6c0-0f6629ad304b         2   \n",
       "\n",
       "                                           agency  \n",
       "0                                       US Senate  \n",
       "1                     US House of Representatives  \n",
       "2                     US House of Representatives  \n",
       "3                 Dept of Health & Human Services  \n",
       "4        Centers for Disease Control & Prevention  \n",
       "...                                           ...  \n",
       "4097758               US House of Representatives  \n",
       "4097759                 Dept of Homeland Security  \n",
       "4097760                  Federal Trade Commission  \n",
       "4097761                      Dept of the Interior  \n",
       "4097762               US House of Representatives  \n",
       "\n",
       "[4097763 rows x 3 columns]"
      ]
     },
     "execution_count": 5,
     "metadata": {},
     "output_type": "execute_result"
    }
   ],
   "source": [
    "pd.options.display.max_columns = None\n",
    "df"
   ]
  },
  {
   "cell_type": "code",
   "execution_count": null,
   "id": "a477b346-fe1f-4b48-beb7-ad3d7d2df512",
   "metadata": {},
   "outputs": [],
   "source": []
  }
 ],
 "metadata": {
  "kernelspec": {
   "display_name": "Python 3 (ipykernel)",
   "language": "python",
   "name": "python3"
  },
  "language_info": {
   "codemirror_mode": {
    "name": "ipython",
    "version": 3
   },
   "file_extension": ".py",
   "mimetype": "text/x-python",
   "name": "python",
   "nbconvert_exporter": "python",
   "pygments_lexer": "ipython3",
   "version": "3.12.4"
  }
 },
 "nbformat": 4,
 "nbformat_minor": 5
}
