{
 "cells": [
  {
   "cell_type": "markdown",
   "id": "7afacead-3850-4449-8769-58ce13d7092c",
   "metadata": {},
   "source": [
    "# SI 608 Project – Workspace\n",
    "<span style=\"font-size: 18px;\">General scratchpad workspace that preloads all the dataframes.</span>\n",
    "<br>See <code>./modules</code> to review how libraries are installed and imported, as well as where the data is loaded, cleaned, and formatted. This is only here as a helpful tool, make a copy and do whatever you'd like. Or don't use this at all if that's preferable.\n",
    "\n",
    "[OpenSecrets Data Dictionary Index](../../docs/open_source_data_dictionary.md)\n",
    "<br><small><em>(View the index with markdown preview)</em></small>"
   ]
  },
  {
   "cell_type": "markdown",
   "id": "5eaecaf6-03ea-4232-966a-3ffe9bd15529",
   "metadata": {},
   "source": [
    "## Environment\n",
    "Run these cells first to load global functions and variables, augment enivronment, and produce and load primary datasets for this project, overall."
   ]
  },
  {
   "cell_type": "markdown",
   "id": "e844f9c6-ac9b-424c-a465-f4f3eb5e687c",
   "metadata": {},
   "source": [
    "#### Settings\n",
    "Configure frequently modified behaviors in this notebook."
   ]
  },
  {
   "cell_type": "code",
   "execution_count": null,
   "id": "b4f4774c-9011-4819-81fc-342611db2a3a",
   "metadata": {},
   "outputs": [],
   "source": [
    "# PUT THIS IN .env?\n",
    "DISPLAY_DF = True # for showdf() -> df.head()\n",
    "SAVE_DF = True # for to_csv() -> pd.to_csv()"
   ]
  },
  {
   "cell_type": "markdown",
   "id": "bb49c737-37ae-4c27-9f68-dfd69c537631",
   "metadata": {},
   "source": [
    "#### Init globals\n",
    "Init file contains global variables and helper functions used throughout the project."
   ]
  },
  {
   "cell_type": "code",
   "execution_count": null,
   "id": "e9fe3e1f-9c7c-4629-b11f-0d84cf0b7e79",
   "metadata": {},
   "outputs": [],
   "source": [
    "%run modules/init.ipynb"
   ]
  },
  {
   "cell_type": "markdown",
   "id": "95228d13-837b-40a2-8cd4-d3e80f87513e",
   "metadata": {},
   "source": [
    "#### Local env\n",
    "Contain things like API keys that should be excluded from the public repository."
   ]
  },
  {
   "cell_type": "code",
   "execution_count": null,
   "id": "dd8048ae-debc-4512-a5b6-d1a800d7b858",
   "metadata": {},
   "outputs": [],
   "source": [
    "env_vars = load_env_vars()"
   ]
  },
  {
   "cell_type": "code",
   "execution_count": null,
   "id": "b32c7e18-5bff-4623-8dc6-72f74f8c06f2",
   "metadata": {},
   "outputs": [],
   "source": [
    "CONGRESS_API_KEY = env_vars['CONGRESS_API_KEY']\n",
    "CONGRESS_API_URL = env_vars['CONGRESS_API_URL']\n",
    "\n",
    "print(f\"CONGRESS_API_KEY: {CONGRESS_API_KEY}, CONGRESS_API_URL: {CONGRESS_API_URL}\")"
   ]
  },
  {
   "cell_type": "code",
   "execution_count": null,
   "id": "36d727f9-82e1-472d-bab1-3c8c8664553a",
   "metadata": {},
   "outputs": [],
   "source": [
    "CONGRESS_NUM = 116"
   ]
  },
  {
   "cell_type": "markdown",
   "id": "e743863c-9450-4e0a-abe7-07cb9fc1e480",
   "metadata": {},
   "source": [
    "## Data\n",
    "From OpenSecrets.org bulk data collection. Contains data from IRS and the FEC."
   ]
  },
  {
   "cell_type": "markdown",
   "id": "a7671134-874c-49d0-b74e-30804f9f473f",
   "metadata": {},
   "source": [
    "### 527 data"
   ]
  },
  {
   "cell_type": "markdown",
   "id": "51a40058-51ad-4ff6-bfab-fa6f77fe5067",
   "metadata": {},
   "source": [
    "#### cmtes527"
   ]
  },
  {
   "cell_type": "code",
   "execution_count": null,
   "id": "52f59f48-f867-4757-8ac8-d3413afc30af",
   "metadata": {},
   "outputs": [],
   "source": [
    "# # OpenSecrets Data Definition: 527 Committees\n",
    "# # https://www.opensecrets.org/resources/datadictionary/Data%20Dictionary%20527%20Cmtes.htm\n",
    "# try:\n",
    "#     df_cmtes527.head()\n",
    "# except NameError:\n",
    "#     print(\"Creating dataframe...\")\n",
    "#     df_cmtes527 = pd.read_csv('../../data/open_secrets/527/cmtes527.txt', \n",
    "#                                quotechar='|', \n",
    "#                                sep=',', \n",
    "#                                encoding='ISO-8859-1',\n",
    "#                                header=None,\n",
    "#                                names=['cycle__cmtes527', 'rpt__cmtes527', 'ein__cmtes527', 'crp527name__cmtes527', 'affiliate__cmtes527', 'ultorg__cmtes527', \n",
    "#                                       'recipcode__cmtes527', 'cmteid__cmtes527', 'cid__cmtes527', 'eccmteid__cmtes527', 'party__cmtes527', \n",
    "#                                       'primcode__cmtes527', 'source__cmtes527', 'ffreq__cmtes527', 'ctype__cmtes527', 'csource__cmtes527', 'viewpt__cmtes527',\n",
    "#                                       'comments__cmtes527', 'state__cmtes527'])\n",
    "#     print(\"Finished.\")\n",
    "\n",
    "# showdf(df_cmtes527)"
   ]
  },
  {
   "cell_type": "code",
   "execution_count": null,
   "id": "dfc3adbc-e8d7-4355-9834-274bcd3cefed",
   "metadata": {},
   "outputs": [],
   "source": [
    "# showdf(df_cmtes527)"
   ]
  },
  {
   "cell_type": "markdown",
   "id": "6660cb9e-73b8-4d29-8d13-d0217ee47688",
   "metadata": {},
   "source": [
    "#### expends527"
   ]
  },
  {
   "cell_type": "code",
   "execution_count": null,
   "id": "8aa4886a-fce0-4861-9cd7-e1c6fae79b83",
   "metadata": {},
   "outputs": [],
   "source": [
    "# # OpenSecrets Data Dictionary 527 Expenditure Data - from IRS Form 8872B\n",
    "# # https://www.opensecrets.org/resources/datadictionary/Data%20Dictionary%20527%20Expenditures.htm\n",
    "# try:\n",
    "#     df_expends527.head()\n",
    "# except NameError:\n",
    "#     print(\"Creating dataframe...\")\n",
    "#     df_expends527 = pd.read_csv('../../data/open_secrets/527/expends527.txt', \n",
    "#                                quotechar='|', \n",
    "#                                sep=',', \n",
    "#                                encoding='ISO-8859-1',\n",
    "#                                header=None,\n",
    "#                                names='rpt__expends527', 'formid__expends527', 'schbid__expends527', 'orgname__expends527', 'ein__expends527', 'recipient__expends527', \n",
    "#                                      'recipientcrp__expends527', 'amount__expends527', 'date__expends527', 'expcode__expends527', 'source__expends527', \n",
    "#                                      'purpose__expends527', 'addr1__expends527', 'addr2__expends527', 'city__expends527', 'state__expends527', 'zip__expends527',\n",
    "#                                      'employer__expends527', 'occupation__expends527'])\n",
    "#     print(\"Finished.\")\n",
    "\n",
    "# showdf(df_expends527)"
   ]
  },
  {
   "cell_type": "markdown",
   "id": "06120a9a-1840-4b06-9fb3-e47197395c4b",
   "metadata": {},
   "source": [
    "#### rcpts527"
   ]
  },
  {
   "cell_type": "code",
   "execution_count": null,
   "id": "96954ed3-98b2-4ab8-8629-4a98741f962e",
   "metadata": {},
   "outputs": [],
   "source": [
    "# # OpenSecrets Data Dictionary 527 Contribution Data - from IRS Form 8872A\n",
    "# # https://www.opensecrets.org/resources/datadictionary/Data%20Dictionary%20527%20Receipts.htm\n",
    "# try:\n",
    "#     df_rcpts527.head()\n",
    "# except NameError:\n",
    "#     print(\"Creating dataframe...\")\n",
    "#     df_rcpts527 = pd.read_csv('../../data/open_secrets/527/rcpts527.txt', \n",
    "#                                quotechar='|', \n",
    "#                                sep=',', \n",
    "#                                encoding='ISO-8859-1',\n",
    "#                                header=None,\n",
    "#                                names=['id__rcpts527', 'rpt__rcpts527', 'formid__rcpts527', 'schaid__rcpts527', 'contribid__rcpts527', 'contrib__rcpts527', \n",
    "#                                       'amount__rcpts527', 'date__rcpts527', 'orgname__rcpts527', 'ultorg__rcpts527', 'realcode__rcpts527', \n",
    "#                                       'recipid__rcpts527', 'recipcode__rcpts527', 'party__rcpts527', 'recipient__rcpts527', 'city__rcpts527', 'state__rcpts527',\n",
    "#                                       'zip__rcpts527', 'zip4__rcpts527', 'pmsa__rcpts527', 'employer__rcpts527', 'occupation__rcpts527', 'ytd__rcpts527', 'gender__rcpts527', 'source__rcpts527'])\n",
    "#     print(\"Finished.\")\n",
    "\n",
    "# showdf(df_rcpts527)"
   ]
  },
  {
   "cell_type": "markdown",
   "id": "9da33756-f35b-4d7c-8931-558884389db3",
   "metadata": {},
   "source": [
    "### Campaign Finance 18 data"
   ]
  },
  {
   "cell_type": "markdown",
   "id": "99f80308-8a71-4730-b1bd-dce6e11471fa",
   "metadata": {},
   "source": [
    "#### cands18"
   ]
  },
  {
   "cell_type": "code",
   "execution_count": null,
   "id": "494cab31-9bef-40f7-8c7c-d468bb649787",
   "metadata": {},
   "outputs": [],
   "source": [
    "# OpenSecrets Data Definition: Candidates\n",
    "# https://www.opensecrets.org/resources/datadictionary/Data%20Dictionary%20Candidates%20Data.htm\n",
    "try:\n",
    "    df_cands18.head()\n",
    "except NameError:\n",
    "    print(\"Creating dataframe...\")\n",
    "    df_cands18 = pd.read_csv('../../data/open_secrets/CampaignFin18/cands18.txt', \n",
    "                               quotechar='|', \n",
    "                               sep=',', \n",
    "                               encoding='ISO-8859-1',\n",
    "                               header=None,\n",
    "                               names=['cycle__cands18', 'feccandid__cands18', 'cid__cands18', 'firstlastp__cands18', 'party__cands18', 'distidrunfor__cands18', \n",
    "                                      'distidcurr__cands18', 'currcand__cands18', 'cyclecand__cands18', 'crpico__cands18', 'recipcode__cands18', \n",
    "                                      'nopacs__cands18'])\n",
    "    print(\"Finished.\")\n",
    "\n",
    "# Remove party labels from names: '3', 'R', 'D', 'I', 'L', 'U', 'i'\n",
    "df_cands18['firstlast__cands18'] = df_cands18['firstlastp__cands18'].apply(\n",
    "    lambda x: x.replace(\" (3)\", \"\").replace(\" (R)\", \"\").replace(\" (D)\", \"\").replace(\" (I)\", \"\").replace(\" (L)\", \"\").replace(\" (U)\", \"\").replace(\" (i)\", \"\") if isinstance(x, str) else x\n",
    ")\n",
    "\n",
    "showdf(df_cands18)"
   ]
  },
  {
   "cell_type": "markdown",
   "id": "aa5e3d4e-aa8f-4aa8-aa68-652f966a10f1",
   "metadata": {},
   "source": [
    "#### cmtes18"
   ]
  },
  {
   "cell_type": "code",
   "execution_count": null,
   "id": "78614302-9b57-4f64-9b76-796d436c7195",
   "metadata": {},
   "outputs": [],
   "source": [
    "# OpenSecrets Table Definition: Committee table\n",
    "# https://www.opensecrets.org/resources/datadictionary/Data%20Dictionary%20for%20Cmtes.htm\n",
    "try:\n",
    "    df_cmtes18.head()\n",
    "except NameError:\n",
    "    print(\"Creating dataframe...\")\n",
    "    df_cmtes18 = pd.read_csv('../../data/open_secrets/CampaignFin18/cmtes18.txt', \n",
    "                               quotechar='|', \n",
    "                               sep=',', \n",
    "                               encoding='ISO-8859-1',\n",
    "                               header=None,\n",
    "                               names=['cycle__cmtes18', 'cmteid__cmtes18', 'pacshort__cmtes18', 'affiliate__cmtes18', 'ultorg__cmtes18', 'recipid__cmtes18', \n",
    "                                      'recipcode__cmtes18', 'feccandid__cmtes18', 'party__cmtes18', 'primcode__cmtes18', 'source__cmtes18', 'sensitive__cmtes18',\n",
    "                                      'foreign__cmtes18', 'active__cmtes18'])\n",
    "    print(\"Finished.\")\n",
    "\n",
    "showdf(df_cmtes18)"
   ]
  },
  {
   "cell_type": "markdown",
   "id": "643cb0c5-c561-416c-9c18-42b586890dcd",
   "metadata": {},
   "source": [
    "#### pac_other18"
   ]
  },
  {
   "cell_type": "code",
   "execution_count": null,
   "id": "48fda588-846c-4d7e-b8ea-4c789dc51a57",
   "metadata": {},
   "outputs": [],
   "source": [
    "# OpenSecrets Data Definition for PAC to PAC Data (Pac_other table)\n",
    "# https://www.opensecrets.org/resources/datadictionary/Data%20Dictionary%20PAC%20to%20PAC%20Data.htm\n",
    "try:\n",
    "    df_pac_other18.head()\n",
    "except NameError:\n",
    "    print(\"Creating dataframe...\")\n",
    "    df_pac_other18 = pd.read_csv('../../data/open_secrets/CampaignFin18/pac_other18.txt', \n",
    "                               quotechar='|', \n",
    "                               sep=',', \n",
    "                               encoding='ISO-8859-1',\n",
    "                               header=None,\n",
    "                               names=['cycle__pac_other18', 'fecrecno__pac_other18', 'filerid__pac_other18', 'donorcmte__pac_other18', 'contriblendtrans__pac_other18', 'city__pac_other18', 'state__pac_other18', \n",
    "                                      'zip__pac_other18', 'fecoccemp__pac_other18', 'primcode__pac_other18', 'date__pac_other18', 'amount__pac_other18', 'recipid__pac_other18', 'party__pac_other18', 'otherid__pac_other18',\n",
    "                                      'recipcode__pac_other18', 'recipprimcode__pac_other18', 'amend__pac_other18', 'report__pac_other18', 'pg__pac_other18', 'microfilm__pac_other18', 'type__pac_other18',\n",
    "                                      'realcode__pac_other18', 'source__pac_other18'])\n",
    "    print(\"Finished.\")\n",
    "\n",
    "showdf(df_pac_other18)"
   ]
  },
  {
   "cell_type": "markdown",
   "id": "fa03f07c-3b52-4e39-ae2d-11a7337e0feb",
   "metadata": {},
   "source": [
    "#### pacs18"
   ]
  },
  {
   "cell_type": "code",
   "execution_count": null,
   "id": "b7be3ea0-c0d0-4d9f-8fe7-b9041cdbd676",
   "metadata": {},
   "outputs": [],
   "source": [
    "# OpenSecrets Data Definition: PAC table (PACs to Candidates)\n",
    "# https://www.opensecrets.org/resources/datadictionary/Data%20Dictionary%20for%20PAC%20to%20Cands%20Data.htm\n",
    "try:\n",
    "    df_pacs18.head()\n",
    "except NameError:\n",
    "    print(\"Creating dataframe...\")\n",
    "    df_pacs18 = pd.read_csv('../../data/open_secrets/CampaignFin18/pacs18.txt', \n",
    "                               quotechar='|', \n",
    "                               sep=',', \n",
    "                               encoding='ISO-8859-1',\n",
    "                               header=None,\n",
    "                               names=['cycle__pacs18', 'fecrecno__pacs18', 'pacid__pacs18', 'cid__pacs18', 'amount__pacs18', 'date__pacs18', 'realcode__pacs18', \n",
    "                                      'type__pacs18', 'di__pacs18', 'feccandid__pacs18'])\n",
    "    print(\"Finished.\")\n",
    "\n",
    "showdf(df_pacs18)"
   ]
  },
  {
   "cell_type": "markdown",
   "id": "205b6e92-3371-4343-b43a-1d43a7539d18",
   "metadata": {},
   "source": [
    "#### indivs18"
   ]
  },
  {
   "cell_type": "code",
   "execution_count": null,
   "id": "4d5fe7df-f177-409f-848d-fe104f009212",
   "metadata": {},
   "outputs": [],
   "source": [
    "# OpenSecrets Data Definition: Individual Contribution Data\n",
    "# https://www.opensecrets.org/resources/datadictionary/Data%20Dictionary%20for%20Individual%20Contribution%20Data.htm\n",
    "try:\n",
    "    df_indivs18.head()\n",
    "except NameError:\n",
    "    print(\"Creating dataframe...\")\n",
    "    df_indivs18 = pd.read_csv('../../data/open_secrets/CampaignFin18/indivs18.txt', \n",
    "                               quotechar='|', \n",
    "                               sep=',', \n",
    "                               encoding='ISO-8859-1',\n",
    "                               header=None,\n",
    "                               names=['cycle__indivs18', 'fectransid__indivs18', 'contribid__indivs18', 'contrib__indivs18', 'recipid__indivs18', 'orgname__indivs18', \n",
    "                                      'ultorg__indivs18', 'realcode__indivs18', 'date__indivs18', 'amount__indivs18', 'street__indivs18', 'city__indivs18', 'state__indivs18',\n",
    "                                      'zip__indivs18', 'recipcode__indivs18', 'type__indivs18', 'cmteid__indivs18', 'otherid__indivs18', 'gender__indivs18', 'microfilm__indivs18',\n",
    "                                      'occupation__indivs18', 'employer__indivs18', 'source__indivs18'])\n",
    "    print(\"Finished.\")\n",
    "\n",
    "showdf(df_indivs18)"
   ]
  },
  {
   "cell_type": "markdown",
   "id": "5566f524-4260-4b8b-8b9f-87b3439e18f7",
   "metadata": {},
   "source": [
    "### Expends18 data"
   ]
  },
  {
   "cell_type": "markdown",
   "id": "a7e36b5e-1eb2-469e-8be2-263a30fa43e2",
   "metadata": {},
   "source": [
    "#### expends18"
   ]
  },
  {
   "cell_type": "code",
   "execution_count": null,
   "id": "2eda8166-eb35-4243-815d-3db2377b3f4f",
   "metadata": {},
   "outputs": [],
   "source": [
    "# # OpenSecrets Data Dictionary for Expenditure Data - from FEC electronic filings\n",
    "# # https://www.opensecrets.org/resources/datadictionary/Data%20Dictionary%20Expenditures.htm\n",
    "# try:\n",
    "#     df_expends18.head()\n",
    "# except NameError:\n",
    "#     print(\"Creating dataframe...\")\n",
    "#     df_expends18 = pd.read_csv('../../data/open_secrets/Expend18/expends18.txt', \n",
    "#                                quotechar='|', \n",
    "#                                sep=',', \n",
    "#                                encoding='ISO-8859-1',\n",
    "#                                header=None,\n",
    "#                                names=['cycle__expends18', 'id__expends18', 'transid__expends18', 'crpfilerid__expends18', \n",
    "#                                       'recipcode__expends18', 'pacshort__expends18', 'crprecipname__expends18', \n",
    "#                                       'expcode__expends18', 'amount__expends18', 'date__expends18', 'city__expends18', 'state__expends18', \n",
    "#                                       'zip__expends18', 'cmteid_ef__expends18', 'candid__expends18', 'type__expends18',\n",
    "#                                       'descrip__expends18', 'pg__expends18', 'elecother__expends18', 'enttype__expends18',\n",
    "#                                       'source__expends18'])\n",
    "#     print(\"Finished.\")\n",
    "    \n",
    "# showdf(df_expends18)"
   ]
  },
  {
   "cell_type": "markdown",
   "id": "18d54e36-c0fc-4bf1-a8f7-8dd56951ce53",
   "metadata": {},
   "source": [
    "### Lobby data"
   ]
  },
  {
   "cell_type": "markdown",
   "id": "56fb0c02-dec9-405f-9ddc-adecb6560c6d",
   "metadata": {},
   "source": [
    "#### lob_agency"
   ]
  },
  {
   "cell_type": "code",
   "execution_count": null,
   "id": "8cfa3c13-552d-4211-a2a1-32f627ec1b13",
   "metadata": {},
   "outputs": [],
   "source": [
    "# OpenSecrets Data Definition for Lobbying Data: Lobby agencies\n",
    "# https://www.opensecrets.org/resources/datadictionary/Data%20Dictionary%20lob_agency.htm\n",
    "try:\n",
    "    df_lob_agency.head()\n",
    "except NameError:\n",
    "    print(\"Creating dataframe...\")\n",
    "    df_lob_agency = pd.read_csv('../../data/open_secrets/Lobby/lob_agency.txt', \n",
    "                               quotechar='|', \n",
    "                               sep=',', \n",
    "                               encoding='ISO-8859-1',\n",
    "                               header=None,\n",
    "                               names=['uniqid__lob_agency',\n",
    "                                      'agencyid__lob_agency', \n",
    "                                      'agency__lob_agency'])\n",
    "    print(\"Finished.\")\n",
    "\n",
    "showdf(df_lob_agency)"
   ]
  },
  {
   "cell_type": "markdown",
   "id": "b08e5fc4-eb6f-4c16-89d4-951dec406313",
   "metadata": {},
   "source": [
    "#### lob_bills"
   ]
  },
  {
   "cell_type": "code",
   "execution_count": null,
   "id": "b903c354-978e-4d16-8c2d-66e301bfafa6",
   "metadata": {},
   "outputs": [],
   "source": [
    "# OpenSecrets Data Definition for Lobbying Data: Lobby bills\n",
    "# https://www.opensecrets.org/resources/datadictionary/Data%20Dictionary%20lob_bills.htm\n",
    "try:\n",
    "    df_lob_bills.head()\n",
    "except NameError:\n",
    "    print(\"Creating dataframe...\")\n",
    "    df_lob_bills = pd.read_csv('../../data/open_secrets/Lobby/lob_bills.txt', \n",
    "                               quotechar='|', \n",
    "                               sep=',', \n",
    "                               encoding='ISO-8859-1',\n",
    "                               header=None,\n",
    "                               names=['b_id__lob_bills',\n",
    "                                      'si_id__lob_bills', \n",
    "                                      'congno__lob_bills', \n",
    "                                      'bill_name__lob_bills'])\n",
    "    df_lob_bills['bill_name__lob_bills'] = df_lob_bills['bill_name__lob_bills'].apply(lambda x: x[:-2])\n",
    "    print(\"Finished.\")\n",
    "\n",
    "showdf(df_lob_bills)"
   ]
  },
  {
   "cell_type": "markdown",
   "id": "53c12ec6-04dc-4bd2-8e0f-7a401fa46f78",
   "metadata": {},
   "source": [
    "#### lob_indus"
   ]
  },
  {
   "cell_type": "code",
   "execution_count": null,
   "id": "e38d56d4-f406-4f3a-96d5-692cbc74e506",
   "metadata": {},
   "outputs": [],
   "source": [
    "# OpenSecrets Data Definition for Lobbying Data: Lobby industries\n",
    "# https://www.opensecrets.org/resources/datadictionary/Data%20Dictionary%20lob_indus.htm\n",
    "try:\n",
    "    df_lob_indus.head()\n",
    "except NameError:\n",
    "    print(\"Creating dataframe...\")\n",
    "    df_lob_indus = pd.read_csv('../../data/open_secrets/Lobby/lob_indus.txt', \n",
    "                               quotechar='|', \n",
    "                               sep=',', \n",
    "                               encoding='ISO-8859-1',\n",
    "                               header=None,\n",
    "                               names=['client__lob_indus',\n",
    "                                      'sub__lob_indus', \n",
    "                                      'total__lob_indus', \n",
    "                                      'year__lob_indus', \n",
    "                                      'catcode__lob_indus'])\n",
    "    print(\"Finished.\")\n",
    "\n",
    "showdf(df_lob_indus)"
   ]
  },
  {
   "cell_type": "markdown",
   "id": "1141dde2-b956-40c0-a16d-fbd04a3b94a4",
   "metadata": {},
   "source": [
    "#### lob_issue"
   ]
  },
  {
   "cell_type": "code",
   "execution_count": null,
   "id": "6c79ceaa-f866-4d6d-a042-9eb1271f7b9d",
   "metadata": {},
   "outputs": [],
   "source": [
    "# OpenSecrets Data Definition for Lobbying Data: Lobby issues\n",
    "# https://www.opensecrets.org/resources/datadictionary/Data%20Dictionary%20lob_issues.htm\n",
    "try:\n",
    "    df_lob_issue.head()\n",
    "except NameError:\n",
    "    print(\"Creating dataframe...\")\n",
    "    df_lob_issue = pd.read_csv('../../data/open_secrets/Lobby/lob_issue.txt', \n",
    "                               quotechar='|', \n",
    "                               sep=',', \n",
    "                               encoding='ISO-8859-1',\n",
    "                               header=None,\n",
    "                               names=['si_id__lob_issue',\n",
    "                                      'uniqid__lob_issue', \n",
    "                                      'issueid__lob_issue', \n",
    "                                      'issue__lob_issue', \n",
    "                                      'specificissue__lob_issue', \n",
    "                                      'year__lob_issue'])\n",
    "    print(\"Finished.\")\n",
    "\n",
    "showdf(df_lob_issue)"
   ]
  },
  {
   "cell_type": "markdown",
   "id": "543c45b2-9675-4768-94a0-4251f910562e",
   "metadata": {},
   "source": [
    "#### lob_issue_no_specific"
   ]
  },
  {
   "cell_type": "code",
   "execution_count": null,
   "id": "d8fd2670-7101-43cc-829f-67886158a1fd",
   "metadata": {},
   "outputs": [],
   "source": [
    "# OpenSecrets Data Definition for Lobbying Data: Lobby issues (no specific issue)\n",
    "# https://www.opensecrets.org/resources/datadictionary/Data%20Dictionary%20lob_issues.htm\n",
    "try:\n",
    "    df_lob_issue_no_specific.head()\n",
    "except NameError:\n",
    "    print(\"Creating dataframe...\")\n",
    "    df_lob_issue_no_specific = pd.read_csv('../../data/open_secrets/Lobby/lob_issue_NoSpecficIssue.txt', \n",
    "                               quotechar='|', \n",
    "                               sep=',', \n",
    "                               encoding='ISO-8859-1',\n",
    "                               header=None,\n",
    "                               names=['si_id__lob_issue_NoSpecficIssue', 'uniqid__lob_issue_NoSpecficIssue', \n",
    "                                      'issueid__lob_issue_NoSpecficIssue', 'issue__lob_issue_NoSpecficIssue', \n",
    "                                      'year__lob_issue_NoSpecficIssue'])\n",
    "    print(\"Finished.\")\n",
    "\n",
    "showdf(df_lob_issue_no_specific)"
   ]
  },
  {
   "cell_type": "markdown",
   "id": "a753c0a1-5461-4127-92dc-1a8805a1b99c",
   "metadata": {},
   "source": [
    "#### lob_lobbying"
   ]
  },
  {
   "cell_type": "code",
   "execution_count": null,
   "id": "32eda8f1-2d5f-4e71-8433-8644be26a3d5",
   "metadata": {},
   "outputs": [],
   "source": [
    "# OpenSecrets Data Definitions for Lobbying Data: Lobbying\n",
    "# https://www.opensecrets.org/resources/datadictionary/Data%20Dictionary%20lob_lobbying.htm\n",
    "try:\n",
    "    df_lob_lobbying.head()\n",
    "except NameError:\n",
    "    print(\"Creating dataframe...\")\n",
    "    df_lob_lobbying = pd.read_csv('../../data/open_secrets/Lobby/lob_lobbying.txt', \n",
    "                               quotechar='|', \n",
    "                               sep=',', \n",
    "                               encoding='ISO-8859-1',\n",
    "                               header=None,\n",
    "                               names=['uniqid__lob_lobbying','registrant_raw__lob_lobbying','registrant__lob_lobbying','isfirm__lob_lobbying','client_raw__lob_lobbying','client__lob_lobbying','ultorg__lob_lobbying','amount__lob_lobbying',\n",
    "                                      'catcode__lob_lobbying','source__lob_lobbying','self__lob_lobbying','includensfs__lob_lobbying','use__lob_lobbying',\n",
    "                                      'ind__lob_lobbying', 'year__lob_lobbying', 'type__lob_lobbying', 'typelong__lob_lobbying', 'affiliate__lob_lobbying'])\n",
    "    print(\"Finished.\")\n",
    "\n",
    "showdf(df_lob_lobbying)"
   ]
  },
  {
   "cell_type": "markdown",
   "id": "35d3874e-38be-47ab-bdfb-2d93187591b9",
   "metadata": {},
   "source": [
    "#### lob_lobbyist"
   ]
  },
  {
   "cell_type": "code",
   "execution_count": null,
   "id": "9bfb3697-bb91-45f9-9995-b67200f4f688",
   "metadata": {},
   "outputs": [],
   "source": [
    "# OpenSecrets Data Definition for Lobbyists\n",
    "# https://www.opensecrets.org/resources/datadictionary/Data%20Dictionary%20lob_lobbyists.htm\n",
    "try:\n",
    "    df_lob_lobbyist.head()\n",
    "except NameError:\n",
    "    print(\"Creating dataframe...\")\n",
    "    df_lob_lobbyist = pd.read_csv('../../data/open_secrets/Lobby/lob_lobbyist.txt', \n",
    "                               quotechar='|', \n",
    "                               sep=',', \n",
    "                               encoding='ISO-8859-1',\n",
    "                               header=None,\n",
    "                               names=['uniqid__lob_lobbyist', 'lobbyist_lastname_std__lob_lobbyist', 'lobbyist_firstname_std__lob_lobbyist', 'lobbyist_lastname_raw__lob_lobbyist', \n",
    "                                      'lobbyist_firstname_raw__lob_lobbyist', 'lobbyist_id__lob_lobbyist', 'year__lob_lobbyist', 'officialposition__lob_lobbyist', 'cid__lob_lobbyist', 'formercongmem__lob_lobbyist'])\n",
    "    print(\"Finished.\")\n",
    "\n",
    "showdf(df_lob_lobbyist)"
   ]
  },
  {
   "cell_type": "markdown",
   "id": "e728e719-18e9-443a-9411-37030071eed2",
   "metadata": {},
   "source": [
    "#### lob_rpt"
   ]
  },
  {
   "cell_type": "code",
   "execution_count": null,
   "id": "a41adcd4-16c9-40a7-a129-003b8bb20584",
   "metadata": {},
   "outputs": [],
   "source": [
    "# OpenSecrets Data Definitions for Lobbying Data: Report types\n",
    "# No documentation provided on OpenSecrets.com\n",
    "try:\n",
    "    df_lob_rpt.head()\n",
    "except NameError:\n",
    "    print(\"Creating dataframe...\")\n",
    "    df_lob_rpt = pd.read_csv('../../data/open_secrets/Lobby/lob_rpt.txt', \n",
    "                               quotechar='|', \n",
    "                               sep=',', \n",
    "                               encoding='ISO-8859-1',\n",
    "                               header=None,\n",
    "                               names=['typelong__lob_rpt', 'typeshort__lob_rpt'])\n",
    "    print(\"Finished.\")\n",
    "\n",
    "showdf(df_lob_rpt)"
   ]
  },
  {
   "cell_type": "markdown",
   "id": "e50242f1-ae31-424f-840c-6bc3909ce73b",
   "metadata": {},
   "source": [
    "### IDs and categories"
   ]
  },
  {
   "cell_type": "markdown",
   "id": "228d0a84-4800-4933-a3d5-53d86134bbd1",
   "metadata": {},
   "source": [
    "#### CRP_ID"
   ]
  },
  {
   "cell_type": "code",
   "execution_count": null,
   "id": "64023e77-2070-4434-91e0-76095ad6cb97",
   "metadata": {},
   "outputs": [],
   "source": [
    "install_if_needed('xlrd')\n",
    "import xlrd"
   ]
  },
  {
   "cell_type": "code",
   "execution_count": null,
   "id": "87c143fb-27fc-4fb7-9a40-85b811d8ba25",
   "metadata": {},
   "outputs": [],
   "source": [
    "# Candidate ids\n",
    "# This dataset is very different, so load it independently.\n",
    "columns_crp_ids = ['blank_excel_column__crp_ids', 'cid__crp_ids', 'crpname__crp_ids', 'party__crp_ids', 'distidrunfor__crp_ids', 'feccandid__crp_ids'] # Blank excel column is necessary.\n",
    "columns_crp_ids = dict(enumerate(columns_crp_ids))\n",
    "df_crp_ids = pd.read_excel('../../data/open_secrets/CRP_IDs.xls', header=None, skiprows=15)\n",
    "df_crp_ids = df_crp_ids.drop(df_crp_ids.columns[0], axis=1)\n",
    "df_crp_ids = df_crp_ids.rename(columns=columns_crp_ids)"
   ]
  },
  {
   "cell_type": "code",
   "execution_count": null,
   "id": "cd969fed-15d0-41ba-952d-651504453e03",
   "metadata": {},
   "outputs": [],
   "source": [
    "showdf(df_crp_ids)"
   ]
  },
  {
   "cell_type": "markdown",
   "id": "aa3585e1-ad2e-4aa9-b93a-2590564bfd97",
   "metadata": {},
   "source": [
    "#### CRP_Categories"
   ]
  },
  {
   "cell_type": "code",
   "execution_count": null,
   "id": "45aa276e-f8c5-48d7-ae32-fee63955346c",
   "metadata": {},
   "outputs": [],
   "source": [
    "from io import StringIO\n",
    "crp_filepath = '../../data/open_secrets/CRP_Categories.txt'\n",
    "with open(crp_filepath, 'r') as file:\n",
    "    lines = file.readlines()\n",
    "\n",
    "header_line_index = next(i for i, line in enumerate(lines) if line.startswith('Catcode'))\n",
    "table_data = ''.join(lines[header_line_index:])\n",
    "df_crp_cats = pd.read_csv(StringIO(table_data), sep='\\t')\n",
    "df_crp_cats.columns = df_crp_cats.columns.str.lower().str.replace(' ', '_')\n",
    "df_crp_cats.columns = [col + '__crp_cats' for col in df_crp_cats.columns]"
   ]
  },
  {
   "cell_type": "code",
   "execution_count": null,
   "id": "7348a288-706b-4069-9996-22076f84e844",
   "metadata": {},
   "outputs": [],
   "source": [
    "showdf(df_crp_cats)"
   ]
  }
 ],
 "metadata": {
  "kernelspec": {
   "display_name": "Python 3 (ipykernel)",
   "language": "python",
   "name": "python3"
  },
  "language_info": {
   "codemirror_mode": {
    "name": "ipython",
    "version": 3
   },
   "file_extension": ".py",
   "mimetype": "text/x-python",
   "name": "python",
   "nbconvert_exporter": "python",
   "pygments_lexer": "ipython3",
   "version": "3.12.2"
  }
 },
 "nbformat": 4,
 "nbformat_minor": 5
}
