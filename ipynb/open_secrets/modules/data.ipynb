{
 "cells": [
  {
   "cell_type": "code",
   "execution_count": null,
   "id": "1bccc241-4dd4-478e-bda4-ca6f3c20563d",
   "metadata": {},
   "outputs": [],
   "source": [
    "print(\"Loading data module...\")"
   ]
  },
  {
   "cell_type": "code",
   "execution_count": null,
   "id": "49dd10d2-ca6d-4cac-b7f6-cfccf30bc65f",
   "metadata": {},
   "outputs": [],
   "source": [
    "def create_dataframe(filepath, columns, nrows=1e100):\n",
    "    # Load data from an OpenSecrets csv file and\n",
    "    # clean up the data consistently.\n",
    "\n",
    "    print(\"Creating dataframe...\")\n",
    "\n",
    "    columns = dict(enumerate(columns))\n",
    "    df = pd.read_csv(filepath, nrows=nrows, on_bad_lines='skip', sep=',', header=None, \n",
    "                     na_values=['N/A', 'NA'], encoding='ISO-8859-1')\n",
    "    df = df.rename(columns=columns)\n",
    "    \n",
    "    # Remove pipes surrounding data.\n",
    "    df = df.applymap(lambda x: x.replace('|', '') if type(x) == str else x)\n",
    "\n",
    "    # Type casting. Do not include EINs, some are alphnumeric for candidates.\n",
    "    df['active'] = df['active'].apply(lambda x: int(x)) if 'active' in df.columns else None #cmtes22\n",
    "    df['cycle'] = df['cycle'].apply(lambda x: int(x)) if 'cycle' in df.columns else None #cands22, cmtes527\n",
    "    df['fecrecno'] = df['fecrecno'].apply(lambda x: int(x)) if 'fecrecno' in df.columns else None #df_pac_other22\n",
    "    df['fectransid'] = df['fectransid'].apply(lambda x: int(x)) if 'fectransid' in df.columns else None # indivs22\n",
    "    df['foreign'] = df['foreign'].apply(lambda x: int(x)) if 'foreign' in df.columns else None #cmtes22\n",
    "\n",
    "    # Other cleanup.\n",
    "    filename = os.path.basename(filepath)\n",
    "    \n",
    "    if 'date' in df.columns:\n",
    "        if filename == 'indivs22.csv':\n",
    "            df['date'] = df['date'][:9]\n",
    "        df['date'] = pd.to_datetime(df['date'], format='%m/%d/%Y', errors='coerce')\n",
    "        if filename == 'pac_other22.csv':\n",
    "            df = df.dropna(subset=['date'])\n",
    "\n",
    "    if 'microfilm' in df.columns:\n",
    "        df['microfilm'] = df['microfilm'].fillna(0)\n",
    "        df['microfilm'] = df['microfilm'].apply(lambda x: 0 if x == '' or not str(x).isdigit() else int(x))\n",
    "\n",
    "    print(\"dataframe created...\")\n",
    "    \n",
    "    return df"
   ]
  },
  {
   "cell_type": "code",
   "execution_count": null,
   "id": "9ee32c2e-fd39-48a0-bd1b-7ff4f977a875",
   "metadata": {},
   "outputs": [],
   "source": [
    "print(\"...data module loaded.\")"
   ]
  }
 ],
 "metadata": {
  "kernelspec": {
   "display_name": "Python 3 (ipykernel)",
   "language": "python",
   "name": "python3"
  },
  "language_info": {
   "codemirror_mode": {
    "name": "ipython",
    "version": 3
   },
   "file_extension": ".py",
   "mimetype": "text/x-python",
   "name": "python",
   "nbconvert_exporter": "python",
   "pygments_lexer": "ipython3",
   "version": "3.12.7"
  }
 },
 "nbformat": 4,
 "nbformat_minor": 5
}
