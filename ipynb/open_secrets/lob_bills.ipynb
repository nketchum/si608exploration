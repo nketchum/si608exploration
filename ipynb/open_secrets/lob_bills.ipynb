{
 "cells": [
  {
   "cell_type": "code",
   "execution_count": 14,
   "id": "83cf4882-8d63-45f4-9bcf-5cd999ff188b",
   "metadata": {},
   "outputs": [],
   "source": [
    "import pandas as pd\n",
    "import numpy as np"
   ]
  },
  {
   "cell_type": "code",
   "execution_count": 15,
   "id": "b7c5478b-456b-4efd-b6bb-17c2169880c2",
   "metadata": {},
   "outputs": [],
   "source": [
    "# Dataset description:\n",
    "# https://www.opensecrets.org/resources/datadictionary/Data%20Dictionary%20lob_bills.htm\n",
    "columns_lob_bills = ['b_id', 'si_id', 'congno', 'bill_name']\n",
    "\n",
    "columns_lob_bills = dict(enumerate(columns_lob_bills))"
   ]
  },
  {
   "cell_type": "code",
   "execution_count": 18,
   "id": "10f63528-e545-4df5-a0c4-763763bfbce2",
   "metadata": {},
   "outputs": [],
   "source": [
    "df = pd.read_csv('../../data/open_secrets/Lobby/lob_bills.csv', on_bad_lines='skip', sep=',', header=None, na_values=['N/A', 'NA'], encoding='ISO-8859-1')\n",
    "df = df.rename(columns=columns_lob_bills)"
   ]
  },
  {
   "cell_type": "code",
   "execution_count": null,
   "id": "f5e25fa7-a90a-4d31-bdca-c56a0c45aa1f",
   "metadata": {},
   "outputs": [],
   "source": [
    "# Get rid of the pipes on both sides of the data.\n",
    "df = df.applymap(lambda x: x.replace('|', '') if type(x) == str else x)\n",
    "\n",
    "# Other cleanup.\n",
    "df['congno'] = pd.to_numeric(df['congno'], errors='coerce')\n",
    "df = df.dropna(subset=['congno'])\n",
    "df['congno'] = df['congno'].astype(int)"
   ]
  },
  {
   "cell_type": "code",
   "execution_count": 20,
   "id": "084b581b-6c72-40a9-bfcd-e34aa2cf442f",
   "metadata": {},
   "outputs": [
    {
     "data": {
      "text/html": [
       "<div>\n",
       "<style scoped>\n",
       "    .dataframe tbody tr th:only-of-type {\n",
       "        vertical-align: middle;\n",
       "    }\n",
       "\n",
       "    .dataframe tbody tr th {\n",
       "        vertical-align: top;\n",
       "    }\n",
       "\n",
       "    .dataframe thead th {\n",
       "        text-align: right;\n",
       "    }\n",
       "</style>\n",
       "<table border=\"1\" class=\"dataframe\">\n",
       "  <thead>\n",
       "    <tr style=\"text-align: right;\">\n",
       "      <th></th>\n",
       "      <th>b_id</th>\n",
       "      <th>si_id</th>\n",
       "      <th>congno</th>\n",
       "      <th>bill_name</th>\n",
       "    </tr>\n",
       "  </thead>\n",
       "  <tbody>\n",
       "    <tr>\n",
       "      <th>0</th>\n",
       "      <td>s1461-117</td>\n",
       "      <td>2820018</td>\n",
       "      <td>117</td>\n",
       "      <td>S.1461</td>\n",
       "    </tr>\n",
       "    <tr>\n",
       "      <th>1</th>\n",
       "      <td>hr463-117</td>\n",
       "      <td>2820018</td>\n",
       "      <td>117</td>\n",
       "      <td>H.R.463</td>\n",
       "    </tr>\n",
       "    <tr>\n",
       "      <th>2</th>\n",
       "      <td>s910-116</td>\n",
       "      <td>2820035</td>\n",
       "      <td>116</td>\n",
       "      <td>S.910</td>\n",
       "    </tr>\n",
       "    <tr>\n",
       "      <th>3</th>\n",
       "      <td>hr2405-116</td>\n",
       "      <td>2820035</td>\n",
       "      <td>116</td>\n",
       "      <td>H.R.2405</td>\n",
       "    </tr>\n",
       "    <tr>\n",
       "      <th>4</th>\n",
       "      <td>hr3816-117</td>\n",
       "      <td>2820067</td>\n",
       "      <td>117</td>\n",
       "      <td>H.R.3816</td>\n",
       "    </tr>\n",
       "    <tr>\n",
       "      <th>...</th>\n",
       "      <td>...</td>\n",
       "      <td>...</td>\n",
       "      <td>...</td>\n",
       "      <td>...</td>\n",
       "    </tr>\n",
       "    <tr>\n",
       "      <th>7262023</th>\n",
       "      <td>s1169-117</td>\n",
       "      <td>3048344</td>\n",
       "      <td>117</td>\n",
       "      <td>S.1169</td>\n",
       "    </tr>\n",
       "    <tr>\n",
       "      <th>7262024</th>\n",
       "      <td>hr4521-117</td>\n",
       "      <td>3048344</td>\n",
       "      <td>117</td>\n",
       "      <td>H.R.4521</td>\n",
       "    </tr>\n",
       "    <tr>\n",
       "      <th>7262025</th>\n",
       "      <td>hr7072-117</td>\n",
       "      <td>3048361</td>\n",
       "      <td>117</td>\n",
       "      <td>H.R.7072</td>\n",
       "    </tr>\n",
       "    <tr>\n",
       "      <th>7262026</th>\n",
       "      <td>s4373-117</td>\n",
       "      <td>3048361</td>\n",
       "      <td>117</td>\n",
       "      <td>S.4373</td>\n",
       "    </tr>\n",
       "    <tr>\n",
       "      <th>7262027</th>\n",
       "      <td>s586-117</td>\n",
       "      <td>3048375</td>\n",
       "      <td>117</td>\n",
       "      <td>S.586</td>\n",
       "    </tr>\n",
       "  </tbody>\n",
       "</table>\n",
       "<p>7238305 rows × 4 columns</p>\n",
       "</div>"
      ],
      "text/plain": [
       "               b_id    si_id  congno bill_name\n",
       "0         s1461-117  2820018     117    S.1461\n",
       "1         hr463-117  2820018     117   H.R.463\n",
       "2          s910-116  2820035     116     S.910\n",
       "3        hr2405-116  2820035     116  H.R.2405\n",
       "4        hr3816-117  2820067     117  H.R.3816\n",
       "...             ...      ...     ...       ...\n",
       "7262023   s1169-117  3048344     117    S.1169\n",
       "7262024  hr4521-117  3048344     117  H.R.4521\n",
       "7262025  hr7072-117  3048361     117  H.R.7072\n",
       "7262026   s4373-117  3048361     117    S.4373\n",
       "7262027    s586-117  3048375     117     S.586\n",
       "\n",
       "[7238305 rows x 4 columns]"
      ]
     },
     "execution_count": 20,
     "metadata": {},
     "output_type": "execute_result"
    }
   ],
   "source": [
    "pd.options.display.max_columns = None\n",
    "df"
   ]
  },
  {
   "cell_type": "code",
   "execution_count": null,
   "id": "a477b346-fe1f-4b48-beb7-ad3d7d2df512",
   "metadata": {},
   "outputs": [],
   "source": []
  }
 ],
 "metadata": {
  "kernelspec": {
   "display_name": ".venv",
   "language": "python",
   "name": "python3"
  },
  "language_info": {
   "codemirror_mode": {
    "name": "ipython",
    "version": 3
   },
   "file_extension": ".py",
   "mimetype": "text/x-python",
   "name": "python",
   "nbconvert_exporter": "python",
   "pygments_lexer": "ipython3",
   "version": "3.8.5"
  }
 },
 "nbformat": 4,
 "nbformat_minor": 5
}
