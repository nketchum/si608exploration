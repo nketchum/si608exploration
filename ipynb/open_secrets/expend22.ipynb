{
 "cells": [
  {
   "cell_type": "code",
   "execution_count": null,
   "id": "2fe15229-ef28-4dc6-825d-61f35f579206",
   "metadata": {},
   "outputs": [],
   "source": [
    "import pandas as pd"
   ]
  },
  {
   "cell_type": "code",
   "execution_count": null,
   "id": "3c370791-e767-4f30-a37b-0970c5a8b658",
   "metadata": {},
   "outputs": [],
   "source": [
    "# Dataset description:\n",
    "# https://www.opensecrets.org/resources/datadictionary/Data%20Dictionary%20Expenditures.htm\n",
    "columns_expends22 = ['cycle', 'id', 'transid', 'crpfilerid', \n",
    "                     'recipcode', 'pacshort', 'crprecipname', \n",
    "                     'expcode', 'amount', 'date', 'city', 'state', \n",
    "                     'zip', 'cmteid_ef', 'candid', 'type',\n",
    "                     'descrip', 'pg', 'elecother', 'enttype',\n",
    "                     'source']\n",
    "\n",
    "columns_expends22 = dict(enumerate(columns_expends22))"
   ]
  },
  {
   "cell_type": "code",
   "execution_count": null,
   "id": "73b0491d-a368-4fde-ad62-8f897c149f4c",
   "metadata": {},
   "outputs": [],
   "source": [
    "df = pd.read_csv('../../data/open_secrets/Expend22/expends22.csv', nrows=10000, on_bad_lines='skip', sep=',', header=None, na_values=['N/A', 'NA'])\n",
    "df = df.rename(columns=columns_expends22)"
   ]
  },
  {
   "cell_type": "code",
   "execution_count": null,
   "id": "9d60fde8-5597-421d-a839-e073094dbe08",
   "metadata": {},
   "outputs": [],
   "source": [
    "# Get rid of the pipes on both sides of the data.\n",
    "df = df.map(lambda x: x.replace('|', '') if type(x) == str else x)\n",
    "\n",
    "# Other cleanup.\n",
    "df[['cycle', 'id', 'amount']] = df[['cycle', 'id', 'amount']].astype(int)\n",
    "df['date'] = pd.to_datetime(df['date'])"
   ]
  },
  {
   "cell_type": "code",
   "execution_count": null,
   "id": "de3c3c8e-7df7-49b5-8944-96162e13c231",
   "metadata": {},
   "outputs": [],
   "source": [
    "# Look only at large amounts.\n",
    "df = df[df['amount'] >= 250000]\n",
    "df_sorted = df.sort_values(by='amount', ascending=False)\n",
    "df_sorted = df.reset_index(drop=True)"
   ]
  },
  {
   "cell_type": "code",
   "execution_count": null,
   "id": "e711c1cb-e884-46f3-a781-92fa2bb28ef8",
   "metadata": {},
   "outputs": [],
   "source": [
    "pd.options.display.max_columns = None\n",
    "df_sorted"
   ]
  },
  {
   "cell_type": "code",
   "execution_count": null,
   "id": "13905c0c-f52c-4ceb-93ae-e7d179a98e3a",
   "metadata": {},
   "outputs": [],
   "source": []
  }
 ],
 "metadata": {
  "kernelspec": {
   "display_name": "Python 3 (ipykernel)",
   "language": "python",
   "name": "python3"
  },
  "language_info": {
   "codemirror_mode": {
    "name": "ipython",
    "version": 3
   },
   "file_extension": ".py",
   "mimetype": "text/x-python",
   "name": "python",
   "nbconvert_exporter": "python",
   "pygments_lexer": "ipython3",
   "version": "3.12.4"
  }
 },
 "nbformat": 4,
 "nbformat_minor": 5
}
