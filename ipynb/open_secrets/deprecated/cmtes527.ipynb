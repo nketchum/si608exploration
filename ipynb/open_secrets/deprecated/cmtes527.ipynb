{
 "cells": [
  {
   "cell_type": "code",
   "execution_count": null,
   "id": "83cf4882-8d63-45f4-9bcf-5cd999ff188b",
   "metadata": {},
   "outputs": [],
   "source": [
    "import pandas as pd\n",
    "import numpy as np"
   ]
  },
  {
   "cell_type": "code",
   "execution_count": null,
   "id": "b7c5478b-456b-4efd-b6bb-17c2169880c2",
   "metadata": {},
   "outputs": [],
   "source": [
    "# Dataset description:\n",
    "# https://www.opensecrets.org/resources/datadictionary/Data%20Dictionary%20527%20Cmtes.htm\n",
    "columns_cmtes527 = ['cycle', 'rpt', 'ein', 'crp527name', 'affiliate', 'ultorg', \n",
    "                    'recipcode', 'cmteid', 'cid', 'eccmteid', 'party', \n",
    "                    'primcode', 'source', 'ffreq', 'ctype', 'csource', 'viewpt',\n",
    "                    'comments', 'state']\n",
    "columns_cmtes527 = dict(enumerate(columns_cmtes527))"
   ]
  },
  {
   "cell_type": "code",
   "execution_count": null,
   "id": "10f63528-e545-4df5-a0c4-763763bfbce2",
   "metadata": {},
   "outputs": [],
   "source": [
    "df = pd.read_csv('../../../data/open_secrets/527/cmtes527.csv', on_bad_lines='skip', sep=',', header=None, na_values=['N/A', 'NA'])\n",
    "df = df.rename(columns=columns_cmtes527)"
   ]
  },
  {
   "cell_type": "code",
   "execution_count": null,
   "id": "c34d933c-2e01-40b6-841c-52153b6bb609",
   "metadata": {},
   "outputs": [],
   "source": [
    "# Get rid of the pipes on both sides of the data.\n",
    "df = df.applymap(lambda x: x.replace('|', '') if type(x) == str else x)\n",
    "\n",
    "# Other cleanup.\n",
    "df['cycle'] = df['cycle'].apply(lambda x: int(x))\n",
    "df['ein'] = df['ein'].apply(lambda x: int(x))"
   ]
  },
  {
   "cell_type": "code",
   "execution_count": null,
   "id": "8ce28b48-83aa-4cb3-9f70-fb0f88bbc704",
   "metadata": {},
   "outputs": [],
   "source": [
    "df_recent = df[df['cycle'] >= 2014]\n",
    "df_recent = df_recent.reset_index(drop=True)"
   ]
  },
  {
   "cell_type": "code",
   "execution_count": null,
   "id": "cdd96cfb-6537-4b3e-aeda-f1e884345976",
   "metadata": {},
   "outputs": [],
   "source": [
    "pd.options.display.max_columns = None\n",
    "df_recent"
   ]
  },
  {
   "cell_type": "code",
   "execution_count": null,
   "id": "084b581b-6c72-40a9-bfcd-e34aa2cf442f",
   "metadata": {},
   "outputs": [],
   "source": [
    "# Brian D Goldberg's non-mutable candidate id.\n",
    "# These are his quarterly reports.\n",
    "df_cand = df[df['cid'] == 'N00036203']\n",
    "df_cand"
   ]
  },
  {
   "cell_type": "code",
   "execution_count": null,
   "id": "461489a7-efb5-4f9f-ab39-00f470486ce7",
   "metadata": {},
   "outputs": [],
   "source": [
    "# Brian D Goldberg's election committee id.\n",
    "# Same results as above.\n",
    "df[df['cmteid'] == 'C00558874']"
   ]
  },
  {
   "cell_type": "code",
   "execution_count": null,
   "id": "44f6464d-6820-466a-93d9-1b67d6662e89",
   "metadata": {},
   "outputs": [],
   "source": [
    "# Andre Carson's election committee id.\n",
    "# No results\n",
    "df[df['cmteid'] == 'C00442921']"
   ]
  },
  {
   "cell_type": "code",
   "execution_count": null,
   "id": "cbf93b51-87cb-4d71-b9f5-03612b34188d",
   "metadata": {},
   "outputs": [],
   "source": [
    "df[df['cmteid'] == 'C00401224'] # Act Blue PAC"
   ]
  },
  {
   "cell_type": "code",
   "execution_count": null,
   "id": "99f88866-7f8a-4e68-84e5-0b2117dd5ff3",
   "metadata": {},
   "outputs": [],
   "source": []
  }
 ],
 "metadata": {
  "kernelspec": {
   "display_name": "Python 3 (ipykernel)",
   "language": "python",
   "name": "python3"
  },
  "language_info": {
   "codemirror_mode": {
    "name": "ipython",
    "version": 3
   },
   "file_extension": ".py",
   "mimetype": "text/x-python",
   "name": "python",
   "nbconvert_exporter": "python",
   "pygments_lexer": "ipython3",
   "version": "3.12.7"
  }
 },
 "nbformat": 4,
 "nbformat_minor": 5
}
