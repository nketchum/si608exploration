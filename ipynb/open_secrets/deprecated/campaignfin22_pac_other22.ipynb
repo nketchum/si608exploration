{
 "cells": [
  {
   "cell_type": "code",
   "execution_count": null,
   "id": "83cf4882-8d63-45f4-9bcf-5cd999ff188b",
   "metadata": {},
   "outputs": [],
   "source": [
    "import pandas as pd\n",
    "import numpy as np"
   ]
  },
  {
   "cell_type": "code",
   "execution_count": null,
   "id": "b7c5478b-456b-4efd-b6bb-17c2169880c2",
   "metadata": {},
   "outputs": [],
   "source": [
    "# Dataset description:\n",
    "# https://www.opensecrets.org/resources/datadictionary/Data%20Dictionary%20PAC%20to%20PAC%20Data.htm\n",
    "columns_campfin22_pac_other22 = ['cycle', 'fecrecno', 'filerid', 'donorcmte', 'contriblendtrans', 'city', 'state', \n",
    "                            'zip', 'fecoccemp', 'primcode', 'date', 'amount', 'recipid', 'party', 'otherid',\n",
    "                            'recipcode', 'recipprimcode', 'amend', 'report', 'pg', 'microfilm', 'type',\n",
    "                            'realcode', 'source']\n",
    "columns_campfin22_pac_other22 = dict(enumerate(columns_campfin22_pac_other22))"
   ]
  },
  {
   "cell_type": "code",
   "execution_count": null,
   "id": "10f63528-e545-4df5-a0c4-763763bfbce2",
   "metadata": {},
   "outputs": [],
   "source": [
    "df = pd.read_csv('../../../data/open_secrets/CampaignFin22/pac_other22.csv', on_bad_lines='skip', sep=',', header=None, na_values=['N/A', 'NA'])\n",
    "df = df.rename(columns=columns_campfin22_pac_other22)"
   ]
  },
  {
   "cell_type": "code",
   "execution_count": null,
   "id": "c34d933c-2e01-40b6-841c-52153b6bb609",
   "metadata": {},
   "outputs": [],
   "source": [
    "# Get rid of the pipes on both sides of the data.\n",
    "df = df.applymap(lambda x: x.replace('|', '') if type(x) == str else x)\n",
    "\n",
    "# Other cleanup.\n",
    "df['cycle'] = df['cycle'].apply(lambda x: int(x))\n",
    "df['fecrecno'] = df['fecrecno'].apply(lambda x: int(x))\n",
    "\n",
    "df['date'] = pd.to_datetime(df['date'], format='%m/%d/%Y', errors='coerce')\n",
    "df = df.dropna(subset=['date'])\n",
    "\n",
    "df['microfilm'] = df['microfilm'].fillna(0)\n",
    "df['microfilm'] = df['microfilm'].apply(lambda x: 0 if x == '' else int(x))"
   ]
  },
  {
   "cell_type": "code",
   "execution_count": null,
   "id": "3f79e6dd-2223-4f30-b531-4b0708d90fc4",
   "metadata": {},
   "outputs": [],
   "source": [
    "pd.options.display.max_columns = None\n",
    "df"
   ]
  },
  {
   "cell_type": "code",
   "execution_count": null,
   "id": "b92f8a3d-2d26-454c-8fc4-d7e091c32157",
   "metadata": {},
   "outputs": [],
   "source": []
  }
 ],
 "metadata": {
  "kernelspec": {
   "display_name": "Python 3 (ipykernel)",
   "language": "python",
   "name": "python3"
  },
  "language_info": {
   "codemirror_mode": {
    "name": "ipython",
    "version": 3
   },
   "file_extension": ".py",
   "mimetype": "text/x-python",
   "name": "python",
   "nbconvert_exporter": "python",
   "pygments_lexer": "ipython3",
   "version": "3.12.7"
  }
 },
 "nbformat": 4,
 "nbformat_minor": 5
}
