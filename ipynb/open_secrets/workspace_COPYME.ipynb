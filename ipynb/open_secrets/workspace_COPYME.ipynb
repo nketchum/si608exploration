{
 "cells": [
  {
   "cell_type": "markdown",
   "id": "7afacead-3850-4449-8769-58ce13d7092c",
   "metadata": {},
   "source": [
    "# SI 608 Project – Workspace\n",
    "<span style=\"font-size: 18px;\">General scratchpad workspace that preloads all the dataframes.</span>\n",
    "<br>See <code>./modules</code> to review how libraries are installed and imported, as well as where the data is loaded, cleaned, and formatted. This is only here as a helpful tool, make a copy and do whatever you'd like. Or don't use this at all if that's preferable.\n",
    "\n",
    "[OpenSecrets Data Dictionary Index](../../docs/open_source_data_dictionary.md)\n",
    "<br><small><em>(View the index with markdown preview)</em></small>"
   ]
  },
  {
   "cell_type": "markdown",
   "id": "5eaecaf6-03ea-4232-966a-3ffe9bd15529",
   "metadata": {},
   "source": [
    "## Environment"
   ]
  },
  {
   "cell_type": "markdown",
   "id": "e844f9c6-ac9b-424c-a465-f4f3eb5e687c",
   "metadata": {},
   "source": [
    "#### Settings\n",
    "Configure certain behaviors in this notebook."
   ]
  },
  {
   "cell_type": "code",
   "execution_count": 5,
   "id": "b4f4774c-9011-4819-81fc-342611db2a3a",
   "metadata": {},
   "outputs": [],
   "source": [
    "DISPLAY_DF = True # for showdf() -> df.head()\n",
    "SAVE_DF = True # for to_csv() -> pd.to_csv()"
   ]
  },
  {
   "cell_type": "markdown",
   "id": "bb49c737-37ae-4c27-9f68-dfd69c537631",
   "metadata": {},
   "source": [
    "#### Initialize\n",
    "Init file contains helper functions used throughout the project."
   ]
  },
  {
   "cell_type": "code",
   "execution_count": 7,
   "id": "e9fe3e1f-9c7c-4629-b11f-0d84cf0b7e79",
   "metadata": {},
   "outputs": [
    {
     "name": "stdout",
     "output_type": "stream",
     "text": [
      "Initializing project...\n",
      "pandas is already installed.\n",
      "matplotlib is already installed.\n",
      "networkx is already installed.\n",
      "numpy is already installed.\n",
      "...initialization complete.\n"
     ]
    }
   ],
   "source": [
    "%run modules/init.ipynb"
   ]
  },
  {
   "cell_type": "markdown",
   "id": "06ef431d-e62a-4939-8e87-c3872ff74289",
   "metadata": {},
   "source": [
    "#### Datasets\n",
    "\n",
    "This module provides a single function for all of the *contribution* data from OpenSecrets."
   ]
  },
  {
   "cell_type": "code",
   "execution_count": 9,
   "id": "a202191c-e3f4-4b79-b025-d5117db102a0",
   "metadata": {},
   "outputs": [
    {
     "name": "stdout",
     "output_type": "stream",
     "text": [
      "Loading data module...\n",
      "...data module loaded.\n"
     ]
    }
   ],
   "source": [
    "%run modules/data.ipynb"
   ]
  },
  {
   "cell_type": "markdown",
   "id": "e743863c-9450-4e0a-abe7-07cb9fc1e480",
   "metadata": {},
   "source": [
    "---\n",
    "## Data"
   ]
  },
  {
   "cell_type": "markdown",
   "id": "a7671134-874c-49d0-b74e-30804f9f473f",
   "metadata": {},
   "source": [
    "### 527 data"
   ]
  },
  {
   "cell_type": "markdown",
   "id": "51a40058-51ad-4ff6-bfab-fa6f77fe5067",
   "metadata": {},
   "source": [
    "#### cmtes527"
   ]
  },
  {
   "cell_type": "code",
   "execution_count": 13,
   "id": "afb6d4dc-2a67-46a4-a94c-80bd17ed7095",
   "metadata": {},
   "outputs": [],
   "source": [
    "# OpenSecrets Data Definition: 527 Committees\n",
    "# https://www.opensecrets.org/resources/datadictionary/Data%20Dictionary%20527%20Cmtes.htm\n",
    "columns_cmtes527 = ['cycle', 'rpt', 'ein', 'crp527name', 'affiliate', 'ultorg', \n",
    "                    'recipcode', 'cmteid', 'cid', 'eccmteid', 'party', \n",
    "                    'primcode', 'source', 'ffreq', 'ctype', 'csource', 'viewpt',\n",
    "                    'comments', 'state']\n",
    "\n",
    "if not os.path.exists('../../data/open_secrets/527/cmtes527.csv'):\n",
    "    process_data('../../data/open_secrets/527/cmtes527.txt', n_expected_fields=len(columns_cmtes527), headers=columns_cmtes527, show_errs=False)\n",
    "\n",
    "df_cmtes527 = pd.read_csv('../../data/open_secrets/527/cmtes527.csv', on_bad_lines='skip')"
   ]
  },
  {
   "cell_type": "code",
   "execution_count": 14,
   "id": "dfc3adbc-e8d7-4355-9834-274bcd3cefed",
   "metadata": {},
   "outputs": [
    {
     "data": {
      "text/html": [
       "<div>\n",
       "<style scoped>\n",
       "    .dataframe tbody tr th:only-of-type {\n",
       "        vertical-align: middle;\n",
       "    }\n",
       "\n",
       "    .dataframe tbody tr th {\n",
       "        vertical-align: top;\n",
       "    }\n",
       "\n",
       "    .dataframe thead th {\n",
       "        text-align: right;\n",
       "    }\n",
       "</style>\n",
       "<table border=\"1\" class=\"dataframe\">\n",
       "  <thead>\n",
       "    <tr style=\"text-align: right;\">\n",
       "      <th></th>\n",
       "      <th>|2002|</th>\n",
       "      <th>|Q302|</th>\n",
       "      <th>|861006189|</th>\n",
       "      <th>|American Electronics Assn|</th>\n",
       "      <th>||</th>\n",
       "      <th>|American Electronics Assn|.1</th>\n",
       "      <th>|PB|</th>\n",
       "      <th>||.1</th>\n",
       "      <th>||.2</th>\n",
       "      <th>||.3</th>\n",
       "      <th>Unnamed: 10</th>\n",
       "      <th>|C5000|</th>\n",
       "      <th>|WebPN|</th>\n",
       "      <th>|Q|</th>\n",
       "      <th>|F|</th>\n",
       "      <th>Unnamed: 15</th>\n",
       "      <th>|N|</th>\n",
       "      <th>||.4</th>\n",
       "      <th>|AZ|</th>\n",
       "    </tr>\n",
       "  </thead>\n",
       "  <tbody>\n",
       "    <tr>\n",
       "      <th>0</th>\n",
       "      <td>|2008|</td>\n",
       "      <td>|Q308|</td>\n",
       "      <td>|262108560|</td>\n",
       "      <td>|California 2008 GOP Delegation Corporate|</td>\n",
       "      <td>||</td>\n",
       "      <td>|California 2008 GOP Delegation|</td>\n",
       "      <td>|RP|</td>\n",
       "      <td>||</td>\n",
       "      <td>||</td>\n",
       "      <td>||</td>\n",
       "      <td>|R|</td>\n",
       "      <td>|Z5100|</td>\n",
       "      <td>|Name|</td>\n",
       "      <td>|Q|</td>\n",
       "      <td>|F|</td>\n",
       "      <td>||</td>\n",
       "      <td>|C|</td>\n",
       "      <td>||</td>\n",
       "      <td>|CA|</td>\n",
       "    </tr>\n",
       "    <tr>\n",
       "      <th>1</th>\n",
       "      <td>|2000|</td>\n",
       "      <td>|Q400|</td>\n",
       "      <td>|912101097|</td>\n",
       "      <td>|Alabama League of Environmental Action|</td>\n",
       "      <td>||</td>\n",
       "      <td>|Alabama League of Environmental Action|</td>\n",
       "      <td>|PI|</td>\n",
       "      <td>||</td>\n",
       "      <td>||</td>\n",
       "      <td>||</td>\n",
       "      <td>NaN</td>\n",
       "      <td>|JE300|</td>\n",
       "      <td>|Name|</td>\n",
       "      <td>|Q|</td>\n",
       "      <td>|S|</td>\n",
       "      <td>|Name|</td>\n",
       "      <td>|L|</td>\n",
       "      <td>||</td>\n",
       "      <td>|AL|</td>\n",
       "    </tr>\n",
       "    <tr>\n",
       "      <th>2</th>\n",
       "      <td>|2012|</td>\n",
       "      <td>|Q412|</td>\n",
       "      <td>|522257109|</td>\n",
       "      <td>|International Brotherhood of Electrical Workers|</td>\n",
       "      <td>||</td>\n",
       "      <td>|International Brotherhood of Electrical Workers|</td>\n",
       "      <td>|PL|</td>\n",
       "      <td>|C00027342|</td>\n",
       "      <td>||</td>\n",
       "      <td>||</td>\n",
       "      <td>| |</td>\n",
       "      <td>|LC150|</td>\n",
       "      <td>|PAC|</td>\n",
       "      <td>|Q|</td>\n",
       "      <td>|F|</td>\n",
       "      <td>|Name|</td>\n",
       "      <td>|L|</td>\n",
       "      <td>||</td>\n",
       "      <td>|DC|</td>\n",
       "    </tr>\n",
       "  </tbody>\n",
       "</table>\n",
       "</div>"
      ],
      "text/plain": [
       "   |2002|  |Q302|  |861006189|  \\\n",
       "0  |2008|  |Q308|  |262108560|   \n",
       "1  |2000|  |Q400|  |912101097|   \n",
       "2  |2012|  |Q412|  |522257109|   \n",
       "\n",
       "                         |American Electronics Assn|  ||  \\\n",
       "0         |California 2008 GOP Delegation Corporate|  ||   \n",
       "1           |Alabama League of Environmental Action|  ||   \n",
       "2  |International Brotherhood of Electrical Workers|  ||   \n",
       "\n",
       "                       |American Electronics Assn|.1  |PB|         ||.1 ||.2  \\\n",
       "0                   |California 2008 GOP Delegation|  |RP|           ||   ||   \n",
       "1           |Alabama League of Environmental Action|  |PI|           ||   ||   \n",
       "2  |International Brotherhood of Electrical Workers|  |PL|  |C00027342|   ||   \n",
       "\n",
       "  ||.3 Unnamed: 10  |C5000| |WebPN|  |Q|  |F| Unnamed: 15  |N| ||.4  |AZ|  \n",
       "0   ||         |R|  |Z5100|  |Name|  |Q|  |F|          ||  |C|   ||  |CA|  \n",
       "1   ||         NaN  |JE300|  |Name|  |Q|  |S|      |Name|  |L|   ||  |AL|  \n",
       "2   ||         | |  |LC150|   |PAC|  |Q|  |F|      |Name|  |L|   ||  |DC|  "
      ]
     },
     "execution_count": 14,
     "metadata": {},
     "output_type": "execute_result"
    }
   ],
   "source": [
    "showdf(df_cmtes527)"
   ]
  },
  {
   "cell_type": "markdown",
   "id": "6660cb9e-73b8-4d29-8d13-d0217ee47688",
   "metadata": {},
   "source": [
    "#### expends527"
   ]
  },
  {
   "cell_type": "code",
   "execution_count": 16,
   "id": "cdfaff7b-9cf8-4daa-91e3-78f9c154808c",
   "metadata": {},
   "outputs": [],
   "source": [
    "# OpenSecrets Data Dictionary 527 Expenditure Data - from IRS Form 8872B\n",
    "# https://www.opensecrets.org/resources/datadictionary/Data%20Dictionary%20527%20Expenditures.htm\n",
    "columns_expends527 = ['rpt', 'formid', 'schbid', 'orgname', 'ein', 'recipient', \n",
    "                    'recipientcrp', 'amount', 'date', 'expcode', 'source', \n",
    "                    'purpose', 'addr1', 'addr2', 'city', 'state', 'zip',\n",
    "                    'employer', 'occupation']\n",
    "\n",
    "if not os.path.exists('../../data/open_secrets/527/expends527.csv'):\n",
    "    process_data('../../data/open_secrets/527/expends527.txt', nrows=500, headers=columns_expends527, n_expected_fields=len(columns_cmtes527), show_errs=False)\n",
    "\n",
    "df_expends527 = pd.read_csv('../../data/open_secrets/527/expends527.csv', nrows=10000, on_bad_lines='skip')"
   ]
  },
  {
   "cell_type": "code",
   "execution_count": 17,
   "id": "d43cc1d1-1a29-4d9d-ae1b-ce126b87a854",
   "metadata": {},
   "outputs": [
    {
     "data": {
      "text/html": [
       "<div>\n",
       "<style scoped>\n",
       "    .dataframe tbody tr th:only-of-type {\n",
       "        vertical-align: middle;\n",
       "    }\n",
       "\n",
       "    .dataframe tbody tr th {\n",
       "        vertical-align: top;\n",
       "    }\n",
       "\n",
       "    .dataframe thead th {\n",
       "        text-align: right;\n",
       "    }\n",
       "</style>\n",
       "<table border=\"1\" class=\"dataframe\">\n",
       "  <thead>\n",
       "    <tr style=\"text-align: right;\">\n",
       "      <th></th>\n",
       "      <th>|Q210|</th>\n",
       "      <th>|9595787|</th>\n",
       "      <th>|2016057|</th>\n",
       "      <th>|Republican State Leadership Cmte|</th>\n",
       "      <th>|050532524|</th>\n",
       "      <th>|VERIZON|</th>\n",
       "      <th>|Verizon Communications|</th>\n",
       "      <th>125</th>\n",
       "      <th>04/16/2010</th>\n",
       "      <th>|A70|</th>\n",
       "      <th>|@new|</th>\n",
       "      <th>|TELEPHONE|</th>\n",
       "      <th>|PO BOX 660720|</th>\n",
       "      <th>||</th>\n",
       "      <th>|DALLAS|</th>\n",
       "      <th>|TX|</th>\n",
       "      <th>|75266|</th>\n",
       "      <th>|NA|</th>\n",
       "      <th>|NA|.1</th>\n",
       "    </tr>\n",
       "  </thead>\n",
       "  <tbody>\n",
       "    <tr>\n",
       "      <th>0</th>\n",
       "      <td>|Q210|</td>\n",
       "      <td>|9595787|</td>\n",
       "      <td>|2016059|</td>\n",
       "      <td>|Republican State Leadership Cmte|</td>\n",
       "      <td>|050532524|</td>\n",
       "      <td>|VERIZON WIRELESS|</td>\n",
       "      <td>|Verizon Wireless|</td>\n",
       "      <td>141</td>\n",
       "      <td>04/09/2010</td>\n",
       "      <td>|A70|</td>\n",
       "      <td>|@new|</td>\n",
       "      <td>|CELL PHONE|</td>\n",
       "      <td>|PO BOX 25505|</td>\n",
       "      <td>||</td>\n",
       "      <td>|LEHIGH VALLEY|</td>\n",
       "      <td>|PA|</td>\n",
       "      <td>|18002|</td>\n",
       "      <td>|NA|</td>\n",
       "      <td>|NA|</td>\n",
       "    </tr>\n",
       "    <tr>\n",
       "      <th>1</th>\n",
       "      <td>|Q210|</td>\n",
       "      <td>|9595791|</td>\n",
       "      <td>|2016223|</td>\n",
       "      <td>|GOPAC|</td>\n",
       "      <td>|521237780|</td>\n",
       "      <td>|ADP|</td>\n",
       "      <td>|Automatic Data Processing Inc|</td>\n",
       "      <td>414</td>\n",
       "      <td>04/09/2010</td>\n",
       "      <td>|W10|</td>\n",
       "      <td>|@new|</td>\n",
       "      <td>|PAYROLL TAXES|</td>\n",
       "      <td>|8094 SAND PIPER CIRCLE|</td>\n",
       "      <td>||</td>\n",
       "      <td>|WHITE MARSH|</td>\n",
       "      <td>|MD|</td>\n",
       "      <td>|21236|</td>\n",
       "      <td>|NA|</td>\n",
       "      <td>|NA|</td>\n",
       "    </tr>\n",
       "    <tr>\n",
       "      <th>2</th>\n",
       "      <td>|Q210|</td>\n",
       "      <td>|9595791|</td>\n",
       "      <td>|2016225|</td>\n",
       "      <td>|GOPAC|</td>\n",
       "      <td>|521237780|</td>\n",
       "      <td>|ADP|</td>\n",
       "      <td>|Automatic Data Processing Inc|</td>\n",
       "      <td>78</td>\n",
       "      <td>04/23/2010</td>\n",
       "      <td>|W10|</td>\n",
       "      <td>|@new|</td>\n",
       "      <td>|PAYROLL SERVICES|</td>\n",
       "      <td>|8094 SAND PIPER CIRCLE|</td>\n",
       "      <td>||</td>\n",
       "      <td>|WHITE MARSH|</td>\n",
       "      <td>|MD|</td>\n",
       "      <td>|21236|</td>\n",
       "      <td>|NA|</td>\n",
       "      <td>|NA|</td>\n",
       "    </tr>\n",
       "  </tbody>\n",
       "</table>\n",
       "</div>"
      ],
      "text/plain": [
       "   |Q210|  |9595787|  |2016057|  |Republican State Leadership Cmte|  \\\n",
       "0  |Q210|  |9595787|  |2016059|  |Republican State Leadership Cmte|   \n",
       "1  |Q210|  |9595791|  |2016223|                             |GOPAC|   \n",
       "2  |Q210|  |9595791|  |2016225|                             |GOPAC|   \n",
       "\n",
       "   |050532524|           |VERIZON|         |Verizon Communications|  125  \\\n",
       "0  |050532524|  |VERIZON WIRELESS|               |Verizon Wireless|  141   \n",
       "1  |521237780|               |ADP|  |Automatic Data Processing Inc|  414   \n",
       "2  |521237780|               |ADP|  |Automatic Data Processing Inc|   78   \n",
       "\n",
       "   04/16/2010  |A70|  |@new|         |TELEPHONE|           |PO BOX 660720|  \\\n",
       "0  04/09/2010  |A70|  |@new|        |CELL PHONE|            |PO BOX 25505|   \n",
       "1  04/09/2010  |W10|  |@new|     |PAYROLL TAXES|  |8094 SAND PIPER CIRCLE|   \n",
       "2  04/23/2010  |W10|  |@new|  |PAYROLL SERVICES|  |8094 SAND PIPER CIRCLE|   \n",
       "\n",
       "   ||         |DALLAS|  |TX|  |75266|  |NA| |NA|.1  \n",
       "0  ||  |LEHIGH VALLEY|  |PA|  |18002|  |NA|   |NA|  \n",
       "1  ||    |WHITE MARSH|  |MD|  |21236|  |NA|   |NA|  \n",
       "2  ||    |WHITE MARSH|  |MD|  |21236|  |NA|   |NA|  "
      ]
     },
     "execution_count": 17,
     "metadata": {},
     "output_type": "execute_result"
    }
   ],
   "source": [
    "showdf(df_expends527)"
   ]
  },
  {
   "cell_type": "markdown",
   "id": "06120a9a-1840-4b06-9fb3-e47197395c4b",
   "metadata": {},
   "source": [
    "#### rcpts527"
   ]
  },
  {
   "cell_type": "code",
   "execution_count": 19,
   "id": "28618497-1232-44b3-ba69-a5919872f62a",
   "metadata": {},
   "outputs": [],
   "source": [
    "# OpenSecrets Data Dictionary 527 Contribution Data - from IRS Form 8872A\n",
    "# https://www.opensecrets.org/resources/datadictionary/Data%20Dictionary%20527%20Receipts.htm\n",
    "columns_rcpts527 = ['id', 'rpt', 'formid', 'schaid', 'contribid', 'contrib', \n",
    "                    'amount', 'date', 'orgname', 'ultorg', 'realcode', \n",
    "                    'recipid', 'recipcode', 'party', 'recipient', 'city', 'state',\n",
    "                    'zip', 'zip4', 'pmsa', 'employer', 'occupation', 'ytd', 'gender', 'source']\n",
    "\n",
    "if not os.path.exists('../../data/open_secrets/527/rcpts527.csv'):\n",
    "    process_data('../../data/open_secrets/527/rcpts527.txt', nrows=10000, headers=columns_rcpts527, n_expected_fields=len(columns_rcpts527), show_errs=False)\n",
    "\n",
    "df_rcpts527 = pd.read_csv('../../data/open_secrets/527/rcpts527.csv', nrows=10000, on_bad_lines='skip')"
   ]
  },
  {
   "cell_type": "code",
   "execution_count": 20,
   "id": "841db869-d0f2-44ad-a6c6-70e41fe98b93",
   "metadata": {},
   "outputs": [
    {
     "data": {
      "text/html": [
       "<div>\n",
       "<style scoped>\n",
       "    .dataframe tbody tr th:only-of-type {\n",
       "        vertical-align: middle;\n",
       "    }\n",
       "\n",
       "    .dataframe tbody tr th {\n",
       "        vertical-align: top;\n",
       "    }\n",
       "\n",
       "    .dataframe thead th {\n",
       "        text-align: right;\n",
       "    }\n",
       "</style>\n",
       "<table border=\"1\" class=\"dataframe\">\n",
       "  <thead>\n",
       "    <tr style=\"text-align: right;\">\n",
       "      <th></th>\n",
       "      <th>981</th>\n",
       "      <th>|Q210|</th>\n",
       "      <th>|9595837|</th>\n",
       "      <th>|2017490|</th>\n",
       "      <th>||</th>\n",
       "      <th>|WEST LA DEMOCRATIC CLUB|</th>\n",
       "      <th>1</th>\n",
       "      <th>04/18/2010</th>\n",
       "      <th>|West La Democratic Club|</th>\n",
       "      <th>||.1</th>\n",
       "      <th>|Z9600|</th>\n",
       "      <th>|270160261|</th>\n",
       "      <th>|PI|</th>\n",
       "      <th>||.2</th>\n",
       "      <th>|ActBlue Technical Services|</th>\n",
       "      <th>|BURBANK|</th>\n",
       "      <th>|CA|</th>\n",
       "      <th>|91502|</th>\n",
       "      <th>||.3</th>\n",
       "      <th>|4480|</th>\n",
       "      <th>|NA|</th>\n",
       "      <th>|NA|.1</th>\n",
       "      <th>473</th>\n",
       "      <th>||.4</th>\n",
       "      <th>|Rept|</th>\n",
       "    </tr>\n",
       "  </thead>\n",
       "  <tbody>\n",
       "    <tr>\n",
       "      <th>0</th>\n",
       "      <td>982</td>\n",
       "      <td>|Q210|</td>\n",
       "      <td>|9595837|</td>\n",
       "      <td>|2017492|</td>\n",
       "      <td>||</td>\n",
       "      <td>|WINOGRAD FOR CONGRESS 2010|</td>\n",
       "      <td>259</td>\n",
       "      <td>04/18/2010</td>\n",
       "      <td>|Winograd For Congress 2010|</td>\n",
       "      <td>||</td>\n",
       "      <td>|Z9600|</td>\n",
       "      <td>|270160261|</td>\n",
       "      <td>|PI|</td>\n",
       "      <td>||</td>\n",
       "      <td>|ActBlue Technical Services|</td>\n",
       "      <td>|BURBANK|</td>\n",
       "      <td>|CA|</td>\n",
       "      <td>|91502|</td>\n",
       "      <td>||</td>\n",
       "      <td>|4480|</td>\n",
       "      <td>|NA|</td>\n",
       "      <td>|NA|</td>\n",
       "      <td>1049</td>\n",
       "      <td>||</td>\n",
       "      <td>|Rept|</td>\n",
       "    </tr>\n",
       "    <tr>\n",
       "      <th>1</th>\n",
       "      <td>983</td>\n",
       "      <td>|Q210|</td>\n",
       "      <td>|9595837|</td>\n",
       "      <td>|2017387|</td>\n",
       "      <td>||</td>\n",
       "      <td>|FDL ACTION PAC|</td>\n",
       "      <td>4</td>\n",
       "      <td>04/18/2010</td>\n",
       "      <td>|Fdl Action Pac|</td>\n",
       "      <td>||</td>\n",
       "      <td>|Z9600|</td>\n",
       "      <td>|270160261|</td>\n",
       "      <td>|PI|</td>\n",
       "      <td>||</td>\n",
       "      <td>|ActBlue Technical Services|</td>\n",
       "      <td>|WASHINGTON|</td>\n",
       "      <td>|DC|</td>\n",
       "      <td>|20016|</td>\n",
       "      <td>||</td>\n",
       "      <td>|8840|</td>\n",
       "      <td>|NA|</td>\n",
       "      <td>|NA|</td>\n",
       "      <td>1524</td>\n",
       "      <td>||</td>\n",
       "      <td>|Rept|</td>\n",
       "    </tr>\n",
       "    <tr>\n",
       "      <th>2</th>\n",
       "      <td>984</td>\n",
       "      <td>|Q210|</td>\n",
       "      <td>|9595837|</td>\n",
       "      <td>|2017390|</td>\n",
       "      <td>||</td>\n",
       "      <td>|FRANKEN MVPS|</td>\n",
       "      <td>190</td>\n",
       "      <td>04/18/2010</td>\n",
       "      <td>|Franken Mvps|</td>\n",
       "      <td>||</td>\n",
       "      <td>|Z9600|</td>\n",
       "      <td>|270160261|</td>\n",
       "      <td>|PI|</td>\n",
       "      <td>||</td>\n",
       "      <td>|ActBlue Technical Services|</td>\n",
       "      <td>|MINNEAPOLIS|</td>\n",
       "      <td>|MN|</td>\n",
       "      <td>|55458|</td>\n",
       "      <td>||</td>\n",
       "      <td>|5120|</td>\n",
       "      <td>|NA|</td>\n",
       "      <td>|NA|</td>\n",
       "      <td>662</td>\n",
       "      <td>||</td>\n",
       "      <td>|Rept|</td>\n",
       "    </tr>\n",
       "  </tbody>\n",
       "</table>\n",
       "</div>"
      ],
      "text/plain": [
       "   981  |Q210|  |9595837|  |2017490|  ||     |WEST LA DEMOCRATIC CLUB|    1  \\\n",
       "0  982  |Q210|  |9595837|  |2017492|  ||  |WINOGRAD FOR CONGRESS 2010|  259   \n",
       "1  983  |Q210|  |9595837|  |2017387|  ||              |FDL ACTION PAC|    4   \n",
       "2  984  |Q210|  |9595837|  |2017390|  ||                |FRANKEN MVPS|  190   \n",
       "\n",
       "   04/18/2010     |West La Democratic Club| ||.1  |Z9600|  |270160261|  |PI|  \\\n",
       "0  04/18/2010  |Winograd For Congress 2010|   ||  |Z9600|  |270160261|  |PI|   \n",
       "1  04/18/2010              |Fdl Action Pac|   ||  |Z9600|  |270160261|  |PI|   \n",
       "2  04/18/2010                |Franken Mvps|   ||  |Z9600|  |270160261|  |PI|   \n",
       "\n",
       "  ||.2  |ActBlue Technical Services|      |BURBANK|  |CA|  |91502| ||.3  \\\n",
       "0   ||  |ActBlue Technical Services|      |BURBANK|  |CA|  |91502|   ||   \n",
       "1   ||  |ActBlue Technical Services|   |WASHINGTON|  |DC|  |20016|   ||   \n",
       "2   ||  |ActBlue Technical Services|  |MINNEAPOLIS|  |MN|  |55458|   ||   \n",
       "\n",
       "   |4480|  |NA| |NA|.1   473 ||.4  |Rept|  \n",
       "0  |4480|  |NA|   |NA|  1049   ||  |Rept|  \n",
       "1  |8840|  |NA|   |NA|  1524   ||  |Rept|  \n",
       "2  |5120|  |NA|   |NA|   662   ||  |Rept|  "
      ]
     },
     "execution_count": 20,
     "metadata": {},
     "output_type": "execute_result"
    }
   ],
   "source": [
    "showdf(df_rcpts527)"
   ]
  },
  {
   "cell_type": "markdown",
   "id": "9da33756-f35b-4d7c-8931-558884389db3",
   "metadata": {},
   "source": [
    "---\n",
    "### Campaign Finance 18 data\n",
    "#### cands18"
   ]
  },
  {
   "cell_type": "code",
   "execution_count": 52,
   "id": "494cab31-9bef-40f7-8c7c-d468bb649787",
   "metadata": {},
   "outputs": [
    {
     "name": "stdout",
     "output_type": "stream",
     "text": [
      "Reading line 1527 of 7639...\n",
      "Reading line 3054 of 7639...\n",
      "Reading line 4581 of 7639...\n",
      "Reading line 6108 of 7639...\n",
      "Reading line 7635 of 7639...\n",
      "Processed data saved as ../../data/open_secrets/CampaignFin18/cands18_clean.csv\n"
     ]
    },
    {
     "ename": "FileNotFoundError",
     "evalue": "[Errno 2] No such file or directory: '../../data/open_secrets/CampaignFin18/cands18.csv'",
     "output_type": "error",
     "traceback": [
      "\u001b[0;31m---------------------------------------------------------------------------\u001b[0m",
      "\u001b[0;31mFileNotFoundError\u001b[0m                         Traceback (most recent call last)",
      "Cell \u001b[0;32mIn[52], line 10\u001b[0m\n\u001b[1;32m      7\u001b[0m \u001b[38;5;28;01mif\u001b[39;00m \u001b[38;5;129;01mnot\u001b[39;00m os\u001b[38;5;241m.\u001b[39mpath\u001b[38;5;241m.\u001b[39mexists(\u001b[38;5;124m'\u001b[39m\u001b[38;5;124m../../data/open_secrets/CampaignFin18/cands18.csv\u001b[39m\u001b[38;5;124m'\u001b[39m):\n\u001b[1;32m      8\u001b[0m     process_data(\u001b[38;5;124m'\u001b[39m\u001b[38;5;124m../../data/open_secrets/CampaignFin18/cands18.txt\u001b[39m\u001b[38;5;124m'\u001b[39m, headers\u001b[38;5;241m=\u001b[39mcolumns_cands18, n_expected_fields\u001b[38;5;241m=\u001b[39m\u001b[38;5;28mlen\u001b[39m(columns_cands18), show_errs\u001b[38;5;241m=\u001b[39m\u001b[38;5;28;01mFalse\u001b[39;00m)\n\u001b[0;32m---> 10\u001b[0m df_cands18 \u001b[38;5;241m=\u001b[39m pd\u001b[38;5;241m.\u001b[39mread_csv(\u001b[38;5;124m'\u001b[39m\u001b[38;5;124m../../data/open_secrets/CampaignFin18/cands18.csv\u001b[39m\u001b[38;5;124m'\u001b[39m, on_bad_lines\u001b[38;5;241m=\u001b[39m\u001b[38;5;124m'\u001b[39m\u001b[38;5;124mskip\u001b[39m\u001b[38;5;124m'\u001b[39m)\n",
      "File \u001b[0;32m/opt/anaconda3/lib/python3.12/site-packages/pandas/io/parsers/readers.py:1026\u001b[0m, in \u001b[0;36mread_csv\u001b[0;34m(filepath_or_buffer, sep, delimiter, header, names, index_col, usecols, dtype, engine, converters, true_values, false_values, skipinitialspace, skiprows, skipfooter, nrows, na_values, keep_default_na, na_filter, verbose, skip_blank_lines, parse_dates, infer_datetime_format, keep_date_col, date_parser, date_format, dayfirst, cache_dates, iterator, chunksize, compression, thousands, decimal, lineterminator, quotechar, quoting, doublequote, escapechar, comment, encoding, encoding_errors, dialect, on_bad_lines, delim_whitespace, low_memory, memory_map, float_precision, storage_options, dtype_backend)\u001b[0m\n\u001b[1;32m   1013\u001b[0m kwds_defaults \u001b[38;5;241m=\u001b[39m _refine_defaults_read(\n\u001b[1;32m   1014\u001b[0m     dialect,\n\u001b[1;32m   1015\u001b[0m     delimiter,\n\u001b[0;32m   (...)\u001b[0m\n\u001b[1;32m   1022\u001b[0m     dtype_backend\u001b[38;5;241m=\u001b[39mdtype_backend,\n\u001b[1;32m   1023\u001b[0m )\n\u001b[1;32m   1024\u001b[0m kwds\u001b[38;5;241m.\u001b[39mupdate(kwds_defaults)\n\u001b[0;32m-> 1026\u001b[0m \u001b[38;5;28;01mreturn\u001b[39;00m _read(filepath_or_buffer, kwds)\n",
      "File \u001b[0;32m/opt/anaconda3/lib/python3.12/site-packages/pandas/io/parsers/readers.py:620\u001b[0m, in \u001b[0;36m_read\u001b[0;34m(filepath_or_buffer, kwds)\u001b[0m\n\u001b[1;32m    617\u001b[0m _validate_names(kwds\u001b[38;5;241m.\u001b[39mget(\u001b[38;5;124m\"\u001b[39m\u001b[38;5;124mnames\u001b[39m\u001b[38;5;124m\"\u001b[39m, \u001b[38;5;28;01mNone\u001b[39;00m))\n\u001b[1;32m    619\u001b[0m \u001b[38;5;66;03m# Create the parser.\u001b[39;00m\n\u001b[0;32m--> 620\u001b[0m parser \u001b[38;5;241m=\u001b[39m TextFileReader(filepath_or_buffer, \u001b[38;5;241m*\u001b[39m\u001b[38;5;241m*\u001b[39mkwds)\n\u001b[1;32m    622\u001b[0m \u001b[38;5;28;01mif\u001b[39;00m chunksize \u001b[38;5;129;01mor\u001b[39;00m iterator:\n\u001b[1;32m    623\u001b[0m     \u001b[38;5;28;01mreturn\u001b[39;00m parser\n",
      "File \u001b[0;32m/opt/anaconda3/lib/python3.12/site-packages/pandas/io/parsers/readers.py:1620\u001b[0m, in \u001b[0;36mTextFileReader.__init__\u001b[0;34m(self, f, engine, **kwds)\u001b[0m\n\u001b[1;32m   1617\u001b[0m     \u001b[38;5;28mself\u001b[39m\u001b[38;5;241m.\u001b[39moptions[\u001b[38;5;124m\"\u001b[39m\u001b[38;5;124mhas_index_names\u001b[39m\u001b[38;5;124m\"\u001b[39m] \u001b[38;5;241m=\u001b[39m kwds[\u001b[38;5;124m\"\u001b[39m\u001b[38;5;124mhas_index_names\u001b[39m\u001b[38;5;124m\"\u001b[39m]\n\u001b[1;32m   1619\u001b[0m \u001b[38;5;28mself\u001b[39m\u001b[38;5;241m.\u001b[39mhandles: IOHandles \u001b[38;5;241m|\u001b[39m \u001b[38;5;28;01mNone\u001b[39;00m \u001b[38;5;241m=\u001b[39m \u001b[38;5;28;01mNone\u001b[39;00m\n\u001b[0;32m-> 1620\u001b[0m \u001b[38;5;28mself\u001b[39m\u001b[38;5;241m.\u001b[39m_engine \u001b[38;5;241m=\u001b[39m \u001b[38;5;28mself\u001b[39m\u001b[38;5;241m.\u001b[39m_make_engine(f, \u001b[38;5;28mself\u001b[39m\u001b[38;5;241m.\u001b[39mengine)\n",
      "File \u001b[0;32m/opt/anaconda3/lib/python3.12/site-packages/pandas/io/parsers/readers.py:1880\u001b[0m, in \u001b[0;36mTextFileReader._make_engine\u001b[0;34m(self, f, engine)\u001b[0m\n\u001b[1;32m   1878\u001b[0m     \u001b[38;5;28;01mif\u001b[39;00m \u001b[38;5;124m\"\u001b[39m\u001b[38;5;124mb\u001b[39m\u001b[38;5;124m\"\u001b[39m \u001b[38;5;129;01mnot\u001b[39;00m \u001b[38;5;129;01min\u001b[39;00m mode:\n\u001b[1;32m   1879\u001b[0m         mode \u001b[38;5;241m+\u001b[39m\u001b[38;5;241m=\u001b[39m \u001b[38;5;124m\"\u001b[39m\u001b[38;5;124mb\u001b[39m\u001b[38;5;124m\"\u001b[39m\n\u001b[0;32m-> 1880\u001b[0m \u001b[38;5;28mself\u001b[39m\u001b[38;5;241m.\u001b[39mhandles \u001b[38;5;241m=\u001b[39m get_handle(\n\u001b[1;32m   1881\u001b[0m     f,\n\u001b[1;32m   1882\u001b[0m     mode,\n\u001b[1;32m   1883\u001b[0m     encoding\u001b[38;5;241m=\u001b[39m\u001b[38;5;28mself\u001b[39m\u001b[38;5;241m.\u001b[39moptions\u001b[38;5;241m.\u001b[39mget(\u001b[38;5;124m\"\u001b[39m\u001b[38;5;124mencoding\u001b[39m\u001b[38;5;124m\"\u001b[39m, \u001b[38;5;28;01mNone\u001b[39;00m),\n\u001b[1;32m   1884\u001b[0m     compression\u001b[38;5;241m=\u001b[39m\u001b[38;5;28mself\u001b[39m\u001b[38;5;241m.\u001b[39moptions\u001b[38;5;241m.\u001b[39mget(\u001b[38;5;124m\"\u001b[39m\u001b[38;5;124mcompression\u001b[39m\u001b[38;5;124m\"\u001b[39m, \u001b[38;5;28;01mNone\u001b[39;00m),\n\u001b[1;32m   1885\u001b[0m     memory_map\u001b[38;5;241m=\u001b[39m\u001b[38;5;28mself\u001b[39m\u001b[38;5;241m.\u001b[39moptions\u001b[38;5;241m.\u001b[39mget(\u001b[38;5;124m\"\u001b[39m\u001b[38;5;124mmemory_map\u001b[39m\u001b[38;5;124m\"\u001b[39m, \u001b[38;5;28;01mFalse\u001b[39;00m),\n\u001b[1;32m   1886\u001b[0m     is_text\u001b[38;5;241m=\u001b[39mis_text,\n\u001b[1;32m   1887\u001b[0m     errors\u001b[38;5;241m=\u001b[39m\u001b[38;5;28mself\u001b[39m\u001b[38;5;241m.\u001b[39moptions\u001b[38;5;241m.\u001b[39mget(\u001b[38;5;124m\"\u001b[39m\u001b[38;5;124mencoding_errors\u001b[39m\u001b[38;5;124m\"\u001b[39m, \u001b[38;5;124m\"\u001b[39m\u001b[38;5;124mstrict\u001b[39m\u001b[38;5;124m\"\u001b[39m),\n\u001b[1;32m   1888\u001b[0m     storage_options\u001b[38;5;241m=\u001b[39m\u001b[38;5;28mself\u001b[39m\u001b[38;5;241m.\u001b[39moptions\u001b[38;5;241m.\u001b[39mget(\u001b[38;5;124m\"\u001b[39m\u001b[38;5;124mstorage_options\u001b[39m\u001b[38;5;124m\"\u001b[39m, \u001b[38;5;28;01mNone\u001b[39;00m),\n\u001b[1;32m   1889\u001b[0m )\n\u001b[1;32m   1890\u001b[0m \u001b[38;5;28;01massert\u001b[39;00m \u001b[38;5;28mself\u001b[39m\u001b[38;5;241m.\u001b[39mhandles \u001b[38;5;129;01mis\u001b[39;00m \u001b[38;5;129;01mnot\u001b[39;00m \u001b[38;5;28;01mNone\u001b[39;00m\n\u001b[1;32m   1891\u001b[0m f \u001b[38;5;241m=\u001b[39m \u001b[38;5;28mself\u001b[39m\u001b[38;5;241m.\u001b[39mhandles\u001b[38;5;241m.\u001b[39mhandle\n",
      "File \u001b[0;32m/opt/anaconda3/lib/python3.12/site-packages/pandas/io/common.py:873\u001b[0m, in \u001b[0;36mget_handle\u001b[0;34m(path_or_buf, mode, encoding, compression, memory_map, is_text, errors, storage_options)\u001b[0m\n\u001b[1;32m    868\u001b[0m \u001b[38;5;28;01melif\u001b[39;00m \u001b[38;5;28misinstance\u001b[39m(handle, \u001b[38;5;28mstr\u001b[39m):\n\u001b[1;32m    869\u001b[0m     \u001b[38;5;66;03m# Check whether the filename is to be opened in binary mode.\u001b[39;00m\n\u001b[1;32m    870\u001b[0m     \u001b[38;5;66;03m# Binary mode does not support 'encoding' and 'newline'.\u001b[39;00m\n\u001b[1;32m    871\u001b[0m     \u001b[38;5;28;01mif\u001b[39;00m ioargs\u001b[38;5;241m.\u001b[39mencoding \u001b[38;5;129;01mand\u001b[39;00m \u001b[38;5;124m\"\u001b[39m\u001b[38;5;124mb\u001b[39m\u001b[38;5;124m\"\u001b[39m \u001b[38;5;129;01mnot\u001b[39;00m \u001b[38;5;129;01min\u001b[39;00m ioargs\u001b[38;5;241m.\u001b[39mmode:\n\u001b[1;32m    872\u001b[0m         \u001b[38;5;66;03m# Encoding\u001b[39;00m\n\u001b[0;32m--> 873\u001b[0m         handle \u001b[38;5;241m=\u001b[39m \u001b[38;5;28mopen\u001b[39m(\n\u001b[1;32m    874\u001b[0m             handle,\n\u001b[1;32m    875\u001b[0m             ioargs\u001b[38;5;241m.\u001b[39mmode,\n\u001b[1;32m    876\u001b[0m             encoding\u001b[38;5;241m=\u001b[39mioargs\u001b[38;5;241m.\u001b[39mencoding,\n\u001b[1;32m    877\u001b[0m             errors\u001b[38;5;241m=\u001b[39merrors,\n\u001b[1;32m    878\u001b[0m             newline\u001b[38;5;241m=\u001b[39m\u001b[38;5;124m\"\u001b[39m\u001b[38;5;124m\"\u001b[39m,\n\u001b[1;32m    879\u001b[0m         )\n\u001b[1;32m    880\u001b[0m     \u001b[38;5;28;01melse\u001b[39;00m:\n\u001b[1;32m    881\u001b[0m         \u001b[38;5;66;03m# Binary mode\u001b[39;00m\n\u001b[1;32m    882\u001b[0m         handle \u001b[38;5;241m=\u001b[39m \u001b[38;5;28mopen\u001b[39m(handle, ioargs\u001b[38;5;241m.\u001b[39mmode)\n",
      "\u001b[0;31mFileNotFoundError\u001b[0m: [Errno 2] No such file or directory: '../../data/open_secrets/CampaignFin18/cands18.csv'"
     ]
    }
   ],
   "source": [
    "# OpenSecrets Data Definition: Candidates\n",
    "# https://www.opensecrets.org/resources/datadictionary/Data%20Dictionary%20Candidates%20Data.htm\n",
    "columns_cands18 = ['cycle', 'feccandid', 'cid', 'firstlastp', 'party', 'distidrunfor', \n",
    "                    'distidcurr', 'currcand', 'cyclecand', 'crpico', 'recipcode', \n",
    "                    'nopacs']\n",
    "\n",
    "if not os.path.exists('../../data/open_secrets/CampaignFin18/cands18.csv'):\n",
    "    process_data('../../data/open_secrets/CampaignFin18/cands18.txt', headers=columns_cands18, n_expected_fields=len(columns_cands18), show_errs=False)\n",
    "\n",
    "df_cands18 = pd.read_csv('../../data/open_secrets/CampaignFin18/cands18.csv', on_bad_lines='skip')\n",
    "\n",
    "# # Remove party labels from names: '3', 'R', 'D', 'I', 'L', 'U', 'i'\n",
    "# df_cands18['firstlast__cands18'] = df_cands18['firstlastp__cands18'].apply(\n",
    "#     lambda x: x.replace(\" (3)\", \"\").replace(\" (R)\", \"\").replace(\" (D)\", \"\").replace(\" (I)\", \"\").replace(\" (L)\", \"\").replace(\" (U)\", \"\").replace(\" (i)\", \"\") if isinstance(x, str) else x\n",
    "# )"
   ]
  },
  {
   "cell_type": "code",
   "execution_count": null,
   "id": "8a31bcb2-4be4-482c-9abb-5951cf6e9007",
   "metadata": {},
   "outputs": [],
   "source": [
    "showdf(df_cands18)"
   ]
  },
  {
   "cell_type": "markdown",
   "id": "aa5e3d4e-aa8f-4aa8-aa68-652f966a10f1",
   "metadata": {},
   "source": [
    "#### cmtes18\n",
    "*All cmtes, lead cmtes, pac cmtes*"
   ]
  },
  {
   "cell_type": "code",
   "execution_count": null,
   "id": "c4361e4d-c853-48a1-99c5-3af34d0c24b0",
   "metadata": {},
   "outputs": [],
   "source": [
    "# OpenSecrets Table Definition: Committee table\n",
    "# https://www.opensecrets.org/resources/datadictionary/Data%20Dictionary%20for%20Cmtes.htm\n",
    "columns_cmtes18 = ['cycle', 'cmteid', 'pacshort', 'affiliate', 'ultorg', 'recipid', \n",
    "                    'recipcode', 'feccandid', 'party', 'primcode', 'source', 'sensitive',\n",
    "                    'foreign', 'active']\n",
    "\n",
    "if not os.path.exists('../../data/open_secrets/CampaignFin18/cmtes18.csv'):\n",
    "    process_data('../../data/open_secrets/CampaignFin18/cmtes18.txt', headers=columns_cmtes18, n_expected_fields=len(columns_cmtes18), show_errs=False)\n",
    "\n",
    "df_cmtes18 = pd.read_csv('../../data/open_secrets/CampaignFin18/cmtes18.csv', on_bad_lines='skip')"
   ]
  },
  {
   "cell_type": "markdown",
   "id": "ad426c28-62d3-4f77-9e9d-dde47cfa2493",
   "metadata": {},
   "source": [
    "**All cmtes**"
   ]
  },
  {
   "cell_type": "code",
   "execution_count": null,
   "id": "6e2a9b32-b6d6-47e0-aa51-deedec5981b4",
   "metadata": {},
   "outputs": [],
   "source": [
    "print(len(df_cmtes18))\n",
    "showdf(df_cmtes18)"
   ]
  },
  {
   "cell_type": "markdown",
   "id": "8c45e857-a42f-4ac9-bb04-b42531dc61e8",
   "metadata": {},
   "source": [
    "**Split lead and non-lead cmtes**"
   ]
  },
  {
   "cell_type": "code",
   "execution_count": null,
   "id": "8b85381c-f91e-4158-b069-95d298293b6e",
   "metadata": {},
   "outputs": [],
   "source": [
    "# I need to get transactions from NOT lead pac to IS lead pac.\n",
    "# Use this column, pacid__pacs18, and lookup if value is a leadpac\n",
    "# Then, remove all pacid__pacs18 that represent leadpacs.\n",
    "df_recipid_cmtes18 = df_cmtes18[['cmteid__cmtes18', 'recipid__cmtes18']]\n",
    "\n",
    "# Lead pac committees pacids, for filtering.\n",
    "df_recipid_lead_cmtes18 = df_recipid_cmtes18[df_recipid_cmtes18['recipid__cmtes18'].str.startswith('N', na=False)]\n",
    "df_recipid_lead_cmtes18 = df_recipid_lead_cmtes18[['cmteid__cmtes18']]\n",
    "\n",
    "# Non-lead pac committees pacids, for filtering.\n",
    "df_recipid_pac_cmtes18 = df_recipid_cmtes18[df_recipid_cmtes18['recipid__cmtes18'].str.startswith('C', na=False)]\n",
    "df_recipid_pac_cmtes18 = df_recipid_pac_cmtes18[['cmteid__cmtes18']]"
   ]
  },
  {
   "cell_type": "code",
   "execution_count": null,
   "id": "4e6483fa-2d86-409a-8e64-d1dc5a7c2b38",
   "metadata": {},
   "outputs": [],
   "source": [
    "# Lead pac committees (filtered).\n",
    "df_lead_cmtes18 = df_cmtes18[df_cmtes18['cmteid__cmtes18'].isin(df_recipid_lead_cmtes18['cmteid__cmtes18'])]\n",
    "df_lead_cmtes18.columns = df_lead_cmtes18.columns.str.replace(r'(.*?)__(.*)', r'\\1_lead__\\2', regex=True)\n",
    "print(len(df_lead_cmtes18))\n",
    "showdf(df_lead_cmtes18)"
   ]
  },
  {
   "cell_type": "code",
   "execution_count": null,
   "id": "0a4a244c-a286-489c-84a7-30e95f85fc9c",
   "metadata": {},
   "outputs": [],
   "source": [
    "# Non-lead pac committees (filtered).\n",
    "df_pac_cmtes18 = df_cmtes18[df_cmtes18['cmteid__cmtes18'].isin(df_recipid_pac_cmtes18['cmteid__cmtes18'])]\n",
    "df_pac_cmtes18.columns = df_pac_cmtes18.columns.str.replace(r'(.*?)__(.*)', r'\\1_pac__\\2', regex=True)\n",
    "print(len(df_pac_cmtes18))\n",
    "showdf(df_pac_cmtes18)"
   ]
  },
  {
   "cell_type": "markdown",
   "id": "643cb0c5-c561-416c-9c18-42b586890dcd",
   "metadata": {},
   "source": [
    "#### pac_other18 – pacs to pacs\n",
    "*All pacs, pac-to-pac, pac-to-cand*"
   ]
  },
  {
   "cell_type": "markdown",
   "id": "e304416d-8836-44c5-b912-fc299aca762a",
   "metadata": {},
   "source": [
    "**All pacs**"
   ]
  },
  {
   "cell_type": "code",
   "execution_count": null,
   "id": "4f0ef450-5364-45a5-a7a6-1ef6ab37a49a",
   "metadata": {},
   "outputs": [],
   "source": [
    "# OpenSecrets Data Definition for PAC to PAC Data (Pac_other table)\n",
    "# https://www.opensecrets.org/resources/datadictionary/Data%20Dictionary%20PAC%20to%20PAC%20Data.htm\n",
    "columns_pac_other18 = ['cycle', 'fecrecno', 'filerid', 'donorcmte', 'contriblendtrans', 'city', 'state', \n",
    "                            'zip', 'fecoccemp', 'primcode', 'date', 'amount', 'recipid', 'party', 'otherid',\n",
    "                            'recipcode', 'recipprimcode', 'amend', 'report', 'pg', 'microfilm', 'type',\n",
    "                            'realcode', 'source']\n",
    "\n",
    "if not os.path.exists('../../data/open_secrets/CampaignFin18/pac_other18.csv'):\n",
    "    process_data('../../data/open_secrets/CampaignFin18/pac_other18.txt', headers=columns_pac_other18, n_expected_fields=len(columns_pac_other18), show_errs=False)\n",
    "\n",
    "df_pac_other18 = pd.read_csv('../../data/open_secrets/CampaignFin18/pac_other18.csv', on_bad_lines='skip')"
   ]
  },
  {
   "cell_type": "code",
   "execution_count": null,
   "id": "4897a92b-a959-44e4-b4ac-e92c476183d1",
   "metadata": {},
   "outputs": [],
   "source": [
    "# Identify the donor pacid.\n",
    "# The \"filerid\" is the donor if \"type\" starts with \"2\".\n",
    "# The \"otherid\" is the donor if \"type\" starts with \"1\".\n",
    "df_pac_other18['donorid__pac_other18'] = df_pac_other18.apply(\n",
    "    lambda row: row['otherid__pac_other18'] if row['type__pac_other18'].startswith('1')\n",
    "    else (row['filerid__pac_other18'] if row['type__pac_other18'].startswith('2') else None),\n",
    "    axis=1\n",
    ")"
   ]
  },
  {
   "cell_type": "code",
   "execution_count": null,
   "id": "18d8602d-7608-49c4-b14a-a7b475acddac",
   "metadata": {},
   "outputs": [],
   "source": [
    "# Identify the recipient lead pacid (starting with \"C\").\n",
    "# The \"filerid\" is the recipient if \"type\" starts with \"1\".\n",
    "# The \"otherid\" is the recipient if \"type\" starts with \"2\".\n",
    "df_pac_other18['recippacid__pac_other18'] = df_pac_other18.apply(\n",
    "    lambda row: row['otherid__pac_other18'] if row['type__pac_other18'].startswith('2')\n",
    "    else (row['filerid__pac_other18'] if row['type__pac_other18'].startswith('1') else None),\n",
    "    axis=1\n",
    ")"
   ]
  },
  {
   "cell_type": "code",
   "execution_count": null,
   "id": "1e9556b9-51fe-42b5-9193-e2a003596941",
   "metadata": {},
   "outputs": [],
   "source": [
    "showdf(df_pac_other18)"
   ]
  },
  {
   "cell_type": "code",
   "execution_count": null,
   "id": "ebc4e257-6873-491d-b4d1-2f5f09b3345c",
   "metadata": {},
   "outputs": [],
   "source": [
    "# # Notice that candidates are never filers in pac_other18.\n",
    "# df_pac_other18[df_pac_other18['filerid__pac_other18'].str.startswith('N', na=False)]"
   ]
  },
  {
   "cell_type": "markdown",
   "id": "b9cb7d31-75a2-4f70-b4c5-08d694238cfa",
   "metadata": {},
   "source": [
    "**Pacs to pacs**"
   ]
  },
  {
   "cell_type": "code",
   "execution_count": null,
   "id": "e7d056ef-6103-4d05-b263-59e95a9ce9dd",
   "metadata": {},
   "outputs": [],
   "source": [
    "# Flows from pacs to pacs (non-lead/candidate)\n",
    "df_pac_to_pac = df_pac_other18[~ df_pac_other18['recipid__pac_other18'].str.startswith('N', na=False)]"
   ]
  },
  {
   "cell_type": "code",
   "execution_count": null,
   "id": "44920e53-c70e-4789-9ee6-e5b1e36a46be",
   "metadata": {},
   "outputs": [],
   "source": [
    "showdf(df_pac_to_pac)"
   ]
  },
  {
   "cell_type": "markdown",
   "id": "218756f3-8723-4b44-92e5-ca421a4f117e",
   "metadata": {},
   "source": [
    "**Pacs to cands**"
   ]
  },
  {
   "cell_type": "code",
   "execution_count": null,
   "id": "7c8742ad-896a-4b47-8256-2314e8fbb0e1",
   "metadata": {},
   "outputs": [],
   "source": [
    "# Flows from pacs *directly* to indiv candidates\n",
    "df_pac_to_cand = df_pac_other18[df_pac_other18['recipid__pac_other18'].str.startswith('N', na=False)]"
   ]
  },
  {
   "cell_type": "code",
   "execution_count": null,
   "id": "ebf16498-246b-4273-a217-c74a41e54651",
   "metadata": {},
   "outputs": [],
   "source": [
    "showdf(df_pac_to_cand)"
   ]
  },
  {
   "cell_type": "markdown",
   "id": "abc585aa-724c-4111-8bd0-6dda6694b288",
   "metadata": {},
   "source": [
    "#### pacs18 – pacs to cands"
   ]
  },
  {
   "cell_type": "code",
   "execution_count": null,
   "id": "c950419d-8268-4a0c-98a5-cfdfa4da1e3b",
   "metadata": {},
   "outputs": [],
   "source": [
    "# Pacs18 – Lead pacs only.\n",
    "# OpenSecrets Data Definition: PAC table (PACs to Candidates)\n",
    "# https://www.opensecrets.org/resources/datadictionary/Data%20Dictionary%20for%20PAC%20to%20Cands%20Data.htm\n",
    "# \"pacid\" who represents \"realcode\" (industry or ideology) \"di\" (directly or indirectly) contributes \"amount\" to to \"cid\".\n",
    "# NOTE: pacid__pacs18 never equals cid__pacs18 – no self-contributions.\n",
    "columns_pacs18 = ['cycle', 'fecrecno', 'pacid', 'cid', 'amount', 'date', 'realcode', \n",
    "                            'type', 'di', 'feccandid']\n",
    "\n",
    "if not os.path.exists('../../data/open_secrets/CampaignFin18/pacs18.csv'):\n",
    "    process_data('../../data/open_secrets/CampaignFin18/pacs18.txt', headers=columns_pacs18, n_expected_fields=len(columns_pacs18), show_errs=False)\n",
    "\n",
    "df_pacs18 = pd.read_csv('../../data/open_secrets/CampaignFin18/pacs18.csv', on_bad_lines='skip')"
   ]
  },
  {
   "cell_type": "code",
   "execution_count": null,
   "id": "faa793a4-910e-4f7d-a250-99edd8a83ef4",
   "metadata": {},
   "outputs": [],
   "source": [
    "showdf(df_pacs18)"
   ]
  },
  {
   "cell_type": "code",
   "execution_count": null,
   "id": "62660c7a-8a82-43e0-ab59-642ba356eb31",
   "metadata": {},
   "outputs": [],
   "source": [
    "# # Lead pac transactions\n",
    "# df_lead_pacs18 = df_pacs18[df_pacs18['pacid__pacs18'].isin(df_recipid_lead_cmtes18['cmteid__cmtes18'])]\n",
    "# print(len(df_lead_pacs18))\n",
    "# showdf(df_lead_pacs18)"
   ]
  },
  {
   "cell_type": "code",
   "execution_count": null,
   "id": "70a85606-de3a-4c68-be45-6592ab77126d",
   "metadata": {},
   "outputs": [],
   "source": [
    "# # Non-lead pac transactions\n",
    "# df_pac_pacs18 = df_pacs18[df_pacs18['pacid__pacs18'].isin(df_recipid_pac_cmtes18['cmteid__cmtes18'])]\n",
    "# print(len(df_pac_pacs18))\n",
    "# showdf(df_pac_pacs18)"
   ]
  },
  {
   "cell_type": "markdown",
   "id": "205b6e92-3371-4343-b43a-1d43a7539d18",
   "metadata": {},
   "source": [
    "#### indivs18"
   ]
  },
  {
   "cell_type": "code",
   "execution_count": null,
   "id": "c0dae09b-9900-432c-9ef1-3847f0c7c53c",
   "metadata": {},
   "outputs": [],
   "source": [
    "# OpenSecrets Data Definition: Individual Contribution Data\n",
    "# https://www.opensecrets.org/resources/datadictionary/Data%20Dictionary%20for%20Individual%20Contribution%20Data.htm\n",
    "columns_indivs18 = ['cycle', 'fectransid', 'contribid', 'contrib_last', 'contrib_first', 'recipid', 'orgname', \n",
    "                    'ultorg', 'realcode', 'date', 'amount', 'street', 'city', 'state',\n",
    "                    'zip', 'recipcode', 'type', 'cmteid', 'otherid', 'gender', 'microfilm',\n",
    "                    'occupation', 'employer', 'source']\n",
    "\n",
    "# This dataset is huge, and crashes my computer.\n",
    "# Takes 6.5min to read the file.\n",
    "\n",
    "if not os.path.exists('../../data/open_secrets/CampaignFin18/indivs18.csv'):\n",
    "    process_data('../../data/open_secrets/CampaignFin18/indivs18.txt', headers=columns_indivs18, nrows=1000, n_expected_fields=len(columns_indivs18), show_errs=False)\n",
    "\n",
    "df_indivs18 = pd.read_csv('../../data/open_secrets/CampaignFin18/indivs18.csv', on_bad_lines='skip', nrows=1000)"
   ]
  },
  {
   "cell_type": "code",
   "execution_count": null,
   "id": "5aeaf201-88a5-4e5c-9ceb-7d2fb271cf9a",
   "metadata": {},
   "outputs": [],
   "source": [
    "showdf(df_indivs18)"
   ]
  },
  {
   "cell_type": "markdown",
   "id": "5566f524-4260-4b8b-8b9f-87b3439e18f7",
   "metadata": {},
   "source": [
    "---\n",
    "### Expends18 data\n",
    "#### expends18"
   ]
  },
  {
   "cell_type": "code",
   "execution_count": null,
   "id": "067e9985-3a4b-43d9-b032-545c48913e6f",
   "metadata": {},
   "outputs": [],
   "source": [
    "# OpenSecrets Data Dictionary for Expenditure Data - from FEC electronic filings\n",
    "# https://www.opensecrets.org/resources/datadictionary/Data%20Dictionary%20Expenditures.htm\n",
    "columns_expends18 = ['cycle', 'id', 'transid', 'crpfilerid', \n",
    "                     'recipcode', 'pacshort', 'crprecipname', \n",
    "                     'expcode', 'amount', 'date', 'city', 'state', \n",
    "                     'zip', 'cmteid_ef', 'candid', 'type',\n",
    "                     'descrip', 'pg', 'elecother', 'enttype',\n",
    "                     'source']\n",
    "\n",
    "if not os.path.exists('../../data/open_secrets/Expend18/expends18.csv'):\n",
    "    process_data('../../data/open_secrets/Expend18/expends18.txt', headers=columns_expends18, nrows=1000, n_expected_fields=len(columns_expends18), show_errs=False)\n",
    "\n",
    "df_expends18 = pd.read_csv('../../data/open_secrets/Expend18/expends18.csv', on_bad_lines='skip', nrows=1000)"
   ]
  },
  {
   "cell_type": "code",
   "execution_count": null,
   "id": "43ced051-5b0e-40dd-ba00-6f65c0f7374c",
   "metadata": {},
   "outputs": [],
   "source": [
    "# All pac expenditures\n",
    "showdf(df_expends18)"
   ]
  },
  {
   "cell_type": "code",
   "execution_count": null,
   "id": "6002c5cc-442f-4898-9da1-f6f5b39b4ce6",
   "metadata": {},
   "outputs": [],
   "source": [
    "# Lead pac expenditures.\n",
    "df_lead__expends18 = df_expends18[df_expends18['crpfilerid__expends18'].str.startswith('N')]\n",
    "print(len(df_lead__expends18))\n",
    "showdf(df_lead__expends18)"
   ]
  },
  {
   "cell_type": "code",
   "execution_count": null,
   "id": "bd828dda-f18d-4169-84be-28bd5c80881a",
   "metadata": {},
   "outputs": [],
   "source": [
    "# Non-lead pac expenditures.\n",
    "df_pac__expends18 = df_expends18[df_expends18['crpfilerid__expends18'].str.startswith('C')]\n",
    "print(len(df_pac__expends18))\n",
    "showdf(df_pac__expends18)"
   ]
  },
  {
   "cell_type": "markdown",
   "id": "18d54e36-c0fc-4bf1-a8f7-8dd56951ce53",
   "metadata": {},
   "source": [
    "---\n",
    "### Lobby data\n",
    "#### lob_agency"
   ]
  },
  {
   "cell_type": "code",
   "execution_count": null,
   "id": "2127ecf8-8c18-4d78-97cc-90308ae1d426",
   "metadata": {},
   "outputs": [],
   "source": [
    "# OpenSecrets Data Definition for Lobbying Data: Lobby agencies\n",
    "# https://www.opensecrets.org/resources/datadictionary/Data%20Dictionary%20lob_agency.htm\n",
    "columns_lob_agency = ['uniqid', 'agencyid', 'agency']\n",
    "\n",
    "if not os.path.exists('../../data/open_secrets/Lobby/lob_agency.csv'):\n",
    "    process_data('../../data/open_secrets/Lobby/lob_agency.txt', headers=columns_lob_agency, n_expected_fields=len(columns_lob_agency), show_errs=False)\n",
    "\n",
    "df_lob_agency = pd.read_csv('../../data/open_secrets/Lobby/lob_agency.csv', on_bad_lines='skip')"
   ]
  },
  {
   "cell_type": "code",
   "execution_count": null,
   "id": "85a4a70b-08da-4343-9121-70732b962907",
   "metadata": {},
   "outputs": [],
   "source": [
    "showdf(df_lob_agency)"
   ]
  },
  {
   "cell_type": "markdown",
   "id": "b08e5fc4-eb6f-4c16-89d4-951dec406313",
   "metadata": {},
   "source": [
    "#### lob_bills"
   ]
  },
  {
   "cell_type": "code",
   "execution_count": null,
   "id": "ed2ce9ee-72e2-415b-8626-5f67f2e1dcb9",
   "metadata": {},
   "outputs": [],
   "source": [
    "# OpenSecrets Data Definition for Lobbying Data: Lobby bills\n",
    "# https://www.opensecrets.org/resources/datadictionary/Data%20Dictionary%20lob_bills.htm\n",
    "columns_lob_bills = ['b_id', 'si_id', 'congno', 'bill_name']\n",
    "\n",
    "if not os.path.exists('../../data/open_secrets/Lobby/lob_bills.csv'):\n",
    "    process_data('../../data/open_secrets/Lobby/lob_bills.txt', headers=columns_lob_bills, n_expected_fields=len(columns_lob_bills), show_errs=False)\n",
    "\n",
    "df_lob_bills = pd.read_csv('../../data/open_secrets/Lobby/lob_bills.csv', on_bad_lines='skip')\n",
    "df_lob_bills['bill_name__lob_bills'] = df_lob_bills['bill_name__lob_bills'].apply(lambda x: x[:-2])"
   ]
  },
  {
   "cell_type": "code",
   "execution_count": null,
   "id": "ee807445-f968-4f5c-948a-f825fc79b4d0",
   "metadata": {},
   "outputs": [],
   "source": [
    "showdf(df_lob_bills)"
   ]
  },
  {
   "cell_type": "markdown",
   "id": "53c12ec6-04dc-4bd2-8e0f-7a401fa46f78",
   "metadata": {},
   "source": [
    "#### lob_indus"
   ]
  },
  {
   "cell_type": "code",
   "execution_count": null,
   "id": "e38d56d4-f406-4f3a-96d5-692cbc74e506",
   "metadata": {},
   "outputs": [],
   "source": [
    "# OpenSecrets Data Definition for Lobbying Data: Lobby industries\n",
    "# https://www.opensecrets.org/resources/datadictionary/Data%20Dictionary%20lob_indus.htm\n",
    "columns_lob_indus = ['client', 'sub', 'total', 'year', 'catcode']\n",
    "\n",
    "if not os.path.exists('../../data/open_secrets/Lobby/lob_indus.csv'):\n",
    "    process_data('../../data/open_secrets/Lobby/lob_indus.txt', headers=columns_lob_indus, n_expected_fields=len(columns_lob_indus), show_errs=False)\n",
    "\n",
    "df_lob_indus = pd.read_csv('../../data/open_secrets/Lobby/lob_indus.csv', on_bad_lines='skip')"
   ]
  },
  {
   "cell_type": "code",
   "execution_count": null,
   "id": "ce78d25f-6ba1-40f2-bd9f-f446689118c3",
   "metadata": {},
   "outputs": [],
   "source": [
    "showdf(df_lob_indus)"
   ]
  },
  {
   "cell_type": "markdown",
   "id": "1141dde2-b956-40c0-a16d-fbd04a3b94a4",
   "metadata": {},
   "source": [
    "#### lob_issue"
   ]
  },
  {
   "cell_type": "code",
   "execution_count": null,
   "id": "723051f5-4c6a-4b3c-8c43-f4a3a18186de",
   "metadata": {},
   "outputs": [],
   "source": [
    "# OpenSecrets Data Definition for Lobbying Data: Lobby issues\n",
    "# https://www.opensecrets.org/resources/datadictionary/Data%20Dictionary%20lob_issues.htm\n",
    "columns_lob_issue = ['si_id', 'uniqid', 'issueid', 'issue', 'specificissue', 'year']\n",
    "\n",
    "if not os.path.exists('../../data/open_secrets/Lobby/lob_issue.csv'):\n",
    "    process_data('../../data/open_secrets/Lobby/lob_issue.txt', headers=columns_lob_issue, n_expected_fields=len(columns_lob_issue), show_errs=False)\n",
    "\n",
    "df_lob_issue = pd.read_csv('../../data/open_secrets/Lobby/lob_issue.csv', on_bad_lines='skip')"
   ]
  },
  {
   "cell_type": "code",
   "execution_count": null,
   "id": "993e03b7-2b32-4030-a044-75145764c533",
   "metadata": {},
   "outputs": [],
   "source": [
    "showdf(df_lob_issue)"
   ]
  },
  {
   "cell_type": "markdown",
   "id": "543c45b2-9675-4768-94a0-4251f910562e",
   "metadata": {},
   "source": [
    "#### lob_issue_no_specific"
   ]
  },
  {
   "cell_type": "code",
   "execution_count": null,
   "id": "76bd7b41-ba98-4e88-ad1d-dd23b79c8a89",
   "metadata": {},
   "outputs": [],
   "source": [
    "# OpenSecrets Data Definition for Lobbying Data: Lobby issues (no specific issue)\n",
    "# https://www.opensecrets.org/resources/datadictionary/Data%20Dictionary%20lob_issues.htm\n",
    "columns_lob_issue_no_specific = ['si_id', 'uniqid', 'issueid', 'issue', 'year']\n",
    "\n",
    "if not os.path.exists('../../data/open_secrets/Lobby/lob_issue_NoSpecficIssue.csv'):\n",
    "    process_data('../../data/open_secrets/Lobby/lob_issue_NoSpecficIssue.txt', headers=columns_lob_issue_no_specific, n_expected_fields=len(columns_lob_issue_no_specific), show_errs=False)\n",
    "\n",
    "df_lob_issue_no_specific = pd.read_csv('../../data/open_secrets/Lobby/lob_issue_NoSpecficIssue.csv', on_bad_lines='skip')"
   ]
  },
  {
   "cell_type": "code",
   "execution_count": null,
   "id": "833cb098-52d7-4807-a4d5-dd61c76c4459",
   "metadata": {},
   "outputs": [],
   "source": [
    "showdf(df_lob_issue_no_specific)"
   ]
  },
  {
   "cell_type": "markdown",
   "id": "a753c0a1-5461-4127-92dc-1a8805a1b99c",
   "metadata": {},
   "source": [
    "#### lob_lobbying"
   ]
  },
  {
   "cell_type": "code",
   "execution_count": null,
   "id": "6a5eb06c-ee9c-48e1-a2e1-6f6466506dc1",
   "metadata": {},
   "outputs": [],
   "source": [
    "# OpenSecrets Data Definitions for Lobbying Data: Lobbying\n",
    "# https://www.opensecrets.org/resources/datadictionary/Data%20Dictionary%20lob_lobbying.htm\n",
    "columns_lob_lobbying = ['uniqid','registrant_raw','registrant','isfirm','client_raw','client','ultorg','amount',\n",
    "                        'catcode','source','self','includensfs','use',\n",
    "                       'ind', 'year', 'type', 'typelong', 'affiliate']\n",
    "\n",
    "if not os.path.exists('../../data/open_secrets/Lobby/lob_lobbying.csv'):\n",
    "    process_data('../../data/open_secrets/Lobby/lob_lobbying.txt', headers=columns_lob_lobbying, n_expected_fields=len(columns_lob_lobbying), show_errs=False)\n",
    "\n",
    "df_lob_lobbying = pd.read_csv('../../data/open_secrets/Lobby/lob_lobbying.csv', on_bad_lines='skip')"
   ]
  },
  {
   "cell_type": "code",
   "execution_count": null,
   "id": "26ec327c-ffbb-4813-91eb-d0f505bd05f7",
   "metadata": {},
   "outputs": [],
   "source": [
    "showdf(df_lob_lobbying)"
   ]
  },
  {
   "cell_type": "markdown",
   "id": "35d3874e-38be-47ab-bdfb-2d93187591b9",
   "metadata": {},
   "source": [
    "#### lob_lobbyist"
   ]
  },
  {
   "cell_type": "code",
   "execution_count": null,
   "id": "aff12fec-c42c-4aee-9e6e-6d137d610ecb",
   "metadata": {},
   "outputs": [],
   "source": [
    "# OpenSecrets Data Definition for Lobbyists\n",
    "# https://www.opensecrets.org/resources/datadictionary/Data%20Dictionary%20lob_lobbyists.htm\n",
    "columns_lob_lobbyist = ['uniqid', 'lobbyist_lastname_std', 'lobbyist_firstname_std', 'lobbyist_lastname_raw', \n",
    "                     'lobbyist_firstname_raw', 'lobbyist_id', 'year', 'officialposition', 'cid', 'formercongmem']\n",
    "\n",
    "if not os.path.exists('../../data/open_secrets/Lobby/lob_lobbyist.csv'):\n",
    "    process_data('../../data/open_secrets/Lobby/lob_lobbyist.txt', headers=columns_lob_lobbyist, n_expected_fields=len(columns_lob_lobbyist), show_errs=False)\n",
    "\n",
    "df_lob_lobbyist = pd.read_csv('../../data/open_secrets/Lobby/lob_lobbyist.csv', on_bad_lines='skip')"
   ]
  },
  {
   "cell_type": "code",
   "execution_count": null,
   "id": "fcff95a2-05f5-4636-bbda-1ed8a1034df9",
   "metadata": {},
   "outputs": [],
   "source": [
    "showdf(df_lob_lobbyist)"
   ]
  },
  {
   "cell_type": "markdown",
   "id": "e728e719-18e9-443a-9411-37030071eed2",
   "metadata": {},
   "source": [
    "#### lob_rpt"
   ]
  },
  {
   "cell_type": "code",
   "execution_count": null,
   "id": "004b62fb-2e6a-4bd5-b015-985cf52d387a",
   "metadata": {},
   "outputs": [],
   "source": [
    "# OpenSecrets Data Definitions for Lobbying Data: Report types\n",
    "# No documentation provided on OpenSecrets.com\n",
    "columns_lob_rpt = ['typelong', 'typeshort']\n",
    "\n",
    "if not os.path.exists('../../data/open_secrets/Lobby/lob_rpt.csv'):\n",
    "    process_data('../../data/open_secrets/Lobby/lob_rpt.txt', headers=columns_lob_rpt, n_expected_fields=len(columns_lob_rpt), show_errs=False)\n",
    "\n",
    "df_lob_rpt = pd.read_csv('../../data/open_secrets/Lobby/lob_rpt.csv', on_bad_lines='skip')"
   ]
  },
  {
   "cell_type": "code",
   "execution_count": null,
   "id": "9f14826b-854c-4930-bb48-c4374a549c42",
   "metadata": {},
   "outputs": [],
   "source": [
    "showdf(df_lob_rpt)"
   ]
  },
  {
   "cell_type": "markdown",
   "id": "e50242f1-ae31-424f-840c-6bc3909ce73b",
   "metadata": {},
   "source": [
    "### IDs and categories\n",
    "#### CRP_ID"
   ]
  },
  {
   "cell_type": "code",
   "execution_count": null,
   "id": "64023e77-2070-4434-91e0-76095ad6cb97",
   "metadata": {},
   "outputs": [],
   "source": [
    "install_if_needed('xlrd')\n",
    "import xlrd"
   ]
  },
  {
   "cell_type": "code",
   "execution_count": null,
   "id": "87c143fb-27fc-4fb7-9a40-85b811d8ba25",
   "metadata": {},
   "outputs": [],
   "source": [
    "# Candidate ids\n",
    "# This dataset is very different, so load it independently.\n",
    "columns_crp_ids = ['blank_excel_column__crp_ids', 'cid__crp_ids', 'crpname__crp_ids', 'party__crp_ids', 'distidrunfor__crp_ids', 'feccandid__crp_ids'] # Blank excel column is necessary.\n",
    "columns_crp_ids = dict(enumerate(columns_crp_ids))\n",
    "df_crp_ids = pd.read_excel('../../data/open_secrets/CRP_IDs.xls', header=None, skiprows=15)\n",
    "df_crp_ids = df_crp_ids.drop(df_crp_ids.columns[0], axis=1)\n",
    "df_crp_ids = df_crp_ids.rename(columns=columns_crp_ids)"
   ]
  },
  {
   "cell_type": "code",
   "execution_count": null,
   "id": "cd969fed-15d0-41ba-952d-651504453e03",
   "metadata": {},
   "outputs": [],
   "source": [
    "showdf(df_crp_ids)"
   ]
  },
  {
   "cell_type": "markdown",
   "id": "aa3585e1-ad2e-4aa9-b93a-2590564bfd97",
   "metadata": {},
   "source": [
    "#### CRP_Categories"
   ]
  },
  {
   "cell_type": "code",
   "execution_count": null,
   "id": "45aa276e-f8c5-48d7-ae32-fee63955346c",
   "metadata": {},
   "outputs": [],
   "source": [
    "from io import StringIO\n",
    "crp_filepath = '../../data/open_secrets/CRP_Categories.txt'\n",
    "with open(crp_filepath, 'r') as file:\n",
    "    lines = file.readlines()\n",
    "\n",
    "header_line_index = next(i for i, line in enumerate(lines) if line.startswith('Catcode'))\n",
    "table_data = ''.join(lines[header_line_index:])\n",
    "df_crp_cats = pd.read_csv(StringIO(table_data), sep='\\t')\n",
    "df_crp_cats.columns = df_crp_cats.columns.str.lower().str.replace(' ', '_')\n",
    "df_crp_cats.columns = [col + '__crp_cats' for col in df_crp_cats.columns]"
   ]
  },
  {
   "cell_type": "code",
   "execution_count": null,
   "id": "4455b41e-94cf-4e99-8c72-7b64a0c181b6",
   "metadata": {},
   "outputs": [],
   "source": [
    "showdf(df_crp_cats)"
   ]
  }
 ],
 "metadata": {
  "kernelspec": {
   "display_name": "Python 3 (ipykernel)",
   "language": "python",
   "name": "python3"
  },
  "language_info": {
   "codemirror_mode": {
    "name": "ipython",
    "version": 3
   },
   "file_extension": ".py",
   "mimetype": "text/x-python",
   "name": "python",
   "nbconvert_exporter": "python",
   "pygments_lexer": "ipython3",
   "version": "3.12.7"
  }
 },
 "nbformat": 4,
 "nbformat_minor": 5
}
