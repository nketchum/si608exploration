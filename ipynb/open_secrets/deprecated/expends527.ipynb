{
 "cells": [
  {
   "cell_type": "code",
   "execution_count": null,
   "id": "83cf4882-8d63-45f4-9bcf-5cd999ff188b",
   "metadata": {},
   "outputs": [],
   "source": [
    "import pandas as pd\n",
    "import numpy as np"
   ]
  },
  {
   "cell_type": "code",
   "execution_count": null,
   "id": "b7c5478b-456b-4efd-b6bb-17c2169880c2",
   "metadata": {},
   "outputs": [],
   "source": [
    "# Dataset description:\n",
    "# https://www.opensecrets.org/resources/datadictionary/Data%20Dictionary%20527%20Expenditures.htm\n",
    "columns_expends527 = ['rpt', 'formid', 'schbid', 'orgname', 'ein', 'recipient', \n",
    "                    'recipientcrp', 'amount', 'date', 'expcode', 'source', \n",
    "                    'purpose', 'addr1', 'addr2', 'city', 'state', 'zip',\n",
    "                    'employer', 'occupation']\n",
    "columns_expends527 = dict(enumerate(columns_expends527))"
   ]
  },
  {
   "cell_type": "code",
   "execution_count": null,
   "id": "10f63528-e545-4df5-a0c4-763763bfbce2",
   "metadata": {},
   "outputs": [],
   "source": [
    "df = pd.read_csv('../../../data/open_secrets/527/expends527.csv', on_bad_lines='skip', sep=',', header=None, na_values=['N/A', 'NA'], encoding='ISO-8859-1')\n",
    "df = df.rename(columns=columns_expends527)"
   ]
  },
  {
   "cell_type": "code",
   "execution_count": null,
   "id": "c34d933c-2e01-40b6-841c-52153b6bb609",
   "metadata": {},
   "outputs": [],
   "source": [
    "# Get rid of the pipes on both sides of the data.\n",
    "df = df.applymap(lambda x: x.replace('|', '') if type(x) == str else x)\n",
    "\n",
    "# Other cleanup.\n",
    "df['formid'] = df['formid'].apply(lambda x: int(x))\n",
    "df['schbid'] = df['schbid'].apply(lambda x: int(x))\n",
    "\n",
    "df['date'] = pd.to_datetime(df['date'], format='%m/%d/%Y', errors='coerce')\n",
    "df = df.dropna(subset=['date'])\n",
    "\n",
    "df['amount'] = pd.to_numeric(df['amount'], errors='coerce')\n",
    "df = df.dropna(subset=['amount'])\n",
    "df['amount'] = df['amount'].astype(int)\n",
    "\n",
    "df['ein'] = pd.to_numeric(df['ein'], errors='coerce')\n",
    "df = df.dropna(subset=['ein'])\n",
    "df['ein'] = df['ein'].astype(int)\n",
    "\n",
    "df['zip'] = pd.to_numeric(df['zip'], errors='coerce')\n",
    "df = df.dropna(subset=['zip'])\n",
    "df['zip'] = df['zip'].astype(int)"
   ]
  },
  {
   "cell_type": "code",
   "execution_count": null,
   "id": "f57b3c55-1697-4b56-9fa7-d69ed954a57a",
   "metadata": {},
   "outputs": [],
   "source": [
    "pd.options.display.max_columns = None\n",
    "df"
   ]
  },
  {
   "cell_type": "code",
   "execution_count": null,
   "id": "372f0367-e18e-4e03-9375-d45b7b38ac61",
   "metadata": {},
   "outputs": [],
   "source": [
    "# We can look up committees using\n",
    "# ein.\n",
    "df[df['ein'] == 464747846]"
   ]
  },
  {
   "cell_type": "code",
   "execution_count": null,
   "id": "bc45dc77-53ba-4b63-8642-a923b26eeb95",
   "metadata": {},
   "outputs": [],
   "source": []
  }
 ],
 "metadata": {
  "kernelspec": {
   "display_name": "Python 3 (ipykernel)",
   "language": "python",
   "name": "python3"
  },
  "language_info": {
   "codemirror_mode": {
    "name": "ipython",
    "version": 3
   },
   "file_extension": ".py",
   "mimetype": "text/x-python",
   "name": "python",
   "nbconvert_exporter": "python",
   "pygments_lexer": "ipython3",
   "version": "3.12.7"
  }
 },
 "nbformat": 4,
 "nbformat_minor": 5
}
