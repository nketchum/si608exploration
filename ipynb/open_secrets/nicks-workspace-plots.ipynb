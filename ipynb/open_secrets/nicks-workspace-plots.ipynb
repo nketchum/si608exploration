{
 "cells": [
  {
   "cell_type": "markdown",
   "id": "7afacead-3850-4449-8769-58ce13d7092c",
   "metadata": {},
   "source": [
    "# SI 608 Project – Workspace #\n",
    "#### General scratchpad workspace that preloads all the dataframes. ####\n",
    "See <code>./modules</code> to review how libraries are installed and imported, as well as where the data is loaded, cleaned, and formatted. This is only here as a helpful tool, make a copy and do whatever you'd like. Or don't use this at all if that's preferable."
   ]
  },
  {
   "cell_type": "markdown",
   "id": "bb49c737-37ae-4c27-9f68-dfd69c537631",
   "metadata": {},
   "source": [
    "### Initialize\n",
    "Init file contains helper functions used throughout the project."
   ]
  },
  {
   "cell_type": "code",
   "execution_count": null,
   "id": "e9fe3e1f-9c7c-4629-b11f-0d84cf0b7e79",
   "metadata": {},
   "outputs": [],
   "source": [
    "%run modules/init.ipynb"
   ]
  },
  {
   "cell_type": "markdown",
   "id": "06ef431d-e62a-4939-8e87-c3872ff74289",
   "metadata": {},
   "source": [
    "#### Load datasets ####\n",
    "\n",
    "This module provides a single function for all of the *contribution* data from OpenSecrets."
   ]
  },
  {
   "cell_type": "code",
   "execution_count": null,
   "id": "a202191c-e3f4-4b79-b025-d5117db102a0",
   "metadata": {},
   "outputs": [],
   "source": [
    "%run modules/data.ipynb"
   ]
  },
  {
   "cell_type": "code",
   "execution_count": null,
   "id": "c0dae09b-9900-432c-9ef1-3847f0c7c53c",
   "metadata": {},
   "outputs": [],
   "source": [
    "# OpenSecrets Data Definition: Individual Contribution Data\n",
    "# https://www.opensecrets.org/resources/datadictionary/Data%20Dictionary%20for%20Individual%20Contribution%20Data.htm\n",
    "columns_indivs22 = ['cycle', 'fectransid', 'contribid', 'contrib_last', 'contrib_first', 'recipid', 'orgname', \n",
    "                    'ultorg', 'realcode', 'date', 'amount', 'street', 'city', 'state',\n",
    "                    'zip', 'recipcode', 'type', 'cmteid', 'otherid', 'gender', 'microfilm',\n",
    "                    'occupation', 'employer', 'source']\n",
    "\n",
    "# This dataset is huge, and crashes my computer. For now, limiting to 1000000 rows\n",
    "# until a better way is found to trim off this dataset to only the last cycle or two\n",
    "df_indivs22 = create_dataframe('../../data/open_secrets/CampaignFin22/indivs22.csv', columns_indivs22, nrows=1000000)"
   ]
  },
  {
   "cell_type": "code",
   "execution_count": null,
   "id": "5aeaf201-88a5-4e5c-9ceb-7d2fb271cf9a",
   "metadata": {},
   "outputs": [],
   "source": [
    "df_indivs22.head()"
   ]
  },
  {
   "cell_type": "code",
   "execution_count": null,
   "id": "c4361e4d-c853-48a1-99c5-3af34d0c24b0",
   "metadata": {},
   "outputs": [],
   "source": [
    "# OpenSecrets Table Definition: Committee table\n",
    "# https://www.opensecrets.org/resources/datadictionary/Data%20Dictionary%20for%20Cmtes.htm\n",
    "columns_cmtes22 = ['cycle', 'cmteid', 'pacshort', 'affiliate', 'ultorg', 'recipid', \n",
    "                    'recipcode', 'feccandid', 'party', 'primcode', 'source', 'sensitive',\n",
    "                    'foreign', 'active']\n",
    "\n",
    "df_cmtes22 = create_dataframe('../../data/open_secrets/CampaignFin22/cmtes22.csv', columns_cmtes22)"
   ]
  },
  {
   "cell_type": "code",
   "execution_count": null,
   "id": "6e2a9b32-b6d6-47e0-aa51-deedec5981b4",
   "metadata": {},
   "outputs": [],
   "source": [
    "df_cmtes22.head()"
   ]
  },
  {
   "cell_type": "code",
   "execution_count": null,
   "id": "afb6d4dc-2a67-46a4-a94c-80bd17ed7095",
   "metadata": {},
   "outputs": [],
   "source": [
    "# OpenSecrets Data Definition: 527 Committees\n",
    "# https://www.opensecrets.org/resources/datadictionary/Data%20Dictionary%20527%20Cmtes.htm\n",
    "columns_cmtes527 = ['cycle', 'rpt', 'ein', 'crp527name', 'affiliate', 'ultorg', \n",
    "                    'recipcode', 'cmteid', 'cid', 'eccmteid', 'party', \n",
    "                    'primcode', 'source', 'ffreq', 'ctype', 'csource', 'viewpt',\n",
    "                    'comments', 'state']\n",
    "\n",
    "df_cmtes527 = create_dataframe('../../data/open_secrets/527/cmtes527.csv', columns_cmtes527)"
   ]
  },
  {
   "cell_type": "code",
   "execution_count": null,
   "id": "a7118844-8ba8-4196-9eba-9ef1c4d1972a",
   "metadata": {},
   "outputs": [],
   "source": [
    "df_cmtes527.head()"
   ]
  },
  {
   "cell_type": "code",
   "execution_count": null,
   "id": "494cab31-9bef-40f7-8c7c-d468bb649787",
   "metadata": {},
   "outputs": [],
   "source": [
    "# OpenSecrets Data Definition: Candidates\n",
    "# https://www.opensecrets.org/resources/datadictionary/Data%20Dictionary%20Candidates%20Data.htm\n",
    "columns_cands22 = ['cycle', 'feccandid', 'cid', 'firstlastp', 'party', 'distidrunfor', \n",
    "                    'distidcurr', 'currcand', 'cyclecand', 'crpico', 'recipcode', \n",
    "                    'nopacs']\n",
    "\n",
    "df_cands22 = create_dataframe('../../data/open_secrets/CampaignFin22/cands22.csv', columns_cands22)"
   ]
  },
  {
   "cell_type": "code",
   "execution_count": null,
   "id": "8a31bcb2-4be4-482c-9abb-5951cf6e9007",
   "metadata": {},
   "outputs": [],
   "source": [
    "df_cands22.head()"
   ]
  },
  {
   "cell_type": "code",
   "execution_count": null,
   "id": "4f0ef450-5364-45a5-a7a6-1ef6ab37a49a",
   "metadata": {},
   "outputs": [],
   "source": [
    "# OpenSecrets Data Definition for PAC to PAC Data (Pac_other table)\n",
    "# https://www.opensecrets.org/resources/datadictionary/Data%20Dictionary%20PAC%20to%20PAC%20Data.htm\n",
    "columns_pac_other22 = ['cycle', 'fecrecno', 'filerid', 'donorcmte', 'contriblendtrans', 'city', 'state', \n",
    "                            'zip', 'fecoccemp', 'primcode', 'date', 'amount', 'recipid', 'party', 'otherid',\n",
    "                            'recipcode', 'recipprimcode', 'amend', 'report', 'pg', 'microfilm', 'type',\n",
    "                            'realcode', 'source']\n",
    "\n",
    "df_pac_other22 = create_dataframe('../../data/open_secrets/CampaignFin22/pac_other22.csv', columns_pac_other22)"
   ]
  },
  {
   "cell_type": "code",
   "execution_count": null,
   "id": "622983e4-384f-48b1-97b5-0e1aecdf37b9",
   "metadata": {},
   "outputs": [],
   "source": [
    "df_pac_other22.head()"
   ]
  },
  {
   "cell_type": "code",
   "execution_count": null,
   "id": "aff12fec-c42c-4aee-9e6e-6d137d610ecb",
   "metadata": {},
   "outputs": [],
   "source": [
    "# OpenSecrets Data Definition for Lobbyists\n",
    "# https://www.opensecrets.org/resources/datadictionary/Data%20Dictionary%20lob_lobbyists.htm\n",
    "columns_lob_lobbyist = ['uniqid', 'lobbyist_lastname_std', 'lobbyist_firstname_std', 'lobbyist_lastname_raw', \n",
    "                     'lobbyist_firstname_raw', 'lobbyist_id', 'year', 'officialposition', 'cid', 'formercongmem']\n",
    "\n",
    "df_lob_lobbyist = create_dataframe('../../data/open_secrets/Lobby/lob_lobbyist.csv', columns_lob_lobbyist)"
   ]
  },
  {
   "cell_type": "code",
   "execution_count": null,
   "id": "fcff95a2-05f5-4636-bbda-1ed8a1034df9",
   "metadata": {},
   "outputs": [],
   "source": [
    "df_lob_lobbyist.head()"
   ]
  },
  {
   "cell_type": "code",
   "execution_count": null,
   "id": "6a5eb06c-ee9c-48e1-a2e1-6f6466506dc1",
   "metadata": {},
   "outputs": [],
   "source": [
    "# OpenSecrets Data Definitions for Lobbying Data: Lobbying\n",
    "# https://www.opensecrets.org/resources/datadictionary/Data%20Dictionary%20lob_lobbying.htm\n",
    "columns_lob_lobbying = ['uniqid','registrant_raw','registrant','isfirm','client_raw','client','ultorg','amount',\n",
    "                        'catcode','source','self','includensfs','use',\n",
    "                       'ind', 'year', 'type', 'typelong', 'affiliate']\n",
    "\n",
    "df_lob_lobbying = create_dataframe('../../data/open_secrets/Lobby/lob_lobbying.csv', columns_lob_lobbying)"
   ]
  },
  {
   "cell_type": "code",
   "execution_count": null,
   "id": "bd89afea-54d6-4c17-9bea-6a2a44211083",
   "metadata": {},
   "outputs": [],
   "source": [
    "df_lob_lobbying.head()"
   ]
  },
  {
   "cell_type": "code",
   "execution_count": null,
   "id": "723051f5-4c6a-4b3c-8c43-f4a3a22186de",
   "metadata": {},
   "outputs": [],
   "source": [
    "# OpenSecrets Data Definition for Lobbying Data: Lobby issues\n",
    "# https://www.opensecrets.org/resources/datadictionary/Data%20Dictionary%20lob_issues.htm\n",
    "columns_lob_issue = ['si_id', 'uniqid', 'issueid', 'issue', 'specificissue', 5, 6, 7, 8, 9, 10, 'year']\n",
    "\n",
    "df_lob_issue = create_dataframe('../../data/open_secrets/Lobby/lob_issue.csv', columns_lob_issue)"
   ]
  },
  {
   "cell_type": "code",
   "execution_count": null,
   "id": "993e03b7-2b32-4030-a044-75145764c533",
   "metadata": {},
   "outputs": [],
   "source": [
    "df_lob_issue.head()"
   ]
  },
  {
   "cell_type": "code",
   "execution_count": null,
   "id": "e38d56d4-f406-4f3a-96d5-692cbc74e506",
   "metadata": {},
   "outputs": [],
   "source": [
    "# OpenSecrets Data Definition for Lobbying Data: Lobby industries\n",
    "# https://www.opensecrets.org/resources/datadictionary/Data%20Dictionary%20lob_indus.htm\n",
    "columns_lob_indus = ['client', 'sub', 'total', 'year', 'catcode']\n",
    "\n",
    "df_lob_indus = create_dataframe('../../data/open_secrets/Lobby/lob_indus.csv', columns_lob_indus)"
   ]
  },
  {
   "cell_type": "code",
   "execution_count": null,
   "id": "ce78d25f-6ba1-40f2-bd9f-f446689122c3",
   "metadata": {},
   "outputs": [],
   "source": [
    "df_lob_indus.head()"
   ]
  },
  {
   "cell_type": "code",
   "execution_count": null,
   "id": "ed2ce9ee-72e2-415b-8626-5f67f2e1dcb9",
   "metadata": {},
   "outputs": [],
   "source": [
    "# OpenSecrets Data Definition for Lobbying Data: Lobby bills\n",
    "# https://www.opensecrets.org/resources/datadictionary/Data%20Dictionary%20lob_bills.htm\n",
    "columns_lob_bills = ['b_id', 'si_id', 'congno', 'bill_name']\n",
    "\n",
    "df_lob_bills = create_dataframe('../../data/open_secrets/Lobby/lob_bills.csv', columns_lob_bills)"
   ]
  },
  {
   "cell_type": "code",
   "execution_count": null,
   "id": "ee807445-f968-4f5c-948a-f825fc79b4d0",
   "metadata": {},
   "outputs": [],
   "source": [
    "df_lob_bills.head()"
   ]
  },
  {
   "cell_type": "code",
   "execution_count": null,
   "id": "2127ecf8-8c22-4d78-97cc-90308ae1d426",
   "metadata": {},
   "outputs": [],
   "source": [
    "# OpenSecrets Data Definition for Lobbying Data: Lobby agencies\n",
    "# https://www.opensecrets.org/resources/datadictionary/Data%20Dictionary%20lob_agency.htm\n",
    "columns_lob_agency = ['uniqid', 'agencyid', 'agency']\n",
    "\n",
    "df_lob_agency = create_dataframe('../../data/open_secrets/Lobby/lob_agency.csv', columns_lob_agency)"
   ]
  },
  {
   "cell_type": "code",
   "execution_count": null,
   "id": "85a4a70b-08da-4343-9121-70732b962907",
   "metadata": {},
   "outputs": [],
   "source": [
    "df_lob_agency.head()"
   ]
  },
  {
   "cell_type": "code",
   "execution_count": null,
   "id": "c950419d-8268-4a0c-98a5-cfdfa4da1e3b",
   "metadata": {},
   "outputs": [],
   "source": [
    "# OpenSecrets Data Definition: PAC table (PACs to Candidates)\n",
    "# https://www.opensecrets.org/resources/datadictionary/Data%20Dictionary%20for%20PAC%20to%20Cands%20Data.htm\n",
    "columns_campfin22_pacs22 = ['cycle', 'fecrecno', 'pacid', 'cid', 'amount', 'date', 'realcode', \n",
    "                            'type', 'di', 'feccandid']\n",
    "\n",
    "df_campfin22_pacs22 = create_dataframe('../../data/open_secrets/CampaignFin22/pacs22.csv', columns_campfin22_pacs22)"
   ]
  },
  {
   "cell_type": "code",
   "execution_count": null,
   "id": "6e1eaac4-3a0d-445d-a2da-ab7e5e0dcef7",
   "metadata": {},
   "outputs": [],
   "source": [
    "df_campfin22_pacs22.head()"
   ]
  },
  {
   "cell_type": "code",
   "execution_count": null,
   "id": "28618497-1232-44b3-ba69-a5919872f62a",
   "metadata": {},
   "outputs": [],
   "source": [
    "# OpenSecrets Data Dictionary 527 Contribution Data - from IRS Form 8872A\n",
    "# https://www.opensecrets.org/resources/datadictionary/Data%20Dictionary%20527%20Receipts.htm\n",
    "columns_rcpts527 = ['id', 'rpt', 'formid', 'schaid', 'contribid', 'contrib', \n",
    "                    'amount', 'date', 'orgname', 'ultorg', 'realcode', \n",
    "                    'recipid', 'recipcode', 'party', 'recipient', 'city', 'state',\n",
    "                    'zip', 'zip4', 'pmsa', 'employer', 'occupation', 'ytd', 'gender', 'source']\n",
    "\n",
    "df_rcpts527 = create_dataframe('../../data/open_secrets/527/rcpts527.csv', columns_rcpts527)"
   ]
  },
  {
   "cell_type": "code",
   "execution_count": null,
   "id": "841db869-d0f2-44ad-a6c6-70e41fe98b93",
   "metadata": {},
   "outputs": [],
   "source": [
    "df_rcpts527.head()"
   ]
  },
  {
   "cell_type": "code",
   "execution_count": null,
   "id": "cdfaff7b-9cf8-4daa-91e3-78f9c154808c",
   "metadata": {},
   "outputs": [],
   "source": [
    "# OpenSecrets Data Dictionary 527 Expenditure Data - from IRS Form 8872B\n",
    "# https://www.opensecrets.org/resources/datadictionary/Data%20Dictionary%20527%20Expenditures.htm\n",
    "columns_expends527 = ['rpt', 'formid', 'schbid', 'orgname', 'ein', 'recipient', \n",
    "                    'recipientcrp', 'amount', 'date', 'expcode', 'source', \n",
    "                    'purpose', 'addr1', 'addr2', 'city', 'state', 'zip',\n",
    "                    'employer', 'occupation']\n",
    "\n",
    "df_expends527 = create_dataframe('../../data/open_secrets/527/expends527.csv', columns_expends527)"
   ]
  },
  {
   "cell_type": "code",
   "execution_count": null,
   "id": "d43cc1d1-1a29-4d9d-ae1b-ce126b87a854",
   "metadata": {},
   "outputs": [],
   "source": [
    "df_expends527.head()"
   ]
  },
  {
   "cell_type": "code",
   "execution_count": null,
   "id": "067e9985-3a4b-43d9-b032-545c48913e6f",
   "metadata": {},
   "outputs": [],
   "source": [
    "# OpenSecrets Data Dictionary for Expenditure Data - from FEC electronic filings\n",
    "# https://www.opensecrets.org/resources/datadictionary/Data%20Dictionary%20Expenditures.htm\n",
    "columns_expends22 = ['cycle', 'id', 'transid', 'crpfilerid', \n",
    "                     'recipcode', 'pacshort', 'crprecipname', \n",
    "                     'expcode', 'amount', 'date', 'city', 'state', \n",
    "                     'zip', 'cmteid_ef', 'candid', 'type',\n",
    "                     'descrip', 'pg', 'elecother', 'enttype',\n",
    "                     'source']\n",
    "\n",
    "df_expends22 = create_dataframe('../../data/open_secrets/Expend22/expends22.csv', columns_expends22, nrows=1000000)"
   ]
  },
  {
   "cell_type": "code",
   "execution_count": null,
   "id": "43ced051-5b0e-40dd-ba00-6f65c0f7374c",
   "metadata": {},
   "outputs": [],
   "source": [
    "df_expends22.head()"
   ]
  },
  {
   "cell_type": "code",
   "execution_count": null,
   "id": "64023e77-2070-4434-91e0-76095ad6cb97",
   "metadata": {},
   "outputs": [],
   "source": [
    "install_if_needed('xlrd')\n",
    "import xlrd"
   ]
  },
  {
   "cell_type": "code",
   "execution_count": null,
   "id": "87c143fb-27fc-4fb7-9a40-85b811d8ba25",
   "metadata": {},
   "outputs": [],
   "source": [
    "# Candidate ids\n",
    "# This dataset is very different, so load it independently.\n",
    "columns_crp_ids = ['blank_excel_column', 'cid', 'crpname', 'party', 'distidrunfor', 'feccandid'] # Blank excel column is necessary.\n",
    "columns_crp_ids = dict(enumerate(columns_crp_ids))\n",
    "df_crp_ids = pd.read_excel('../../data/open_secrets/CRP_IDs.xls', nrows=10000, header=None, skiprows=15)\n",
    "df_crp_ids = df_crp_ids.drop(df_crp_ids.columns[0], axis=1)\n",
    "df_crp_ids = df_crp_ids.rename(columns=columns_crp_ids)"
   ]
  },
  {
   "cell_type": "code",
   "execution_count": null,
   "id": "cd969fed-15d0-41ba-952d-651504453e03",
   "metadata": {},
   "outputs": [],
   "source": [
    "df_crp_ids.head()"
   ]
  },
  {
   "cell_type": "code",
   "execution_count": null,
   "id": "8ba1a207-8dc2-4907-8da5-9ac0a7d8d1ff",
   "metadata": {},
   "outputs": [],
   "source": [
    "%run modules/plot_contrib.ipynb"
   ]
  },
  {
   "cell_type": "code",
   "execution_count": null,
   "id": "a5c85ea4-b8c7-415a-ab17-96ecccca3e63",
   "metadata": {},
   "outputs": [],
   "source": [
    "%run modules/plot_contrib_pacs22.ipynb"
   ]
  },
  {
   "cell_type": "code",
   "execution_count": null,
   "id": "a19f3972-bd1e-4977-9536-1b232aece703",
   "metadata": {},
   "outputs": [],
   "source": [
    "G = make_plot_contrib_pacs22(df_pac_other22, df_cmtes22, nrows=7500)"
   ]
  },
  {
   "cell_type": "code",
   "execution_count": null,
   "id": "dd7b907c-21a9-4c26-90d1-adddab355b72",
   "metadata": {},
   "outputs": [],
   "source": [
    "plot_contrib_details(G)"
   ]
  },
  {
   "cell_type": "code",
   "execution_count": null,
   "id": "d3a79f96-6907-4bda-a161-fd09821649b4",
   "metadata": {},
   "outputs": [],
   "source": [
    "# Use the graph to construct a party-neutral chart.\n",
    "C = nx.community.greedy_modularity_communities(G)\n",
    "color_map = {'D': 'blue', 'R': 'red', 'G': 'green', 'I': 'brown', 'X': 'gray'}\n",
    "node_colors = {}\n",
    "\n",
    "for community in C:\n",
    "    for node in community:\n",
    "        party = G.nodes[node].get('party', 'X')\n",
    "        node_colors[node] = color_map.get(party, 'gray')\n",
    "\n",
    "node_color_list = [node_colors.get(node, 'gray') for node in G.nodes]\n",
    "plt.figure(figsize=(10, 10))\n",
    "pos = nx.spring_layout(G, k=1, scale=2, iterations=200)\n",
    "nx.draw(G, pos, node_color=node_color_list, with_labels=False, node_size=2, edge_color='gray', width=0.15, edgecolors='white')\n",
    "plt.show()"
   ]
  },
  {
   "cell_type": "code",
   "execution_count": null,
   "id": "fd4b5d59-1f0a-4574-bd6c-b18c7c8212ef",
   "metadata": {},
   "outputs": [],
   "source": [
    "G_D = make_plot_contrib_pacs22(df_pac_other22, df_cmtes22, party='D', nrows=7500)"
   ]
  },
  {
   "cell_type": "code",
   "execution_count": null,
   "id": "dfb6b0f3-945a-4177-852d-56e90b62640b",
   "metadata": {},
   "outputs": [],
   "source": [
    "plot_contrib_details(G_D)"
   ]
  },
  {
   "cell_type": "code",
   "execution_count": null,
   "id": "fd9b1028-68d4-4eec-b253-a1ed34ff6ded",
   "metadata": {},
   "outputs": [],
   "source": [
    "G_R = make_plot_contrib_pacs22(df_pac_other22, df_cmtes22, party='R', nrows=7500)"
   ]
  },
  {
   "cell_type": "code",
   "execution_count": null,
   "id": "b6575ae7-c2c9-4f08-bfad-b71bac2778c9",
   "metadata": {},
   "outputs": [],
   "source": [
    "plot_contrib_details(G_R)"
   ]
  },
  {
   "cell_type": "code",
   "execution_count": null,
   "id": "1f5f5aec-f9f9-4ddf-af1c-ecb0996e3b03",
   "metadata": {},
   "outputs": [],
   "source": []
  }
 ],
 "metadata": {
  "kernelspec": {
   "display_name": "Python 3 (ipykernel)",
   "language": "python",
   "name": "python3"
  },
  "language_info": {
   "codemirror_mode": {
    "name": "ipython",
    "version": 3
   },
   "file_extension": ".py",
   "mimetype": "text/x-python",
   "name": "python",
   "nbconvert_exporter": "python",
   "pygments_lexer": "ipython3",
   "version": "3.12.7"
  }
 },
 "nbformat": 4,
 "nbformat_minor": 5
}
