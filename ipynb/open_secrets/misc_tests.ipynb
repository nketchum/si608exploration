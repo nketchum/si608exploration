{
 "cells": [
  {
   "cell_type": "markdown",
   "id": "ce61132b-07da-46f8-9036-1b23ef7c0f8e",
   "metadata": {},
   "source": [
    "# Miscellaneous Tests #\n",
    "##### A cleaner workspace setup #####"
   ]
  },
  {
   "cell_type": "markdown",
   "id": "bb49c737-37ae-4c27-9f68-dfd69c537631",
   "metadata": {},
   "source": [
    "### Initialize"
   ]
  },
  {
   "cell_type": "code",
   "execution_count": null,
   "id": "e9fe3e1f-9c7c-4629-b11f-0d84cf0b7e79",
   "metadata": {},
   "outputs": [],
   "source": [
    "%run modules/init.ipynb"
   ]
  },
  {
   "cell_type": "markdown",
   "id": "eeb77c65-e0b5-4d8e-85bb-97981428e0bf",
   "metadata": {},
   "source": [
    "### Get dataframes ###"
   ]
  },
  {
   "cell_type": "code",
   "execution_count": null,
   "id": "5b5d3117-9b2b-49dd-8cc0-d4f8f9dcd8ed",
   "metadata": {},
   "outputs": [],
   "source": [
    "%run modules/get_dataframes.ipynb"
   ]
  },
  {
   "cell_type": "markdown",
   "id": "80761db7-3237-4bcd-9e3c-da175e340511",
   "metadata": {},
   "source": [
    "### All set! ###"
   ]
  },
  {
   "cell_type": "code",
   "execution_count": null,
   "id": "68234b71-1f68-4897-b2b1-7aebc3745576",
   "metadata": {},
   "outputs": [],
   "source": [
    "df_indivs22.head()"
   ]
  },
  {
   "cell_type": "code",
   "execution_count": null,
   "id": "a9bbdfa5-f969-415e-ae1e-12ae5b60dbc5",
   "metadata": {},
   "outputs": [],
   "source": []
  }
 ],
 "metadata": {
  "kernelspec": {
   "display_name": "Python 3 (ipykernel)",
   "language": "python",
   "name": "python3"
  },
  "language_info": {
   "codemirror_mode": {
    "name": "ipython",
    "version": 3
   },
   "file_extension": ".py",
   "mimetype": "text/x-python",
   "name": "python",
   "nbconvert_exporter": "python",
   "pygments_lexer": "ipython3",
   "version": "3.12.7"
  }
 },
 "nbformat": 4,
 "nbformat_minor": 5
}
