{
 "cells": [
  {
   "cell_type": "code",
   "execution_count": null,
   "id": "83cf4882-8d63-45f4-9bcf-5cd999ff188b",
   "metadata": {},
   "outputs": [],
   "source": [
    "import pandas as pd\n",
    "import numpy as np"
   ]
  },
  {
   "cell_type": "code",
   "execution_count": null,
   "id": "b7c5478b-456b-4efd-b6bb-17c2169880c2",
   "metadata": {},
   "outputs": [],
   "source": [
    "# Dataset description:\n",
    "# https://www.opensecrets.org/resources/datadictionary/Data%20Dictionary%20for%20Cmtes.htm\n",
    "columns_campfin22_cmtes22 = ['cycle', 'cmteid', 'pacshort', 'affiliate', 'ultorg', 'recipid', \n",
    "                    'recipcode', 'feccandid', 'party', 'primcode', 'source', 'sensitive',\n",
    "                    'foreign', 'active']\n",
    "columns_campfin22_cmtes22 = dict(enumerate(columns_campfin22_cmtes22))"
   ]
  },
  {
   "cell_type": "code",
   "execution_count": null,
   "id": "10f63528-e545-4df5-a0c4-763763bfbce2",
   "metadata": {},
   "outputs": [],
   "source": [
    "df = pd.read_csv('../../data/open_secrets/CampaignFin22/cmtes22.csv', nrows=10000, on_bad_lines='skip', sep=',', header=None, na_values=['N/A', 'NA'])\n",
    "df = df.rename(columns=columns_campfin22_cmtes22)"
   ]
  },
  {
   "cell_type": "code",
   "execution_count": null,
   "id": "c34d933c-2e01-40b6-841c-52153b6bb609",
   "metadata": {},
   "outputs": [],
   "source": [
    "# Get rid of the pipes on both sides of the data.\n",
    "df = df.map(lambda x: x.replace('|', '') if type(x) == str else x)\n",
    "\n",
    "# Other cleanup.\n",
    "df['cycle'] = df['cycle'].apply(lambda x: int(x))\n",
    "df['foreign'] = df['foreign'].apply(lambda x: int(x))\n",
    "df['active'] = df['active'].apply(lambda x: int(x))"
   ]
  },
  {
   "cell_type": "code",
   "execution_count": null,
   "id": "f57b3c55-1697-4b56-9fa7-d69ed954a57a",
   "metadata": {},
   "outputs": [],
   "source": [
    "df"
   ]
  },
  {
   "cell_type": "code",
   "execution_count": null,
   "id": "3f79e6dd-2223-4f30-b531-4b0708d90fc4",
   "metadata": {},
   "outputs": [],
   "source": []
  }
 ],
 "metadata": {
  "kernelspec": {
   "display_name": "Python 3 (ipykernel)",
   "language": "python",
   "name": "python3"
  },
  "language_info": {
   "codemirror_mode": {
    "name": "ipython",
    "version": 3
   },
   "file_extension": ".py",
   "mimetype": "text/x-python",
   "name": "python",
   "nbconvert_exporter": "python",
   "pygments_lexer": "ipython3",
   "version": "3.12.4"
  }
 },
 "nbformat": 4,
 "nbformat_minor": 5
}
