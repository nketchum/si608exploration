{
 "cells": [
  {
   "cell_type": "markdown",
   "id": "2c66ebe9-c23e-4bb8-bb17-0388ae34365f",
   "metadata": {},
   "source": [
    "#### Create a graph of contribution between PACs ####\n",
    "\n",
    "Plots fund transfers between \"pac_other22.csv\" to \"cmtes22.csv\""
   ]
  },
  {
   "cell_type": "code",
   "execution_count": 20,
   "id": "fa34dea2-aba6-4391-9d87-88df2dcd35e0",
   "metadata": {},
   "outputs": [],
   "source": [
    "def make_plot_contrib_pacs22(df_pac_other22, df_cmtes22, party=None, nrows=1e100):\n",
    "    \n",
    "    # Duplicate dataframe.\n",
    "    df_pac_other22_temp = df_pac_other22[['filerid', 'recipid', 'party']]\n",
    "    df_pac_other22_deduped = df_pac_other22_temp.drop_duplicates()\n",
    "    \n",
    "    # Create placeholder for no party.\n",
    "    df_pac_other22_deduped['party'] = df_pac_other22_deduped['party'].replace(['', ' '], 'X').fillna('X').str.strip().replace('', 'X').fillna('X')\n",
    "    \n",
    "    # Filter rows where column1 is not equal to column2\n",
    "    df_pac_other22_filtered = df_pac_other22_deduped[df_pac_other22_deduped['filerid'] != df_pac_other22_deduped['recipid']]\n",
    "    df_pac_other22_filtered[~df_pac_other22_filtered['filerid'].isna() & (df_pac_other22_filtered['filerid'] != '')]\n",
    "    df_pac_other22_filtered[~df_pac_other22_filtered['recipid'].isna() & (df_pac_other22_filtered['recipid'] != '')]\n",
    "\n",
    "    # Filter by party, if desired. \"D\" or \"R\"\n",
    "    if party != None:\n",
    "        df_pac_other22_filtered = df_pac_other22_filtered[df_pac_other22_filtered['party'] == party]\n",
    "\n",
    "    # Duplicate edges as weights. No... should be dollar amount.\n",
    "    df_edges = df_pac_other22_filtered[:nrows].groupby(['filerid', 'recipid']).size().reset_index(name='weight')\n",
    "    \n",
    "    # Make graph with weighted edges.\n",
    "    G = nx.from_pandas_edgelist(df_edges, source='filerid', target='recipid', edge_attr='weight', create_using=nx.DiGraph())\n",
    "    in_degrees = dict(G.in_degree())\n",
    "    nodes_sorted = sorted(G.nodes, key=in_degrees.get, reverse=True)\n",
    "    \n",
    "    # Degree-based node size.\n",
    "    node_sizes_sorted = [in_degrees[node] * 10 for node in nodes_sorted]\n",
    "    \n",
    "    # Top n degree labels.\n",
    "    label_dict = pd.Series(df_cmtes22.pacshort.values, index=df_cmtes22.cmteid).to_dict()\n",
    "    top_n_nodes = sorted(in_degrees, key=in_degrees.get, reverse=True)[:20]\n",
    "    top_n_labels = {node: split_label(label_dict[node].upper()) for node in top_n_nodes if node in label_dict}\n",
    "    \n",
    "    # Party node color.\n",
    "    df_pac_other22['filerid'] = df_pac_other22['filerid'].fillna('X')\n",
    "    df_pac_other22['filerid'] = df_pac_other22['filerid'].astype(str)\n",
    "    color_map = {'D': 'blue', 'R': 'red', 'G': 'green', 'I': 'brown', 'X': 'gray'}\n",
    "    node_colors = {row['filerid']: color_map.get(row['party'], 'gray') for _, row in df_pac_other22.iterrows()}\n",
    "    node_color_list_sorted = [node_colors.get(str(node), 'gray') for node in nodes_sorted]\n",
    "    \n",
    "    # Party edge color.\n",
    "    in_degree_values = [in_degrees[target] for _, target in G.edges]\n",
    "    norm = plt.Normalize(vmin=min(in_degree_values), vmax=max(in_degree_values))\n",
    "    edge_colors = [node_colors.get(str(source), 'gray') for source, _ in G.edges]\n",
    "    \n",
    "    # Node spacing.\n",
    "    initial_pos = {node: (0.5, 0.5) for node in top_n_nodes}\n",
    "    pos = nx.spring_layout(G, pos=initial_pos, fixed=top_n_nodes, k=1.25, scale=1.5, iterations=200)\n",
    "\n",
    "    # Edges.\n",
    "    edge_widths = [G[u][v]['weight'] * 0.1 for u, v in G.edges]\n",
    "    \n",
    "    # Draw.\n",
    "    plt.figure(figsize=(10, 10))\n",
    "    pos = nx.spring_layout(G)\n",
    "    nx.draw_networkx_edges(G, pos, width=edge_widths, edge_color=edge_colors) #0.15 width\n",
    "    nx.draw_networkx_nodes(G, pos, nodelist=nodes_sorted, node_color=node_color_list_sorted, node_size=node_sizes_sorted, edgecolors='white', linewidths=1)\n",
    "    nx.draw_networkx_labels(G, pos, labels=top_n_labels, font_size=5, font_color=\"black\", bbox=dict(facecolor='white', edgecolor='none', boxstyle='round,pad=0.4'))\n",
    "    plt.show()\n",
    "\n",
    "    return G"
   ]
  },
  {
   "cell_type": "code",
   "execution_count": null,
   "id": "d1a65d8b-5bf1-43c6-8770-a8d11bd60755",
   "metadata": {},
   "outputs": [],
   "source": []
  }
 ],
 "metadata": {
  "kernelspec": {
   "display_name": "Python 3 (ipykernel)",
   "language": "python",
   "name": "python3"
  },
  "language_info": {
   "codemirror_mode": {
    "name": "ipython",
    "version": 3
   },
   "file_extension": ".py",
   "mimetype": "text/x-python",
   "name": "python",
   "nbconvert_exporter": "python",
   "pygments_lexer": "ipython3",
   "version": "3.12.7"
  }
 },
 "nbformat": 4,
 "nbformat_minor": 5
}
