{
 "cells": [
  {
   "cell_type": "code",
   "execution_count": null,
   "id": "83cf4882-8d63-45f4-9bcf-5cd999ff188b",
   "metadata": {},
   "outputs": [],
   "source": [
    "import pandas as pd\n",
    "import numpy as np"
   ]
  },
  {
   "cell_type": "code",
   "execution_count": null,
   "id": "b7c5478b-456b-4efd-b6bb-17c2169880c2",
   "metadata": {},
   "outputs": [],
   "source": [
    "# Dataset description:\n",
    "# https://www.opensecrets.org/resources/datadictionary/Data%20Dictionary%20lob_bills.htm\n",
    "columns_lob_indus = ['b_id', 'si_id', 'congno', 'bill_name']\n",
    "\n",
    "columns_lob_indus = dict(enumerate(columns_lob_indus))"
   ]
  },
  {
   "cell_type": "code",
   "execution_count": null,
   "id": "10f63528-e545-4df5-a0c4-763763bfbce2",
   "metadata": {},
   "outputs": [],
   "source": [
    "df = pd.read_csv('../../data/open_secrets/Lobby/lob_agency.csv', nrows=10000, on_bad_lines='skip', sep=',', header=None, na_values=['N/A', 'NA'])\n",
    "df = df.rename(columns=columns_lob_indus)"
   ]
  },
  {
   "cell_type": "code",
   "execution_count": null,
   "id": "f5e25fa7-a90a-4d31-bdca-c56a0c45aa1f",
   "metadata": {},
   "outputs": [],
   "source": [
    "# Get rid of the pipes on both sides of the data.\n",
    "df = df.map(lambda x: x.replace('|', '') if type(x) == str else x)\n",
    "\n",
    "# Other cleanup.\n",
    "df['si_id'] = df['si_id'].apply(lambda x: int(x))"
   ]
  },
  {
   "cell_type": "code",
   "execution_count": null,
   "id": "084b581b-6c72-40a9-bfcd-e34aa2cf442f",
   "metadata": {},
   "outputs": [],
   "source": [
    "df"
   ]
  },
  {
   "cell_type": "code",
   "execution_count": null,
   "id": "a477b346-fe1f-4b48-beb7-ad3d7d2df512",
   "metadata": {},
   "outputs": [],
   "source": []
  }
 ],
 "metadata": {
  "kernelspec": {
   "display_name": "Python 3 (ipykernel)",
   "language": "python",
   "name": "python3"
  },
  "language_info": {
   "codemirror_mode": {
    "name": "ipython",
    "version": 3
   },
   "file_extension": ".py",
   "mimetype": "text/x-python",
   "name": "python",
   "nbconvert_exporter": "python",
   "pygments_lexer": "ipython3",
   "version": "3.12.4"
  }
 },
 "nbformat": 4,
 "nbformat_minor": 5
}
