{
 "cells": [
  {
   "cell_type": "code",
   "execution_count": null,
   "id": "83cf4882-8d63-45f4-9bcf-5cd999ff188b",
   "metadata": {},
   "outputs": [],
   "source": [
    "import pandas as pd\n",
    "import numpy as np"
   ]
  },
  {
   "cell_type": "code",
   "execution_count": null,
   "id": "b7c5478b-456b-4efd-b6bb-17c2169880c2",
   "metadata": {},
   "outputs": [],
   "source": [
    "# Dataset description:\n",
    "# https://www.opensecrets.org/resources/datadictionary/Data%20Dictionary%20lob_lobbying.htm\n",
    "columns_lob_lobbying = ['uniqid','registrant_raw','registrant','isfirm','client_raw','client','ultorg','amount',\n",
    "                        'catcode','source','self','includensfs','use',\n",
    "                       'ind', 'year', 'type', 'typelong', 'affiliate']\n",
    "\n",
    "columns_lob_lobbying = dict(enumerate(columns_lob_lobbying))"
   ]
  },
  {
   "cell_type": "code",
   "execution_count": null,
   "id": "10f63528-e545-4df5-a0c4-763763bfbce2",
   "metadata": {},
   "outputs": [],
   "source": [
    "df = pd.read_csv('../../data/open_secrets/Lobby/lob_lobbying.csv', on_bad_lines='skip', sep=',', header=None, na_values=['N/A', 'NA'], encoding='ISO-8859-1')\n",
    "df = df.rename(columns=columns_lob_lobbying)"
   ]
  },
  {
   "cell_type": "code",
   "execution_count": null,
   "id": "4797002c-c849-4a70-a5ba-34f4ad9b0206",
   "metadata": {},
   "outputs": [],
   "source": [
    "df.head()"
   ]
  },
  {
   "cell_type": "code",
   "execution_count": null,
   "id": "f5e25fa7-a90a-4d31-bdca-c56a0c45aa1f",
   "metadata": {},
   "outputs": [],
   "source": [
    "# Get rid of the pipes on both sides of the data.\n",
    "df = df.map(lambda x: x.replace('|', '') if type(x) == str else x)\n",
    "\n",
    "# Other cleanup.\n",
    "df['year'] = pd.to_numeric(df['year'], errors='coerce')\n",
    "df = df.dropna(subset=['year'])\n",
    "df['year'] = df['year'].astype(int)\n",
    "\n",
    "df['amount'] = pd.to_numeric(df['amount'], errors='coerce')\n",
    "df = df.dropna(subset=['amount'])\n",
    "df['amount'] = df['amount'].astype(int)"
   ]
  },
  {
   "cell_type": "code",
   "execution_count": null,
   "id": "cdd96cfb-6537-4b3e-aeda-f1e884345976",
   "metadata": {},
   "outputs": [],
   "source": [
    "# Look only at recent data.\n",
    "df_recent = df[df['year'] >= 2020]\n",
    "\n",
    "# Sort by amount.\n",
    "df_sorted = df_recent.sort_values(by='amount', ascending=False)\n",
    "df_sorted = df_sorted.reset_index(drop=True)"
   ]
  },
  {
   "cell_type": "code",
   "execution_count": null,
   "id": "084b581b-6c72-40a9-bfcd-e34aa2cf442f",
   "metadata": {},
   "outputs": [],
   "source": [
    "pd.options.display.max_columns = None\n",
    "df_sorted"
   ]
  },
  {
   "cell_type": "code",
   "execution_count": null,
   "id": "a477b346-fe1f-4b48-beb7-ad3d7d2df512",
   "metadata": {},
   "outputs": [],
   "source": [
    "df_sorted[df_sorted['cid'] == 'G2022']"
   ]
  },
  {
   "cell_type": "code",
   "execution_count": null,
   "id": "c911f612-a6d6-4ef3-816c-03a7b4105c63",
   "metadata": {},
   "outputs": [],
   "source": []
  }
 ],
 "metadata": {
  "kernelspec": {
   "display_name": "Python 3 (ipykernel)",
   "language": "python",
   "name": "python3"
  },
  "language_info": {
   "codemirror_mode": {
    "name": "ipython",
    "version": 3
   },
   "file_extension": ".py",
   "mimetype": "text/x-python",
   "name": "python",
   "nbconvert_exporter": "python",
   "pygments_lexer": "ipython3",
   "version": "3.12.7"
  }
 },
 "nbformat": 4,
 "nbformat_minor": 5
}
