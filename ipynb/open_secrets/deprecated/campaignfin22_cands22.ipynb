{
 "cells": [
  {
   "cell_type": "code",
   "execution_count": null,
   "id": "83cf4882-8d63-45f4-9bcf-5cd999ff188b",
   "metadata": {},
   "outputs": [],
   "source": [
    "import pandas as pd\n",
    "import numpy as np"
   ]
  },
  {
   "cell_type": "code",
   "execution_count": null,
   "id": "b7c5478b-456b-4efd-b6bb-17c2169880c2",
   "metadata": {},
   "outputs": [],
   "source": [
    "# Dataset description:\n",
    "# https://www.opensecrets.org/resources/datadictionary/Data%20Dictionary%20Candidates%20Data.htm\n",
    "columns_campfin22_cands22 = ['cycle', 'feccandid', 'cid', 'firstlastp', 'party', 'distidrunfor', \n",
    "                    'distidcurr', 'currcand', 'cyclecand', 'crpico', 'recipcode', \n",
    "                    'nopacs']\n",
    "columns_campfin22_cands22 = dict(enumerate(columns_campfin22_cands22))"
   ]
  },
  {
   "cell_type": "code",
   "execution_count": null,
   "id": "10f63528-e545-4df5-a0c4-763763bfbce2",
   "metadata": {},
   "outputs": [],
   "source": [
    "df = pd.read_csv('../../../data/open_secrets/CampaignFin22/cands22.csv', on_bad_lines='skip', sep=',', header=None, na_values=['N/A', 'NA'])\n",
    "df = df.rename(columns=columns_campfin22_cands22)"
   ]
  },
  {
   "cell_type": "code",
   "execution_count": null,
   "id": "c34d933c-2e01-40b6-841c-52153b6bb609",
   "metadata": {},
   "outputs": [],
   "source": [
    "# Get rid of the pipes on both sides of the data.\n",
    "df = df.applymap(lambda x: x.replace('|', '') if type(x) == str else x)\n",
    "\n",
    "# Other cleanup.\n",
    "df['cycle'] = df['cycle'].apply(lambda x: int(x))"
   ]
  },
  {
   "cell_type": "code",
   "execution_count": null,
   "id": "f57b3c55-1697-4b56-9fa7-d69ed954a57a",
   "metadata": {},
   "outputs": [],
   "source": [
    "pd.options.display.max_columns = None\n",
    "df"
   ]
  },
  {
   "cell_type": "code",
   "execution_count": null,
   "id": "dbf4b65e-ed7f-402c-9825-a074a6c2a0fd",
   "metadata": {},
   "outputs": [],
   "source": [
    "# See crp_ids.ipynb where candidate names, their party, and their district are all associated with a cid and a feccandid."
   ]
  },
  {
   "cell_type": "code",
   "execution_count": null,
   "id": "6be362f0-85f5-41d6-a725-9b3018e7e4dc",
   "metadata": {},
   "outputs": [],
   "source": [
    "df_cand = df[df['feccandid'] == 'H8IN07184'] # good if we analyze only ONE cycle. This field is more present across datasets.\n",
    "df_cand"
   ]
  },
  {
   "cell_type": "code",
   "execution_count": null,
   "id": "dcda57b3-f8ac-4c95-a072-1ceab4d9c6db",
   "metadata": {},
   "outputs": [],
   "source": [
    "df_cand2 = df[df['cid'] == 'N00029513'] # this is the non-mutable candidate id, but there are other tables that use \"cid\" for other things.\n",
    "df_cand2"
   ]
  },
  {
   "cell_type": "code",
   "execution_count": null,
   "id": "480bf699-a83c-495f-999c-47ad21d3caaa",
   "metadata": {},
   "outputs": [],
   "source": [
    "df_cand3 = df[df['cid'] == 'N00036203']\n",
    "df_cand3"
   ]
  },
  {
   "cell_type": "code",
   "execution_count": null,
   "id": "8e8a513a-2059-4910-a839-03633f56a50c",
   "metadata": {},
   "outputs": [],
   "source": []
  }
 ],
 "metadata": {
  "kernelspec": {
   "display_name": "Python 3 (ipykernel)",
   "language": "python",
   "name": "python3"
  },
  "language_info": {
   "codemirror_mode": {
    "name": "ipython",
    "version": 3
   },
   "file_extension": ".py",
   "mimetype": "text/x-python",
   "name": "python",
   "nbconvert_exporter": "python",
   "pygments_lexer": "ipython3",
   "version": "3.12.7"
  }
 },
 "nbformat": 4,
 "nbformat_minor": 5
}
