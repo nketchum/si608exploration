{
 "cells": [
  {
   "cell_type": "code",
   "execution_count": null,
   "id": "83cf4882-8d63-45f4-9bcf-5cd999ff188b",
   "metadata": {},
   "outputs": [],
   "source": [
    "import pandas as pd\n",
    "import numpy as np"
   ]
  },
  {
   "cell_type": "code",
   "execution_count": null,
   "id": "b7c5478b-456b-4efd-b6bb-17c2169880c2",
   "metadata": {},
   "outputs": [],
   "source": [
    "# Dataset description:\n",
    "# https://www.opensecrets.org/resources/datadictionary/Data%20Dictionary%20527%20Receipts.htm\n",
    "columns_rcpts527 = ['id', 'rpt', 'formid', 'schaid', 'contribid', 'contrib', \n",
    "                    'amount', 'date', 'orgname', 'ultorg', 'realcode', \n",
    "                    'recipid', 'recipcode', 'party', 'recipient', 'city', 'state',\n",
    "                    'zip', 'zip4', 'pmsa', 'employer', 'occupation', 'ytd', 'gender', 'source']\n",
    "columns_rcpts527 = dict(enumerate(columns_rcpts527))"
   ]
  },
  {
   "cell_type": "code",
   "execution_count": null,
   "id": "10f63528-e545-4df5-a0c4-763763bfbce2",
   "metadata": {},
   "outputs": [],
   "source": [
    "df = pd.read_csv('../../../data/open_secrets/527/rcpts527.csv', on_bad_lines='skip', sep=',', header=None, na_values=['N/A', 'NA'], encoding='ISO-8859-1')\n",
    "df = df.rename(columns=columns_rcpts527)"
   ]
  },
  {
   "cell_type": "code",
   "execution_count": null,
   "id": "c34d933c-2e01-40b6-841c-52153b6bb609",
   "metadata": {},
   "outputs": [],
   "source": [
    "# Get rid of the pipes on both sides of the data.\n",
    "df = df.applymap(lambda x: x.replace('|', '') if type(x) == str else x)\n",
    "\n",
    "# Other cleanup. A different method due to length\n",
    "# of datasource and its many messed up values.\n",
    "df['id'] = pd.to_numeric(df['id'], errors='coerce')\n",
    "df = df.dropna(subset=['id'])\n",
    "df['id'] = df['id'].astype(int)\n",
    "\n",
    "df['formid'] = pd.to_numeric(df['formid'], errors='coerce')\n",
    "df = df.dropna(subset=['formid'])\n",
    "df['formid'] = df['formid'].astype(int)\n",
    "\n",
    "df['schaid'] = pd.to_numeric(df['schaid'], errors='coerce')\n",
    "df = df.dropna(subset=['schaid'])\n",
    "df['schaid'] = df['schaid'].astype(int)\n",
    "\n",
    "df['amount'] = pd.to_numeric(df['amount'], errors='coerce')\n",
    "df = df.dropna(subset=['amount'])\n",
    "df['amount'] = df['amount'].astype(int)\n",
    "\n",
    "df['zip'] = pd.to_numeric(df['zip'], errors='coerce')\n",
    "df = df.dropna(subset=['zip'])\n",
    "df['zip'] = df['zip'].astype(int)\n",
    "\n",
    "df['ytd'] = pd.to_numeric(df['ytd'], errors='coerce')\n",
    "df = df.dropna(subset=['ytd'])\n",
    "df['ytd'] = df['ytd'].astype(int)"
   ]
  },
  {
   "cell_type": "code",
   "execution_count": null,
   "id": "f57b3c55-1697-4b56-9fa7-d69ed954a57a",
   "metadata": {},
   "outputs": [],
   "source": [
    "pd.options.display.max_columns = None\n",
    "df"
   ]
  },
  {
   "cell_type": "code",
   "execution_count": null,
   "id": "3f79e6dd-2223-4f30-b531-4b0708d90fc4",
   "metadata": {},
   "outputs": [],
   "source": [
    "df[df['orgname']== 'Andre Carson for Congress']"
   ]
  },
  {
   "cell_type": "code",
   "execution_count": null,
   "id": "bd5bdb3c-f316-4a3b-ba4f-d2eaa5af0fe1",
   "metadata": {},
   "outputs": [],
   "source": []
  }
 ],
 "metadata": {
  "kernelspec": {
   "display_name": "Python 3 (ipykernel)",
   "language": "python",
   "name": "python3"
  },
  "language_info": {
   "codemirror_mode": {
    "name": "ipython",
    "version": 3
   },
   "file_extension": ".py",
   "mimetype": "text/x-python",
   "name": "python",
   "nbconvert_exporter": "python",
   "pygments_lexer": "ipython3",
   "version": "3.12.7"
  }
 },
 "nbformat": 4,
 "nbformat_minor": 5
}
