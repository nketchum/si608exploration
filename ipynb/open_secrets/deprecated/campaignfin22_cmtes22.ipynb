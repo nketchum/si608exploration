{
 "cells": [
  {
   "cell_type": "code",
   "execution_count": null,
   "id": "83cf4882-8d63-45f4-9bcf-5cd999ff188b",
   "metadata": {},
   "outputs": [],
   "source": [
    "import pandas as pd\n",
    "import numpy as np"
   ]
  },
  {
   "cell_type": "code",
   "execution_count": null,
   "id": "b7c5478b-456b-4efd-b6bb-17c2169880c2",
   "metadata": {},
   "outputs": [],
   "source": [
    "# Dataset description:\n",
    "# https://www.opensecrets.org/resources/datadictionary/Data%20Dictionary%20for%20Cmtes.htm\n",
    "columns_campfin22_cmtes22 = ['cycle', 'cmteid', 'pacshort', 'affiliate', 'ultorg', 'recipid', \n",
    "                    'recipcode', 'feccandid', 'party', 'primcode', 'source', 'sensitive',\n",
    "                    'foreign', 'active']\n",
    "columns_campfin22_cmtes22 = dict(enumerate(columns_campfin22_cmtes22))"
   ]
  },
  {
   "cell_type": "code",
   "execution_count": null,
   "id": "10f63528-e545-4df5-a0c4-763763bfbce2",
   "metadata": {},
   "outputs": [],
   "source": [
    "df = pd.read_csv('../../../data/open_secrets/CampaignFin22/cmtes22.csv', on_bad_lines='skip', sep=',', header=None, na_values=['N/A', 'NA'])\n",
    "df = df.rename(columns=columns_campfin22_cmtes22)"
   ]
  },
  {
   "cell_type": "code",
   "execution_count": null,
   "id": "c34d933c-2e01-40b6-841c-52153b6bb609",
   "metadata": {},
   "outputs": [],
   "source": [
    "# Get rid of the pipes on both sides of the data.\n",
    "df = df.applymap(lambda x: x.replace('|', '') if type(x) == str else x)\n",
    "\n",
    "# Other cleanup.\n",
    "df['cycle'] = df['cycle'].apply(lambda x: int(x))\n",
    "df['foreign'] = df['foreign'].apply(lambda x: int(x))\n",
    "df['active'] = df['active'].apply(lambda x: int(x))"
   ]
  },
  {
   "cell_type": "code",
   "execution_count": null,
   "id": "f57b3c55-1697-4b56-9fa7-d69ed954a57a",
   "metadata": {},
   "outputs": [],
   "source": [
    "pd.options.display.max_columns = None\n",
    "df"
   ]
  },
  {
   "cell_type": "code",
   "execution_count": null,
   "id": "3f79e6dd-2223-4f30-b531-4b0708d90fc4",
   "metadata": {},
   "outputs": [],
   "source": [
    "df_rcpt = df[df['recipid'] == 'C00000935']\n",
    "df_rcpt"
   ]
  },
  {
   "cell_type": "code",
   "execution_count": null,
   "id": "99c71561-d73e-40ce-8da6-419f94c47bef",
   "metadata": {},
   "outputs": [],
   "source": [
    "df_cmte = df[df['cmteid'] == 'C00000935']\n",
    "df_cmte"
   ]
  },
  {
   "cell_type": "code",
   "execution_count": null,
   "id": "40452cb5-b559-4778-8fbc-fd745f23bd57",
   "metadata": {},
   "outputs": [],
   "source": [
    "# Andrew Carlson's committee\n",
    "df_cand1a = df[df['recipid'] == 'N00029513']\n",
    "df_cand1a"
   ]
  },
  {
   "cell_type": "code",
   "execution_count": null,
   "id": "bdedd31a-4a7c-4dc2-832a-6ec86d57fae5",
   "metadata": {},
   "outputs": [],
   "source": [
    "df_cand1b = df[df['cmteid'] == 'C00442921']\n",
    "df_cand1b"
   ]
  },
  {
   "cell_type": "code",
   "execution_count": null,
   "id": "5ef8934f-c216-45e2-9b68-018fc8c6224b",
   "metadata": {},
   "outputs": [],
   "source": [
    "df_cand2a = df[df['recipid'] == 'N00036203']\n",
    "df_cand2a"
   ]
  },
  {
   "cell_type": "code",
   "execution_count": null,
   "id": "ba826185-f378-40e1-b2b9-49802821b68e",
   "metadata": {},
   "outputs": [],
   "source": [
    "df_cand2b = df[df['cmteid'] == 'C00558874']\n",
    "df_cand2b"
   ]
  },
  {
   "cell_type": "code",
   "execution_count": null,
   "id": "cc7622b8-4074-4429-957a-e4e2ad7c8b09",
   "metadata": {},
   "outputs": [],
   "source": []
  }
 ],
 "metadata": {
  "kernelspec": {
   "display_name": "Python 3 (ipykernel)",
   "language": "python",
   "name": "python3"
  },
  "language_info": {
   "codemirror_mode": {
    "name": "ipython",
    "version": 3
   },
   "file_extension": ".py",
   "mimetype": "text/x-python",
   "name": "python",
   "nbconvert_exporter": "python",
   "pygments_lexer": "ipython3",
   "version": "3.12.7"
  }
 },
 "nbformat": 4,
 "nbformat_minor": 5
}
