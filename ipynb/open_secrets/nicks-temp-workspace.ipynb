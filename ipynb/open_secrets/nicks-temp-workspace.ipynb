{
 "cells": [
  {
   "cell_type": "markdown",
   "id": "7afacead-3850-4449-8769-58ce13d7092c",
   "metadata": {},
   "source": [
    "# SI 608 Project – Workspace #\n",
    "#### General scratchpad workspace that preloads all the dataframes. ####\n",
    "See <code>./modules</code> to review how libraries are installed and imported, as well as where the data is loaded, cleaned, and formatted. This is only here as a helpful tool, make a copy and do whatever you'd like. Or don't use this at all if that's preferable.\n",
    "\n",
    "[OpenSecrets Data Dictionary Index](../../docs/open_source_data_dictionary.md)\n",
    "<br><small><em>(View the index with markdown preview)</em></small>"
   ]
  },
  {
   "cell_type": "markdown",
   "id": "bb49c737-37ae-4c27-9f68-dfd69c537631",
   "metadata": {},
   "source": [
    "### Initialize\n",
    "Init file contains helper functions used throughout the project."
   ]
  },
  {
   "cell_type": "code",
   "execution_count": null,
   "id": "e9fe3e1f-9c7c-4629-b11f-0d84cf0b7e79",
   "metadata": {},
   "outputs": [],
   "source": [
    "%run modules/init.ipynb"
   ]
  },
  {
   "cell_type": "markdown",
   "id": "06ef431d-e62a-4939-8e87-c3872ff74289",
   "metadata": {},
   "source": [
    "#### Load datasets ####\n",
    "\n",
    "This module provides a single function for all of the *contribution* data from OpenSecrets."
   ]
  },
  {
   "cell_type": "code",
   "execution_count": null,
   "id": "a202191c-e3f4-4b79-b025-d5117db102a0",
   "metadata": {},
   "outputs": [],
   "source": [
    "%run modules/data.ipynb"
   ]
  },
  {
   "cell_type": "code",
   "execution_count": null,
   "id": "afb6d4dc-2a67-46a4-a94c-80bd17ed7095",
   "metadata": {},
   "outputs": [],
   "source": [
    "# OpenSecrets Data Definition: 527 Committees\n",
    "# https://www.opensecrets.org/resources/datadictionary/Data%20Dictionary%20527%20Cmtes.htm\n",
    "columns_cmtes527 = ['cycle', 'rpt', 'ein', 'crp527name', 'affiliate', 'ultorg', \n",
    "                    'recipcode', 'cmteid', 'cid', 'eccmteid', 'party', \n",
    "                    'primcode', 'source', 'ffreq', 'ctype', 'csource', 'viewpt',\n",
    "                    'comments', 'state']\n",
    "\n",
    "df_cmtes527 = create_dataframe('../../data/open_secrets/527/cmtes527.csv', columns_cmtes527)"
   ]
  },
  {
   "cell_type": "code",
   "execution_count": null,
   "id": "a7118844-8ba8-4196-9eba-9ef1c4d1972a",
   "metadata": {},
   "outputs": [],
   "source": [
    "df_cmtes527.head(3)"
   ]
  },
  {
   "cell_type": "code",
   "execution_count": null,
   "id": "cdfaff7b-9cf8-4daa-91e3-78f9c154808c",
   "metadata": {},
   "outputs": [],
   "source": [
    "# OpenSecrets Data Dictionary 527 Expenditure Data - from IRS Form 8872B\n",
    "# https://www.opensecrets.org/resources/datadictionary/Data%20Dictionary%20527%20Expenditures.htm\n",
    "columns_expends527 = ['rpt', 'formid', 'schbid', 'orgname', 'ein', 'recipient', \n",
    "                    'recipientcrp', 'amount', 'date', 'expcode', 'source', \n",
    "                    'purpose', 'addr1', 'addr2', 'city', 'state', 'zip',\n",
    "                    'employer', 'occupation']\n",
    "\n",
    "df_expends527 = create_dataframe('../../data/open_secrets/527/expends527.csv', columns_expends527)"
   ]
  },
  {
   "cell_type": "code",
   "execution_count": null,
   "id": "d43cc1d1-1a29-4d9d-ae1b-ce126b87a854",
   "metadata": {},
   "outputs": [],
   "source": [
    "df_expends527.head(3)"
   ]
  },
  {
   "cell_type": "code",
   "execution_count": null,
   "id": "28618497-1232-44b3-ba69-a5919872f62a",
   "metadata": {},
   "outputs": [],
   "source": [
    "# OpenSecrets Data Dictionary 527 Contribution Data - from IRS Form 8872A\n",
    "# https://www.opensecrets.org/resources/datadictionary/Data%20Dictionary%20527%20Receipts.htm\n",
    "columns_rcpts527 = ['id', 'rpt', 'formid', 'schaid', 'contribid', 'contrib', \n",
    "                    'amount', 'date', 'orgname', 'ultorg', 'realcode', \n",
    "                    'recipid', 'recipcode', 'party', 'recipient', 'city', 'state',\n",
    "                    'zip', 'zip4', 'pmsa', 'employer', 'occupation', 'ytd', 'gender', 'source']\n",
    "\n",
    "df_rcpts527 = create_dataframe('../../data/open_secrets/527/rcpts527.csv', columns_rcpts527)"
   ]
  },
  {
   "cell_type": "code",
   "execution_count": null,
   "id": "841db869-d0f2-44ad-a6c6-70e41fe98b93",
   "metadata": {},
   "outputs": [],
   "source": [
    "df_rcpts527.head(3)"
   ]
  },
  {
   "cell_type": "code",
   "execution_count": null,
   "id": "494cab31-9bef-40f7-8c7c-d468bb649787",
   "metadata": {},
   "outputs": [],
   "source": [
    "# OpenSecrets Data Definition: Candidates\n",
    "# https://www.opensecrets.org/resources/datadictionary/Data%20Dictionary%20Candidates%20Data.htm\n",
    "columns_cands22 = ['cycle', 'feccandid', 'cid', 'firstlastp', 'party', 'distidrunfor', \n",
    "                    'distidcurr', 'currcand', 'cyclecand', 'crpico', 'recipcode', \n",
    "                    'nopacs']\n",
    "\n",
    "df_cands22 = create_dataframe('../../data/open_secrets/CampaignFin22/cands22.csv', columns_cands22)\n",
    "\n",
    "# Remove party labels from names: '3', 'R', 'D', 'I', 'L', 'U', 'i'\n",
    "df_cands22['firstlast_cands22'] = df_cands22['firstlastp_cands22'].apply(\n",
    "    lambda x: x.replace(\" (3)\", \"\").replace(\" (R)\", \"\").replace(\" (D)\", \"\").replace(\" (I)\", \"\").replace(\" (L)\", \"\").replace(\" (U)\", \"\").replace(\" (i)\", \"\") if isinstance(x, str) else x\n",
    ")"
   ]
  },
  {
   "cell_type": "code",
   "execution_count": null,
   "id": "8a31bcb2-4be4-482c-9abb-5951cf6e9007",
   "metadata": {},
   "outputs": [],
   "source": [
    "df_cands22.head(3)"
   ]
  },
  {
   "cell_type": "code",
   "execution_count": null,
   "id": "c4361e4d-c853-48a1-99c5-3af34d0c24b0",
   "metadata": {},
   "outputs": [],
   "source": [
    "# OpenSecrets Table Definition: Committee table\n",
    "# https://www.opensecrets.org/resources/datadictionary/Data%20Dictionary%20for%20Cmtes.htm\n",
    "columns_cmtes22 = ['cycle', 'cmteid', 'pacshort', 'affiliate', 'ultorg', 'recipid', \n",
    "                    'recipcode', 'feccandid', 'party', 'primcode', 'source', 'sensitive',\n",
    "                    'foreign', 'active']\n",
    "\n",
    "df_cmtes22 = create_dataframe('../../data/open_secrets/CampaignFin22/cmtes22.csv', columns_cmtes22)"
   ]
  },
  {
   "cell_type": "code",
   "execution_count": null,
   "id": "6e2a9b32-b6d6-47e0-aa51-deedec5981b4",
   "metadata": {},
   "outputs": [],
   "source": [
    "# df_cmtes22.head(3)"
   ]
  },
  {
   "cell_type": "code",
   "execution_count": null,
   "id": "c43990a7-9366-4607-a267-28793a459b1b",
   "metadata": {},
   "outputs": [],
   "source": [
    "# Candidate lead pac committees.\n",
    "df_lead_cmtes22 = df_cmtes22[(df_cmtes22['cmteid_cmtes22'] != df_cmtes22['recipid_cmtes22']) & (df_cmtes22['recipid_cmtes22'].str.startswith('N'))]"
   ]
  },
  {
   "cell_type": "code",
   "execution_count": null,
   "id": "132d3317-2b9c-410c-9830-e5b543fcbbed",
   "metadata": {},
   "outputs": [],
   "source": [
    "df_lead_cmtes22.head(3)"
   ]
  },
  {
   "cell_type": "code",
   "execution_count": null,
   "id": "e98912fc-1dfb-4da5-b7a2-163e95ae58c1",
   "metadata": {},
   "outputs": [],
   "source": [
    "# Non-lead pac committees\n",
    "df_pac_cmtes22 = df_cmtes22[(df_cmtes22['cmteid_cmtes22'] == df_cmtes22['recipid_cmtes22']) & (df_cmtes22['recipid_cmtes22'].str.startswith('C'))]"
   ]
  },
  {
   "cell_type": "code",
   "execution_count": null,
   "id": "e463428e-fd19-429c-a2ff-6516e2cbf044",
   "metadata": {},
   "outputs": [],
   "source": [
    "df_pac_cmtes22.head(3)"
   ]
  },
  {
   "cell_type": "code",
   "execution_count": null,
   "id": "4f0ef450-5364-45a5-a7a6-1ef6ab37a49a",
   "metadata": {},
   "outputs": [],
   "source": [
    "# OpenSecrets Data Definition for PAC to PAC Data (Pac_other table)\n",
    "# https://www.opensecrets.org/resources/datadictionary/Data%20Dictionary%20PAC%20to%20PAC%20Data.htm\n",
    "columns_pac_other22 = ['cycle', 'fecrecno', 'filerid', 'donorcmte', 'contriblendtrans', 'city', 'state', \n",
    "                            'zip', 'fecoccemp', 'primcode', 'date', 'amount', 'recipid', 'party', 'otherid',\n",
    "                            'recipcode', 'recipprimcode', 'amend', 'report', 'pg', 'microfilm', 'type',\n",
    "                            'realcode', 'source']\n",
    "\n",
    "df_pac_other22 = create_dataframe('../../data/open_secrets/CampaignFin22/pac_other22.csv', columns_pac_other22)"
   ]
  },
  {
   "cell_type": "code",
   "execution_count": null,
   "id": "4897a92b-a959-44e4-b4ac-e92c476223d1",
   "metadata": {},
   "outputs": [],
   "source": [
    "# Identify the donor pacid.\n",
    "# The \"filerid\" is the donor if \"type\" starts with \"1\" and \"otherid\" if \"type\" starts with \"2\".\n",
    "df_pac_other22['donorid_pac_other22'] = df_pac_other22.apply(\n",
    "    lambda row: row['otherid_pac_other22'] if row['type_pac_other22'].startswith('1') \n",
    "    else (row['filerid_pac_other22'] if row['type_pac_other22'].startswith('2') else None),\n",
    "    axis=1\n",
    ")"
   ]
  },
  {
   "cell_type": "code",
   "execution_count": null,
   "id": "622983e4-384f-48b1-97b5-0e1aecdf37b9",
   "metadata": {},
   "outputs": [],
   "source": [
    "# df_pac_other22.head(3)"
   ]
  },
  {
   "cell_type": "code",
   "execution_count": null,
   "id": "ebc4e257-6873-491d-b4d1-2f5f09b3345c",
   "metadata": {},
   "outputs": [],
   "source": [
    "# Notice that candidates are never filers in pac_other22.\n",
    "df_pac_other22[df_pac_other22['filerid_pac_other22'].str.startswith('N', na=False)]"
   ]
  },
  {
   "cell_type": "code",
   "execution_count": null,
   "id": "e7d056ef-6103-4d05-b263-59e95a9ce9dd",
   "metadata": {},
   "outputs": [],
   "source": [
    "df_pac_to_pac = df_pac_other22[~ df_pac_other22['recipid_pac_other22'].str.startswith('N', na=False)]"
   ]
  },
  {
   "cell_type": "code",
   "execution_count": null,
   "id": "44920e53-c70e-4789-9ee6-e5b1e36a46be",
   "metadata": {},
   "outputs": [],
   "source": [
    "df_pac_to_pac.head(3)"
   ]
  },
  {
   "cell_type": "code",
   "execution_count": null,
   "id": "7c8742ad-896a-4b47-8256-2314e8fbb0e1",
   "metadata": {},
   "outputs": [],
   "source": [
    "# Flows from pacs to candidates\n",
    "df_pac_to_cand = df_pac_other22[df_pac_other22['recipid_pac_other22'].str.startswith('N', na=False)]"
   ]
  },
  {
   "cell_type": "code",
   "execution_count": null,
   "id": "ebf16498-246b-4273-a217-c74a41e54651",
   "metadata": {},
   "outputs": [],
   "source": [
    "df_pac_to_cand.head(3)"
   ]
  },
  {
   "cell_type": "code",
   "execution_count": null,
   "id": "c950419d-8268-4a0c-98a5-cfdfa4da1e3b",
   "metadata": {},
   "outputs": [],
   "source": [
    "# OpenSecrets Data Definition: PAC table (PACs to Candidates)\n",
    "# https://www.opensecrets.org/resources/datadictionary/Data%20Dictionary%20for%20PAC%20to%20Cands%20Data.htm\n",
    "# \"pacid\" who represents \"realcode\" (industry or ideology) \"di\" (directly or indirectly) contributes \"amount\" to to \"cid\".\n",
    "columns_pacs22 = ['cycle', 'fecrecno', 'pacid', 'cid', 'amount', 'date', 'realcode', \n",
    "                            'type', 'di', 'feccandid']\n",
    "\n",
    "df_pacs22 = create_dataframe('../../data/open_secrets/CampaignFin22/pacs22.csv', columns_pacs22)"
   ]
  },
  {
   "cell_type": "code",
   "execution_count": null,
   "id": "6e1eaac4-3a0d-445d-a2da-ab7e5e0dcef7",
   "metadata": {},
   "outputs": [],
   "source": [
    "df_pacs22.head(3)"
   ]
  },
  {
   "cell_type": "code",
   "execution_count": null,
   "id": "73477c68-e85b-487e-b0cf-2f1c9f788d17",
   "metadata": {},
   "outputs": [],
   "source": [
    "#df_pacs22 get all non-leads giving to cids"
   ]
  },
  {
   "cell_type": "code",
   "execution_count": null,
   "id": "c0dae09b-9900-432c-9ef1-3847f0c7c53c",
   "metadata": {},
   "outputs": [],
   "source": [
    "# OpenSecrets Data Definition: Individual Contribution Data\n",
    "# https://www.opensecrets.org/resources/datadictionary/Data%20Dictionary%20for%20Individual%20Contribution%20Data.htm\n",
    "columns_indivs22 = ['cycle', 'fectransid', 'contribid', 'contrib_last', 'contrib_first', 'recipid', 'orgname', \n",
    "                    'ultorg', 'realcode', 'date', 'amount', 'street', 'city', 'state',\n",
    "                    'zip', 'recipcode', 'type', 'cmteid', 'otherid', 'gender', 'microfilm',\n",
    "                    'occupation', 'employer', 'source']\n",
    "\n",
    "# This dataset is huge, and crashes my computer. For now, limiting to 5000000 rows\n",
    "# until a better way is found to trim off this dataset to only the last cycle or two\n",
    "df_indivs22 = create_dataframe('../../data/open_secrets/CampaignFin22/indivs22.csv', columns_indivs22, nrows=5000000)"
   ]
  },
  {
   "cell_type": "code",
   "execution_count": null,
   "id": "5aeaf201-88a5-4e5c-9ceb-7d2fb271cf9a",
   "metadata": {},
   "outputs": [],
   "source": [
    "df_indivs22.head(3)"
   ]
  },
  {
   "cell_type": "code",
   "execution_count": null,
   "id": "067e9985-3a4b-43d9-b032-545c48913e6f",
   "metadata": {},
   "outputs": [],
   "source": [
    "# OpenSecrets Data Dictionary for Expenditure Data - from FEC electronic filings\n",
    "# https://www.opensecrets.org/resources/datadictionary/Data%20Dictionary%20Expenditures.htm\n",
    "columns_expends22 = ['cycle', 'id', 'transid', 'crpfilerid', \n",
    "                     'recipcode', 'pacshort', 'crprecipname', \n",
    "                     'expcode', 'amount', 'date', 'city', 'state', \n",
    "                     'zip', 'cmteid_ef', 'candid', 'type',\n",
    "                     'descrip', 'pg', 'elecother', 'enttype',\n",
    "                     'source']\n",
    "\n",
    "df_expends22 = create_dataframe('../../data/open_secrets/Expend22/expends22.csv', columns_expends22, nrows=1000000)"
   ]
  },
  {
   "cell_type": "code",
   "execution_count": null,
   "id": "43ced051-5b0e-40dd-ba00-6f65c0f7374c",
   "metadata": {},
   "outputs": [],
   "source": [
    "df_expends22.head(3)"
   ]
  },
  {
   "cell_type": "code",
   "execution_count": null,
   "id": "2127ecf8-8c22-4d78-97cc-90308ae1d426",
   "metadata": {},
   "outputs": [],
   "source": [
    "# OpenSecrets Data Definition for Lobbying Data: Lobby agencies\n",
    "# https://www.opensecrets.org/resources/datadictionary/Data%20Dictionary%20lob_agency.htm\n",
    "columns_lob_agency = ['uniqid', 'agencyid', 'agency']\n",
    "\n",
    "df_lob_agency = create_dataframe('../../data/open_secrets/Lobby/lob_agency.csv', columns_lob_agency)"
   ]
  },
  {
   "cell_type": "code",
   "execution_count": null,
   "id": "85a4a70b-08da-4343-9121-70732b962907",
   "metadata": {},
   "outputs": [],
   "source": [
    "df_lob_agency.head(3)"
   ]
  },
  {
   "cell_type": "code",
   "execution_count": null,
   "id": "ed2ce9ee-72e2-415b-8626-5f67f2e1dcb9",
   "metadata": {},
   "outputs": [],
   "source": [
    "# OpenSecrets Data Definition for Lobbying Data: Lobby bills\n",
    "# https://www.opensecrets.org/resources/datadictionary/Data%20Dictionary%20lob_bills.htm\n",
    "columns_lob_bills = ['b_id', 'si_id', 'congno', 'bill_name']\n",
    "\n",
    "df_lob_bills = create_dataframe('../../data/open_secrets/Lobby/lob_bills.csv', columns_lob_bills)"
   ]
  },
  {
   "cell_type": "code",
   "execution_count": null,
   "id": "ee807445-f968-4f5c-948a-f825fc79b4d0",
   "metadata": {},
   "outputs": [],
   "source": [
    "df_lob_bills.head(3)"
   ]
  },
  {
   "cell_type": "code",
   "execution_count": null,
   "id": "e38d56d4-f406-4f3a-96d5-692cbc74e506",
   "metadata": {},
   "outputs": [],
   "source": [
    "# OpenSecrets Data Definition for Lobbying Data: Lobby industries\n",
    "# https://www.opensecrets.org/resources/datadictionary/Data%20Dictionary%20lob_indus.htm\n",
    "columns_lob_indus = ['client', 'sub', 'total', 'year', 'catcode']\n",
    "\n",
    "df_lob_indus = create_dataframe('../../data/open_secrets/Lobby/lob_indus.csv', columns_lob_indus)"
   ]
  },
  {
   "cell_type": "code",
   "execution_count": null,
   "id": "ce78d25f-6ba1-40f2-bd9f-f446689122c3",
   "metadata": {},
   "outputs": [],
   "source": [
    "df_lob_indus.head(3)"
   ]
  },
  {
   "cell_type": "code",
   "execution_count": null,
   "id": "723051f5-4c6a-4b3c-8c43-f4a3a22186de",
   "metadata": {},
   "outputs": [],
   "source": [
    "# OpenSecrets Data Definition for Lobbying Data: Lobby issues\n",
    "# https://www.opensecrets.org/resources/datadictionary/Data%20Dictionary%20lob_issues.htm\n",
    "columns_lob_issue = ['si_id', 'uniqid', 'issueid', 'issue', 'specificissue', 5, 6, 7, 8, 9, 10, 'year']\n",
    "\n",
    "df_lob_issue = create_dataframe('../../data/open_secrets/Lobby/lob_issue.csv', columns_lob_issue)"
   ]
  },
  {
   "cell_type": "code",
   "execution_count": null,
   "id": "993e03b7-2b32-4030-a044-75145764c533",
   "metadata": {},
   "outputs": [],
   "source": [
    "df_lob_issue.head(3)"
   ]
  },
  {
   "cell_type": "code",
   "execution_count": null,
   "id": "76bd7b41-ba98-4e88-ad1d-dd23b79c8a89",
   "metadata": {},
   "outputs": [],
   "source": [
    "# OpenSecrets Data Definition for Lobbying Data: Lobby issues (no specific issue)\n",
    "# https://www.opensecrets.org/resources/datadictionary/Data%20Dictionary%20lob_issues.htm\n",
    "columns_lob_issue_no_specific = ['si_id', 'uniqid', 'issueid', 'issue', 'year']\n",
    "\n",
    "df_lob_issue_no_specific = create_dataframe('../../data/open_secrets/Lobby/lob_issue_NoSpecficIssue.csv', columns_lob_issue_no_specific)"
   ]
  },
  {
   "cell_type": "code",
   "execution_count": null,
   "id": "833cb098-52d7-4807-a4d5-dd61c76c4459",
   "metadata": {},
   "outputs": [],
   "source": [
    "df_lob_issue_no_specific.head(3)"
   ]
  },
  {
   "cell_type": "code",
   "execution_count": null,
   "id": "6a5eb06c-ee9c-48e1-a2e1-6f6466506dc1",
   "metadata": {},
   "outputs": [],
   "source": [
    "# OpenSecrets Data Definitions for Lobbying Data: Lobbying\n",
    "# https://www.opensecrets.org/resources/datadictionary/Data%20Dictionary%20lob_lobbying.htm\n",
    "columns_lob_lobbying = ['uniqid','registrant_raw','registrant','isfirm','client_raw','client','ultorg','amount',\n",
    "                        'catcode','source','self','includensfs','use',\n",
    "                       'ind', 'year', 'type', 'typelong', 'affiliate']\n",
    "\n",
    "df_lob_lobbying = create_dataframe('../../data/open_secrets/Lobby/lob_lobbying.csv', columns_lob_lobbying, nrows=1000000)"
   ]
  },
  {
   "cell_type": "code",
   "execution_count": null,
   "id": "bd89afea-54d6-4c17-9bea-6a2a44211083",
   "metadata": {},
   "outputs": [],
   "source": [
    "df_lob_lobbying.head(3)"
   ]
  },
  {
   "cell_type": "code",
   "execution_count": null,
   "id": "9e529672-68ee-4aed-89bf-deb4b7e50f54",
   "metadata": {},
   "outputs": [],
   "source": [
    "df_lob_lobbying.head(3)"
   ]
  },
  {
   "cell_type": "code",
   "execution_count": null,
   "id": "aff12fec-c42c-4aee-9e6e-6d137d610ecb",
   "metadata": {},
   "outputs": [],
   "source": [
    "# OpenSecrets Data Definition for Lobbyists\n",
    "# https://www.opensecrets.org/resources/datadictionary/Data%20Dictionary%20lob_lobbyists.htm\n",
    "columns_lob_lobbyist = ['uniqid', 'lobbyist_lastname_std', 'lobbyist_firstname_std', 'lobbyist_lastname_raw', \n",
    "                     'lobbyist_firstname_raw', 'lobbyist_id', 'year', 'officialposition', 'cid', 'formercongmem']\n",
    "\n",
    "df_lob_lobbyist = create_dataframe('../../data/open_secrets/Lobby/lob_lobbyist.csv', columns_lob_lobbyist, nrows=1000000)"
   ]
  },
  {
   "cell_type": "code",
   "execution_count": null,
   "id": "fcff95a2-05f5-4636-bbda-1ed8a1034df9",
   "metadata": {},
   "outputs": [],
   "source": [
    "df_lob_lobbyist.head(3)"
   ]
  },
  {
   "cell_type": "code",
   "execution_count": null,
   "id": "004b62fb-2e6a-4bd5-b015-985cf52d387a",
   "metadata": {},
   "outputs": [],
   "source": [
    "# OpenSecrets Data Definitions for Lobbying Data: Report types\n",
    "# No documentation provided on OpenSecrets.com\n",
    "columns_lob_rpt = ['typelong', 'typeshort']\n",
    "\n",
    "df_lob_rpt = create_dataframe('../../data/open_secrets/Lobby/lob_rpt.csv', columns_lob_rpt)"
   ]
  },
  {
   "cell_type": "code",
   "execution_count": null,
   "id": "9f14826b-854c-4930-bb48-c4374a549c42",
   "metadata": {},
   "outputs": [],
   "source": [
    "df_lob_rpt.head(3)"
   ]
  },
  {
   "cell_type": "code",
   "execution_count": null,
   "id": "64023e77-2070-4434-91e0-76095ad6cb97",
   "metadata": {},
   "outputs": [],
   "source": [
    "install_if_needed('xlrd')\n",
    "import xlrd"
   ]
  },
  {
   "cell_type": "code",
   "execution_count": null,
   "id": "87c143fb-27fc-4fb7-9a40-85b811d8ba25",
   "metadata": {},
   "outputs": [],
   "source": [
    "# Candidate ids\n",
    "# This dataset is very different, so load it independently.\n",
    "columns_crp_ids = ['blank_excel_column', 'cid', 'crpname', 'party', 'distidrunfor', 'feccandid'] # Blank excel column is necessary.\n",
    "columns_crp_ids = dict(enumerate(columns_crp_ids))\n",
    "df_crp_ids = pd.read_excel('../../data/open_secrets/CRP_IDs.xls', header=None, skiprows=15)\n",
    "df_crp_ids = df_crp_ids.drop(df_crp_ids.columns[0], axis=1)\n",
    "df_crp_ids = df_crp_ids.rename(columns=columns_crp_ids)"
   ]
  },
  {
   "cell_type": "code",
   "execution_count": null,
   "id": "cd969fed-15d0-41ba-952d-651504453e03",
   "metadata": {},
   "outputs": [],
   "source": [
    "df_crp_ids.head(3)"
   ]
  },
  {
   "cell_type": "code",
   "execution_count": null,
   "id": "45aa276e-f8c5-48d7-ae32-fee63955346c",
   "metadata": {},
   "outputs": [],
   "source": [
    "from io import StringIO\n",
    "crp_filepath = '../../data/open_secrets/CRP_Categories.txt'\n",
    "with open(crp_filepath, 'r') as file:\n",
    "    lines = file.readlines()\n",
    "\n",
    "header_line_index = next(i for i, line in enumerate(lines) if line.startswith('Catcode'))\n",
    "table_data = ''.join(lines[header_line_index:])\n",
    "df_crp_cats = pd.read_csv(StringIO(table_data), sep='\\t')\n",
    "df_crp_cats.columns = df_crp_cats.columns.str.lower().str.replace(' ', '_')"
   ]
  },
  {
   "cell_type": "code",
   "execution_count": null,
   "id": "4455b41e-94cf-4e99-8c72-7b64a0c181b6",
   "metadata": {},
   "outputs": [],
   "source": [
    "df_crp_cats.head(3)"
   ]
  },
  {
   "cell_type": "markdown",
   "id": "909d4a4d-562b-407b-9cf7-d09100e91d9a",
   "metadata": {},
   "source": [
    "---"
   ]
  },
  {
   "cell_type": "markdown",
   "id": "bb34ed62-7081-46a9-8043-e9b0abad7621",
   "metadata": {},
   "source": [
    "#### Sanity checks ####"
   ]
  },
  {
   "cell_type": "markdown",
   "id": "2b9aad2f-737d-4765-bde2-f04ce4f3adb9",
   "metadata": {},
   "source": [
    "One-by-one tests for the U.S. House Ways & Means committee members:"
   ]
  },
  {
   "cell_type": "code",
   "execution_count": null,
   "id": "a6b83acd-d535-4e78-8547-0d234a615fe7",
   "metadata": {},
   "outputs": [],
   "source": [
    "other_pacid = 'C00000422' # American Medical Association"
   ]
  },
  {
   "cell_type": "code",
   "execution_count": null,
   "id": "c88bdb05-5048-4166-addb-6470ff4c885e",
   "metadata": {},
   "outputs": [],
   "source": [
    "member_name = 'Adrian Smith'\n",
    "member_cid = 'N00027623' # Candidate ID\n",
    "member_pid = 'C00412890' # Lead PAC ID"
   ]
  },
  {
   "cell_type": "code",
   "execution_count": null,
   "id": "bd4c5ee1-7bc4-4ea9-9ad6-014dc4fc07f2",
   "metadata": {},
   "outputs": [],
   "source": [
    "member_name2 = 'Jodey Arrington'\n",
    "member_cid2 = 'N00038285'\n",
    "member_pid2 = 'C00588657'"
   ]
  },
  {
   "cell_type": "code",
   "execution_count": null,
   "id": "a5ee9a50-5499-4246-b251-977c35bff67c",
   "metadata": {},
   "outputs": [],
   "source": [
    "# member_name = 'Don Beyer'\n",
    "# member_cid = 'N00036018'"
   ]
  },
  {
   "cell_type": "code",
   "execution_count": null,
   "id": "f0811fe7-4f0a-4695-a18a-ca163b9307f2",
   "metadata": {},
   "outputs": [],
   "source": [
    "# member_name = 'Earl Blumenauer'\n",
    "# member_cid = 'N00007727'"
   ]
  },
  {
   "cell_type": "code",
   "execution_count": null,
   "id": "75395699-7671-4718-96ea-de44766a037b",
   "metadata": {},
   "outputs": [],
   "source": [
    "# member_name = 'Vernon Buchanan'\n",
    "# member_cid = 'N00027626'"
   ]
  },
  {
   "cell_type": "code",
   "execution_count": null,
   "id": "645ba4e8-94d4-4354-bff7-de57eb51fb46",
   "metadata": {},
   "outputs": [],
   "source": [
    "# member_name = 'Mike Kelly'\n",
    "# member_cid = 'N00031647'"
   ]
  },
  {
   "cell_type": "code",
   "execution_count": null,
   "id": "d09a603f-389d-4ab0-a3ae-558102a12653",
   "metadata": {},
   "outputs": [],
   "source": [
    "# Member info\n",
    "print(f\"MEMBER INFO: {member_name}, CID: {member_cid}, PID: {member_pid}\")\n",
    "print(\"------------------------------------------------------------------------\")\n",
    "print(\"DATASET: pacs22\")\n",
    "display(df_pacs22[df_pacs22['pacid_pacs22'] == member_pid].sample())\n",
    "print(\"------------------------------------------------------------------------\")\n",
    "print(\"DATASET: cmtes22\")\n",
    "display(df_cmtes22[df_cmtes22['recipid_cmtes22'] == member_cid].sample())"
   ]
  },
  {
   "cell_type": "code",
   "execution_count": null,
   "id": "8f0f9e4d-3ae8-47f1-9f9a-e41650553421",
   "metadata": {},
   "outputs": [],
   "source": [
    "# Sanity check.\n",
    "df_pacs22[df_pacs22['cid_pacs22'] == member_cid]['amount_pacs22'].sum()"
   ]
  },
  {
   "cell_type": "code",
   "execution_count": null,
   "id": "0f816c3e-25b6-45ef-a1f9-eec2651290ea",
   "metadata": {},
   "outputs": [],
   "source": [
    "# Sanity check.\n",
    "df_pac_other22[df_pac_other22['recipid_pac_other22'] == member_cid]['amount_pac_other22'].sum()"
   ]
  },
  {
   "cell_type": "code",
   "execution_count": null,
   "id": "f07cfcd8-6f57-4833-9974-58274a80cb95",
   "metadata": {},
   "outputs": [],
   "source": [
    "# Sanity check.\n",
    "df_indivs22[df_indivs22['recipid_indivs22'] == member_cid]['amount_indivs22'].sum()"
   ]
  },
  {
   "cell_type": "code",
   "execution_count": null,
   "id": "31f0cf12-2c67-4aae-bfb0-2b90e8634cac",
   "metadata": {},
   "outputs": [],
   "source": [
    "# Final check.\n",
    "df_pacs22[df_pacs22['cid_pacs22'] == member_cid]['amount_pacs22'].sum() \\\n",
    "    + df_pac_other22[df_pac_other22['recipid_pac_other22'] == member_cid]['amount_pac_other22'].sum() \\\n",
    "    + df_indivs22[df_indivs22['recipid_indivs22'] == member_cid]['amount_indivs22'].sum()"
   ]
  },
  {
   "cell_type": "code",
   "execution_count": null,
   "id": "a85da360-37c3-4b76-8c76-41f1391ed0a2",
   "metadata": {},
   "outputs": [],
   "source": [
    "# # Save csv\n",
    "# df_pacs22[df_pacs22['cid_pacs22'] == member_cid].sort_values(by='amount_pacs22', ascending=False).to_csv('pacs22_' + member_cid + '.csv')\n",
    "# df_pac_other22[df_pac_other22['recipid_pac_other22'] == member_cid].sort_values(by='amount_pac_other22', ascending=False).to_csv('pac-other22_' + member_cid + '.csv')\n",
    "# df_indivs22[df_indivs22['recipid_indivs22'] == member_cid].sort_values(by='amount_indivs22', ascending=False).to_csv('indivs22_' + member_cid + '.csv')"
   ]
  },
  {
   "cell_type": "code",
   "execution_count": null,
   "id": "9f9a3db7-4946-4c6d-a66f-144213bdc768",
   "metadata": {},
   "outputs": [],
   "source": [
    "# # Preview\n",
    "# display(df_pacs22[df_pacs22['cid_pacs22'] == member_cid].head(3))\n",
    "# display(df_pac_other22[df_pac_other22['recipid_pac_other22'] == member_cid].head(3))\n",
    "# display(df_indivs22[df_indivs22['recipid_indivs22'] == member_cid].head(3))"
   ]
  },
  {
   "cell_type": "markdown",
   "id": "f2e644ff-7da1-402e-ae26-31de95d07441",
   "metadata": {},
   "source": [
    "---"
   ]
  },
  {
   "cell_type": "markdown",
   "id": "4085f95d-2f9f-42d0-ad9e-88760e4d0eb7",
   "metadata": {},
   "source": [
    "### Ways and Means ###"
   ]
  },
  {
   "cell_type": "markdown",
   "id": "fa7bcd04-caff-4920-b16e-6f4ee3758a15",
   "metadata": {},
   "source": [
    "#### Member Details ####"
   ]
  },
  {
   "cell_type": "code",
   "execution_count": null,
   "id": "dd8e966b-769a-4661-bc5e-47b4c47b8265",
   "metadata": {},
   "outputs": [],
   "source": [
    "wm_dems = [\n",
    "    'Richard Neal',\n",
    "    'Brad Schneider',\n",
    "    'Jimmy Panetta',\n",
    "    'Bill Pascrell',\n",
    "    'Linda Sánchez',\n",
    "    'Terri Sewell',\n",
    "    'Gwen Moore',\n",
    "    'Tom Suozzi',\n",
    "    'Mike Thompson',\n",
    "    'John Larson',\n",
    "    'Stephanie Murphy',\n",
    "    'Donald Beyer',\n",
    "    'Earl Blumenauer',\n",
    "    'Brendan Boyle',\n",
    "    'Judy Chu',\n",
    "    'Danny Davis',\n",
    "    'Suzan DelBene',\n",
    "    'Lloyd Doggett',\n",
    "    'Dwight Evans',\n",
    "    'Jimmy Gomez',\n",
    "    'Brian Higgins',\n",
    "    'Steven Horsford',\n",
    "    'Dan Kildee',\n",
    "    'Ronald Kind'\n",
    "]\n",
    "\n",
    "df_wm_dem_members = pd.DataFrame(wm_dems, columns=['firstlastp'])\n",
    "df_wm_dem = pd.merge(df_cands22, df_wm_dem_members, left_on='firstlast_cands22', right_on='firstlastp', how='inner')"
   ]
  },
  {
   "cell_type": "code",
   "execution_count": null,
   "id": "8b3641de-f210-495d-90a5-5f877cff2d6b",
   "metadata": {},
   "outputs": [],
   "source": [
    "print(f\"len: {len(df_wm_dem)}\")\n",
    "df_wm_dem.head(3)"
   ]
  },
  {
   "cell_type": "code",
   "execution_count": null,
   "id": "61c75d86-21b5-4484-ab04-a950e5e9a111",
   "metadata": {},
   "outputs": [],
   "source": [
    "wm_rep = [\n",
    "    'Jason Smith', \n",
    "    'Vern Buchanan',\n",
    "    'Kevin Hern',\n",
    "    'Lloyd Smucker',\n",
    "    'Mike Kelly',\n",
    "    'Nicole Malliotakis',\n",
    "    'Randy Feenstra',\n",
    "    'Jodey Arrington',\n",
    "    'Greg Steube',\n",
    "    'Ron Estes',\n",
    "    'Adrian Smith',\n",
    "    'Beth Van Duyne',\n",
    "    'Carol Miller',\n",
    "    'Michelle Fischbach',\n",
    "    'Michelle Steel',\n",
    "    'Mike Carey',\n",
    "    'Blake Moore',\n",
    "    'Brad Wenstrup',\n",
    "    'Brian Fitzpatrick',\n",
    "    'Claudia Tenney',\n",
    "    'Darin LaHood',\n",
    "    'David Kustoff',\n",
    "    'David Schweikert',\n",
    "    'Drew Ferguson',\n",
    "    'Gregory Murphy'\n",
    "]\n",
    "\n",
    "df_wm_rep_members = pd.DataFrame(wm_rep, columns=['firstlastp'])\n",
    "df_wm_rep = pd.merge(df_cands22, df_wm_rep_members, left_on='firstlast_cands22', right_on='firstlastp', how='inner')"
   ]
  },
  {
   "cell_type": "code",
   "execution_count": null,
   "id": "505e9c86-12fd-4573-ac60-ebf8ad0bc9c7",
   "metadata": {},
   "outputs": [],
   "source": [
    "print(f\"len: {len(df_wm_rep)}\")\n",
    "df_wm_rep.head(3)"
   ]
  },
  {
   "cell_type": "code",
   "execution_count": null,
   "id": "7477ea8e-68f7-4148-a71d-8a67966d59cb",
   "metadata": {},
   "outputs": [],
   "source": [
    "df_wm_members = pd.concat([df_wm_dem, df_wm_rep])\n",
    "df_wm_members = df_wm_members.reset_index(drop=True)"
   ]
  },
  {
   "cell_type": "code",
   "execution_count": null,
   "id": "753bc441-a102-4083-aa18-4013c801ee6c",
   "metadata": {},
   "outputs": [],
   "source": [
    "# df_wm_members = df_wm_members.rename(columns={'feccandid_cands22': 'feccandid_member', 'cid_cands22': 'cid_member',\n",
    "#                               'firstlast_cands22': 'firstlast_member', 'party_cands22': 'party_member',\n",
    "#                               'currcand_cands22': 'currcand_member', 'cyclecand_cands22': 'cyclecand_member',\n",
    "#                               'crpico_cands22': 'crpico_member', 'recipcode_cands22': 'recipcode_member'})\n",
    "\n",
    "df_wm_members = df_wm_members.drop(['cycle_cands22', 'firstlastp_cands22', 'distidrunfor_cands22', 'distidcurr_cands22', 'nopacs_cands22'], axis=1)"
   ]
  },
  {
   "cell_type": "code",
   "execution_count": null,
   "id": "22ee44d6-e4c9-4704-b379-0b7049b54d05",
   "metadata": {},
   "outputs": [],
   "source": [
    "print(f\"len: {len(df_wm_members)}\")\n",
    "df_wm_members.head(3)"
   ]
  },
  {
   "cell_type": "markdown",
   "id": "429b5736-424b-472e-aca9-6d9312190db8",
   "metadata": {},
   "source": [
    "#### Members' Leadpac Details ####"
   ]
  },
  {
   "cell_type": "code",
   "execution_count": null,
   "id": "99d2cea0-83fd-4299-af08-927549748e28",
   "metadata": {},
   "outputs": [],
   "source": [
    "# Note: candidates may have multiple committees for reconciling accounts across cycles.\n",
    "df_wm_leadpacs = pd.merge(df_wm_members, df_cmtes22, left_on='cid_cands22', right_on='recipid_cmtes22', how='inner')\n",
    "df_wm_leadpacs = df_wm_leadpacs.rename(columns={'cmteid_cmtes22': 'cmteid_cmtes22lead', 'pacshort_cmtes22': 'pacshort_cmtes22lead',\n",
    "                                                'affiliate_cmtes22': 'affiliate_cmtes22lead', 'ultorg_cmtes22': 'ultorg_cmtes22lead',\n",
    "                                                'recipid_cmtes22': 'recipid_cmtes22lead', 'primcode_cmtes22': 'primcode_cmtes22lead',\n",
    "                                                'active_cmtes22': 'active_cmtes22lead'})\n",
    "# df_wm_leadpacs = pd.merge(df_wm_members, df_cmtes22, left_on='cid_member', right_on='recipid_cmtes22', how='inner')\n",
    "# df_wm_leadpacs = df_wm_leadpacs.rename(columns={'cmteid_cmtes22': 'cmteid_leadpac', 'pacshort_cmtes22': 'pacshort_leadpac',\n",
    "#                                                 'affiliate_cmtes22': 'affiliate_leadpac', 'ultorg_cmtes22': 'ultorg_leadpac',\n",
    "#                                                 'recipid_cmtes22': 'recipid_leadpac', 'primcode_cmtes22': 'primcode_leadpac',\n",
    "#                                                 'active_cmtes22': 'active_leadpac'})\n",
    "\n",
    "df_wm_leadpacs = df_wm_leadpacs.drop(['cycle_cmtes22', 'recipcode_cmtes22', 'feccandid_cmtes22', 'party_cmtes22',\n",
    "                                      'source_cmtes22', 'sensitive_cmtes22', 'foreign_cmtes22'], axis=1)"
   ]
  },
  {
   "cell_type": "code",
   "execution_count": null,
   "id": "2bb89db3-d23b-4e3d-aeb5-976a0b03c06b",
   "metadata": {},
   "outputs": [],
   "source": [
    "print(f\"len: {len(df_wm_leadpacs)}\")\n",
    "df_wm_leadpacs.head(3)"
   ]
  },
  {
   "cell_type": "markdown",
   "id": "5f705698-e9d4-4e42-876a-781cda4fbcb9",
   "metadata": {},
   "source": [
    "#### Members' leadpacs' revenues ####\n",
    "(Lacks identifying details)"
   ]
  },
  {
   "cell_type": "code",
   "execution_count": null,
   "id": "68578edd-c005-4cb2-bf04-8609d8d4a1b1",
   "metadata": {},
   "outputs": [],
   "source": [
    "# Link all transactions to candidate pacs.\n",
    "# Get revenue only, filter out expenditures\n",
    "# THIS MAY DISTORT THINGS! LOOK INTO THIS LATER.\n",
    "df_pacs22_revenues = df_pacs22[df_pacs22['amount_pacs22'] > 0]"
   ]
  },
  {
   "cell_type": "code",
   "execution_count": null,
   "id": "9974bd40-8c06-4643-a470-1a51b483c549",
   "metadata": {},
   "outputs": [],
   "source": [
    "df_pacs22_revenues.head(3)"
   ]
  },
  {
   "cell_type": "code",
   "execution_count": null,
   "id": "e526316e-706b-4c21-939e-dfaa2137456c",
   "metadata": {},
   "outputs": [],
   "source": [
    "# Keep the \"di\" field, for now track both direct and indirect income:\n",
    "# https://raw.githubusercontent.com/nketchum/si608exploration/refs/heads/main/docs/direct_vs_indirect_contrib.txt\n",
    "df_wm_revenues = pd.merge(df_wm_leadpacs, df_pacs22_revenues, left_on='cid_cands22', right_on='cid_pacs22', how='inner')\n",
    "# df_wm_revenues = pd.merge(df_wm_leadpacs, df_pacs22_revenues, left_on='cid_member', right_on='cid_pacs22', how='inner')\n",
    "# df_wm_revenues = df_wm_revenues.rename(columns={'fecrecno_pacs22': 'fecrecno_revenue', 'pacid_pacs22': 'pacid_revenue',\n",
    "#                                                 'amount_pacs22': 'amount_revenue', 'date_pacs22': 'date_revenue',\n",
    "#                                                 'realcode_pacs22': 'realcode_revenue', 'type_pacs22': 'type_revenue',\n",
    "#                                                 'di_pacs22': 'di_revenue', 'feccandid_pacs22': 'feccandid_revenue'})\n",
    "\n",
    "df_wm_revenues = df_wm_revenues.drop(['cycle_pacs22', 'cid_pacs22'], axis=1)"
   ]
  },
  {
   "cell_type": "code",
   "execution_count": null,
   "id": "48ebb707-76cc-497b-9ff2-39dbc3a5ba6e",
   "metadata": {},
   "outputs": [],
   "source": [
    "df_wm_revenues.head(3)"
   ]
  },
  {
   "cell_type": "markdown",
   "id": "1946aab2-7157-4f75-a783-9cdafede93a1",
   "metadata": {},
   "source": [
    "#### Members' leadpacs' transactions ####\n",
    "\n",
    "(Money flows + details of money flow)"
   ]
  },
  {
   "cell_type": "code",
   "execution_count": null,
   "id": "be76f876-9edd-4645-83d9-a042e82d13b6",
   "metadata": {},
   "outputs": [],
   "source": [
    "df_wm_transactions = pd.merge(df_wm_revenues, df_cmtes22, left_on='pacid_pacs22', right_on='cmteid_cmtes22', how='inner')\n",
    "# df_wm_transactions = pd.merge(df_wm_revenues, df_cmtes22, left_on='pacid_revenue', right_on='cmteid_cmtes22', how='inner')\n",
    "# df_wm_transactions = df_wm_transactions.rename(columns={'cmteid_cmtes22': 'cmteid_transaction', 'pacshort_cmtes22': 'pacshort_transaction', \n",
    "#                                                         'affiliate_cmtes22': 'affiliate_transaction', 'ultorg_cmtes22': 'ultorg_transaction', \n",
    "#                                                         'recipid_cmtes22': 'recipid_transaction', 'recipcode_cmtes22': 'recipcode_transaction', \n",
    "#                                                         'feccandid_cmtes22': 'feccandid_transaction', 'party_cmtes22': 'party_transaction', \n",
    "#                                                         'source_cmtes22': 'source_transaction'})\n",
    "\n",
    "df_wm_transactions = df_wm_transactions.drop(['cycle_cmtes22', 'primcode_cmtes22', 'sensitive_cmtes22', 'foreign_cmtes22', 'active_cmtes22'], axis=1)"
   ]
  },
  {
   "cell_type": "code",
   "execution_count": null,
   "id": "151cbc10-32b0-4fd1-807d-e46a4a7928e7",
   "metadata": {},
   "outputs": [],
   "source": [
    "df_wm_transactions.to_csv('outputs/df_wm_transactions.csv')\n",
    "df_wm_transactions.head(3)"
   ]
  },
  {
   "cell_type": "markdown",
   "id": "1aa9edf1-c7ae-4316-a116-8c0b0a1121b9",
   "metadata": {},
   "source": [
    "---\n",
    "\n",
    "### Oh Shit ###"
   ]
  },
  {
   "cell_type": "code",
   "execution_count": null,
   "id": "a31297db-e1e8-4ecd-8e0d-78ec46622f71",
   "metadata": {},
   "outputs": [],
   "source": [
    "df_pacs22"
   ]
  },
  {
   "cell_type": "code",
   "execution_count": null,
   "id": "db808b23-cffc-4fd1-847d-16b495aa055f",
   "metadata": {},
   "outputs": [],
   "source": [
    "df_pac_other22[df_pac_other22['recipid_pac_other22'] == 'N00027623']"
   ]
  },
  {
   "cell_type": "markdown",
   "id": "6f14edfd-399b-403d-980c-451cf94cfe10",
   "metadata": {},
   "source": [
    "---"
   ]
  },
  {
   "cell_type": "markdown",
   "id": "95370e3f-aeac-40a5-87d5-3a09907c00c7",
   "metadata": {},
   "source": [
    "#### Empircal Test ####"
   ]
  },
  {
   "cell_type": "code",
   "execution_count": null,
   "id": "dfab4b2f-5615-4a9d-8125-14d40860891c",
   "metadata": {},
   "outputs": [],
   "source": [
    "df_wm_transactions.sample()"
   ]
  },
  {
   "cell_type": "code",
   "execution_count": null,
   "id": "7250afb8-12e4-428b-9185-52b276eb48f4",
   "metadata": {},
   "outputs": [],
   "source": [
    "# Non-sandboxed test.\n",
    "# Confirm that Adrian Smith, in particular, has received four contributions from the American Medical Association, in particular.\n",
    "df_wm_transactions[(df_wm_transactions['cid_cands22'] == 'N00027623') & (df_wm_transactions['cmteid_cmtes22'] == 'C00000422')]"
   ]
  },
  {
   "cell_type": "markdown",
   "id": "09609400-9b7f-40ae-b6a7-b5616b02cf51",
   "metadata": {},
   "source": [
    "---"
   ]
  },
  {
   "cell_type": "markdown",
   "id": "1e718ac3-e126-48b2-adfb-ff19b37b7fbb",
   "metadata": {},
   "source": [
    "### Toy Tests ###\n",
    "Do not delete anything in this section."
   ]
  },
  {
   "cell_type": "code",
   "execution_count": null,
   "id": "0a34f157-0d55-4122-91d7-ee22a2a46a09",
   "metadata": {},
   "outputs": [],
   "source": [
    "# # Entities that has given to Adrian.\n",
    "# df_pacs22_revenues[df_pacs22_revenues['cid_pacs22'] == 'N00027623'].head(3)"
   ]
  },
  {
   "cell_type": "code",
   "execution_count": null,
   "id": "152f2c12-62ec-4349-b140-2c30671b02f3",
   "metadata": {},
   "outputs": [],
   "source": [
    "# # Taking on of the \"pacid_pacs22\" from above to see the giver.\n",
    "# df_cmtes22[df_cmtes22['cmteid_cmtes22'] == 'C00456335'].head(5)"
   ]
  },
  {
   "cell_type": "code",
   "execution_count": null,
   "id": "6c32b8d2-782e-4846-a77e-739914dad4fb",
   "metadata": {},
   "outputs": [],
   "source": [
    "# # SANDBOX TESTING.\n",
    "# # Test two members on two donors.\n",
    "\n",
    "# # 1. Select two or three members and their lead pacs.\n",
    "# df_test_leadpacs = df_wm_leadpacs[(df_wm_leadpacs['cid_cands22'] == member_cid) | (df_wm_leadpacs['cid_cands22'] == member_cid2)]\n",
    "# df_test_leadpacs.to_csv('outputs/df_test_leadpacs.csv')\n",
    "# df_test_leadpacs.head(3)\n",
    "\n",
    "# # 2. Attach each individual revenue-producing transactions to each associated member.\n",
    "# df_test_revenues = pd.merge(df_test_leadpacs, df_pacs22_revenues, left_on='cid_cands22', right_on='cid_pacs22', how='inner')\n",
    "# df_test_revenues.to_csv('outputs/df_test_revenues.csv')\n",
    "# df_test_revenues.sample(5)\n",
    "\n",
    "# # 3. Select two non-lead-pac committees to identify transactions, which are \n",
    "# #    the American Medical Assocation C00000422 and Physicians Mutual Insurance C00456335\n",
    "# df_test_cmtes22 = df_cmtes22[(df_cmtes22['cmteid_cmtes22'] == 'C00000422') | (df_cmtes22['cmteid_cmtes22'] == 'C00456335')]\n",
    "# df_test_cmtes22.to_csv('outputs/df_test_cmtes22.csv')\n",
    "# df_test_cmtes22.head(3) \n",
    "\n",
    "# # 4. Expand transactions by adding committee details to each one.\n",
    "# df_test_comb = pd.merge(df_test_revenues, df_test_cmtes22, left_on='pacid_pacs22', right_on='cmteid_cmtes22', how='inner')\n",
    "# df_test_comb.to_csv('outputs/df_test_comb.csv')\n",
    "# df_test_comb.head(3)"
   ]
  },
  {
   "cell_type": "markdown",
   "id": "e52814a2-e18d-4990-b68d-d8179dd325d6",
   "metadata": {},
   "source": [
    "---"
   ]
  },
  {
   "cell_type": "markdown",
   "id": "99040379-2ec8-4c90-bac1-c57ba4008466",
   "metadata": {},
   "source": [
    "### Experiments ###"
   ]
  },
  {
   "cell_type": "code",
   "execution_count": null,
   "id": "2ac3b4f0-b2eb-47e1-9ca8-4ff6365df3ff",
   "metadata": {},
   "outputs": [],
   "source": [
    "# 1. Given our member, we follow donations like this one. \n",
    "# pacid, a member of realcode, gives amount di ([in]directly) to cid\n",
    "df_pacs22[(df_pacs22['cid_pacs22'] == member_cid) & (df_pacs22['pacid_pacs22'] == other_pacid)]"
   ]
  },
  {
   "cell_type": "code",
   "execution_count": null,
   "id": "be76498c-37b7-4c30-948b-3081fe547717",
   "metadata": {},
   "outputs": [],
   "source": [
    "# 2. We find out who the donor is.\n",
    "# cmteid, aka afilliate of ultorg, \n",
    "df_cmtes22[df_cmtes22['cmteid_cmtes22'] == 'C00000422']"
   ]
  },
  {
   "cell_type": "code",
   "execution_count": null,
   "id": "471d1911-4ae1-41a3-87dc-e6490867a7cd",
   "metadata": {},
   "outputs": [],
   "source": [
    "# df_cmtes22[df_cmtes22['cmteid_cmtes22'] != df_cmtes22['recipid_cmtes22']]"
   ]
  },
  {
   "cell_type": "code",
   "execution_count": null,
   "id": "ee08ab70-2914-4b13-bcca-feb09c181b4a",
   "metadata": {},
   "outputs": [],
   "source": [
    "# len(df_cmtes22)"
   ]
  },
  {
   "cell_type": "code",
   "execution_count": null,
   "id": "7bf87223-c45f-43c7-b088-0e13f9bd46a2",
   "metadata": {},
   "outputs": [],
   "source": [
    "# df_cmtes22[(df_cmtes22['cmteid_cmtes22'] == df_cmtes22['recipid_cmtes22']) & (df_cmtes22['recipid_cmtes22'].str.startswith('N'))]"
   ]
  },
  {
   "cell_type": "code",
   "execution_count": null,
   "id": "42ce290b-02cd-4f08-bbaa-e074c35df6db",
   "metadata": {},
   "outputs": [],
   "source": [
    "# df_cmtes22[(df_cmtes22['cmteid_cmtes22'] != df_cmtes22['recipid_cmtes22']) & (df_cmtes22['recipid_cmtes22'].str.startswith('N'))]"
   ]
  },
  {
   "cell_type": "code",
   "execution_count": null,
   "id": "f7a2f793-bf18-4e73-84de-d5254ecbb613",
   "metadata": {},
   "outputs": [],
   "source": [
    "# df_cmtes22[(df_cmtes22['cmteid_cmtes22'] == df_cmtes22['recipid_cmtes22']) & (df_cmtes22['recipid_cmtes22'].str.startswith('C'))]"
   ]
  },
  {
   "cell_type": "code",
   "execution_count": null,
   "id": "f52c9679-a2d5-45b7-be1f-948e15f7de7d",
   "metadata": {},
   "outputs": [],
   "source": [
    "# # 3. Now we their ideology\n",
    "# df_crp_cats[df_crp_cats['catcode'] == 'H1100']"
   ]
  },
  {
   "cell_type": "code",
   "execution_count": null,
   "id": "c487dfc5-3e3c-4eec-bdd8-aa8201a7bb30",
   "metadata": {},
   "outputs": [],
   "source": []
  }
 ],
 "metadata": {
  "kernelspec": {
   "display_name": "Python 3 (ipykernel)",
   "language": "python",
   "name": "python3"
  },
  "language_info": {
   "codemirror_mode": {
    "name": "ipython",
    "version": 3
   },
   "file_extension": ".py",
   "mimetype": "text/x-python",
   "name": "python",
   "nbconvert_exporter": "python",
   "pygments_lexer": "ipython3",
   "version": "3.12.7"
  }
 },
 "nbformat": 4,
 "nbformat_minor": 5
}
