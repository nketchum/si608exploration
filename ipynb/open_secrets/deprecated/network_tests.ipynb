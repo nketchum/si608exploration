{
 "cells": [
  {
   "cell_type": "code",
   "execution_count": null,
   "id": "a032c1e5-0ad0-454b-8f1a-adfacea3bd78",
   "metadata": {
    "tags": []
   },
   "outputs": [],
   "source": [
    "import pandas as pd\n",
    "import numpy as np"
   ]
  },
  {
   "cell_type": "code",
   "execution_count": null,
   "id": "986d0959-f9ff-415b-839e-f500cd52f934",
   "metadata": {},
   "outputs": [],
   "source": [
    "import warnings\n",
    "warnings.filterwarnings(\"ignore\")\n",
    "pd.options.display.max_columns = None"
   ]
  },
  {
   "cell_type": "markdown",
   "id": "be343ff6-d024-41c2-9b46-fc4d44239d19",
   "metadata": {},
   "source": [
    "#### indiv22"
   ]
  },
  {
   "cell_type": "code",
   "execution_count": null,
   "id": "3dfc94db-61b4-4892-9762-6e864166c084",
   "metadata": {
    "tags": []
   },
   "outputs": [],
   "source": [
    "# Dataset description:\n",
    "# https://www.opensecrets.org/resources/datadictionary/Data%20Dictionary%20for%20Individual%20Contribution%20Data.htm\n",
    "columns_campfin22_indivs22 = ['cycle', 'fectransid', 'contribid', 'contrib_last', 'contrib_first', 'recipid', 'orgname', \n",
    "                    'ultorg', 'realcode', 'date', 'amount', 'street', 'city', 'state',\n",
    "                    'zip', 'recipcode', 'type', 'cmteid', 'otherid', 'gender', 'microfilm',\n",
    "                    'occupation', 'employer', 'source']\n",
    "\n",
    "columns_campfin22_indivs22 = dict(enumerate(columns_campfin22_indivs22))\n",
    "\n",
    "# This dataset is huge, and crashes my computer. For now, limiting to 1000000 rows\n",
    "# until a better way is found to trim off this dataset to only the last cycle or two.\n",
    "df_indivs22 = pd.read_csv('../../../data/open_secrets/CampaignFin22/indivs22.csv', nrows=1000000, on_bad_lines='skip', sep=',', header=None, na_values=['N/A', 'NA'], encoding='ISO-8859-1')\n",
    "df_indivs22 = df_indivs22.rename(columns=columns_campfin22_indivs22)\n",
    "\n",
    "# Get rid of the pipes on both sides of the data.\n",
    "df_indivs22 = df_indivs22.applymap(lambda x: x.replace('|', '') if type(x) == str else x)\n",
    "\n",
    "# Other cleanup.\n",
    "df_indivs22['cycle'] = df_indivs22['cycle'].apply(lambda x: int(x))\n",
    "df_indivs22['fectransid'] = df_indivs22['fectransid'].apply(lambda x: int(x))\n",
    "df_indivs22['date'] = df_indivs22['date'][:9]\n",
    "df_indivs22['date'] = pd.to_datetime(df_indivs22['date'], format='%m/%d/%Y')\n",
    "\n",
    "df_indivs22.head()"
   ]
  },
  {
   "cell_type": "markdown",
   "id": "1dc9dcf9-c3b6-42d8-b5e8-9e5c47c24fb7",
   "metadata": {},
   "source": [
    "#### cmtes22"
   ]
  },
  {
   "cell_type": "code",
   "execution_count": null,
   "id": "38f17114-1988-4898-acbb-b85842acd058",
   "metadata": {},
   "outputs": [],
   "source": [
    "# Dataset description:\n",
    "# https://www.opensecrets.org/resources/datadictionary/Data%20Dictionary%20for%20Cmtes.htm\n",
    "columns_campfin22_cmtes22 = ['cycle', 'cmteid', 'pacshort', 'affiliate', 'ultorg', 'recipid', \n",
    "                    'recipcode', 'feccandid', 'party', 'primcode', 'source', 'sensitive',\n",
    "                    'foreign', 'active']\n",
    "\n",
    "columns_campfin22_cmtes22 = dict(enumerate(columns_campfin22_cmtes22))\n",
    "\n",
    "df_cmtes22 = pd.read_csv('../../../data/open_secrets/CampaignFin22/cmtes22.csv', on_bad_lines='skip', sep=',', header=None, na_values=['N/A', 'NA'])\n",
    "df_cmtes22 = df_cmtes22.rename(columns=columns_campfin22_cmtes22)\n",
    "\n",
    "# Get rid of the pipes on both sides of the data.\n",
    "df_cmtes22 = df_cmtes22.applymap(lambda x: x.replace('|', '') if type(x) == str else x)\n",
    "\n",
    "# Other cleanup.\n",
    "df_cmtes22['cycle'] = df_cmtes22['cycle'].apply(lambda x: int(x))\n",
    "df_cmtes22['foreign'] = df_cmtes22['foreign'].apply(lambda x: int(x))\n",
    "df_cmtes22['active'] = df_cmtes22['active'].apply(lambda x: int(x))\n",
    "\n",
    "df_cmtes22.head()"
   ]
  },
  {
   "cell_type": "markdown",
   "id": "d8fc3fb1-cc0f-4cf2-b95b-c935df145ca5",
   "metadata": {},
   "source": [
    "#### cmtes527"
   ]
  },
  {
   "cell_type": "code",
   "execution_count": null,
   "id": "4f14b84b-c1ea-48a4-a35e-6766b98bdc12",
   "metadata": {
    "tags": []
   },
   "outputs": [],
   "source": [
    "# Dataset description:\n",
    "# https://www.opensecrets.org/resources/datadictionary/Data%20Dictionary%20527%20Cmtes.htm\n",
    "columns_cmtes527 = ['cycle', 'rpt', 'ein', 'crp527name', 'affiliate', 'ultorg', \n",
    "                    'recipcode', 'cmteid', 'cid', 'eccmteid', 'party', \n",
    "                    'primcode', 'source', 'ffreq', 'ctype', 'csource', 'viewpt',\n",
    "                    'comments', 'state']\n",
    "\n",
    "columns_cmtes527 = dict(enumerate(columns_cmtes527))\n",
    "\n",
    "df_cmtes527 = pd.read_csv('../../../data/open_secrets/527/cmtes527.csv', on_bad_lines='skip', sep=',', header=None, na_values=['N/A', 'NA'])\n",
    "df_cmtes527 = df_cmtes527.rename(columns=columns_cmtes527)\n",
    "\n",
    "# Get rid of the pipes on both sides of the data.\n",
    "df_cmtes527 = df_cmtes527.applymap(lambda x: x.replace('|', '') if type(x) == str else x)\n",
    "\n",
    "# Other cleanup.\n",
    "df_cmtes527['cycle'] = df_cmtes527['cycle'].apply(lambda x: int(x))\n",
    "df_cmtes527['ein'] = df_cmtes527['ein'].apply(lambda x: int(x))\n",
    "\n",
    "df_cmtes527.head()"
   ]
  },
  {
   "cell_type": "markdown",
   "id": "2e33398f-8e22-4e38-91eb-3584d3bce6b9",
   "metadata": {},
   "source": [
    "#### cands22"
   ]
  },
  {
   "cell_type": "code",
   "execution_count": null,
   "id": "b2ba31a1-1bf7-4eb8-be81-f4f887732592",
   "metadata": {
    "tags": []
   },
   "outputs": [],
   "source": [
    "# Dataset description:\n",
    "# https://www.opensecrets.org/resources/datadictionary/Data%20Dictionary%20Candidates%20Data.htm\n",
    "columns_campfin22_cands22 = ['cycle', 'feccandid', 'cid', 'firstlastp', 'party', 'distidrunfor', \n",
    "                    'distidcurr', 'currcand', 'cyclecand', 'crpico', 'recipcode', \n",
    "                    'nopacs']\n",
    "\n",
    "columns_campfin22_cands22 = dict(enumerate(columns_campfin22_cands22))\n",
    "\n",
    "df_cands22 = pd.read_csv('../../../data/open_secrets/CampaignFin22/cands22.csv', on_bad_lines='skip', sep=',', header=None, na_values=['N/A', 'NA'])\n",
    "df_cands22 = df_cands22.rename(columns=columns_campfin22_cands22)\n",
    "\n",
    "# Get rid of the pipes on both sides of the data.\n",
    "df_cands22 = df_cands22.applymap(lambda x: x.replace('|', '') if type(x) == str else x)\n",
    "\n",
    "# Other cleanup.\n",
    "df_cands22['cycle'] = df_cands22['cycle'].apply(lambda x: int(x))\n",
    "\n",
    "df_cands22.head()"
   ]
  },
  {
   "cell_type": "markdown",
   "id": "e27da315-3d5c-425f-b4e2-6fc53e87d847",
   "metadata": {},
   "source": [
    "#### pac_other22"
   ]
  },
  {
   "cell_type": "code",
   "execution_count": null,
   "id": "4c85f3b0-d15e-460d-889f-16e2f9995267",
   "metadata": {
    "tags": []
   },
   "outputs": [],
   "source": [
    "len(df_pac_other22)"
   ]
  },
  {
   "cell_type": "code",
   "execution_count": null,
   "id": "ba7807cd-08de-47f3-8fa3-0bffd959a618",
   "metadata": {
    "tags": []
   },
   "outputs": [],
   "source": [
    "# Dataset description:\n",
    "# https://www.opensecrets.org/resources/datadictionary/Data%20Dictionary%20PAC%20to%20PAC%20Data.htm\n",
    "columns_campfin22_pac_other22 = ['cycle', 'fecrecno', 'filerid', 'donorcmte', 'contriblendtrans', 'city', 'state', \n",
    "                            'zip', 'fecoccemp', 'primcode', 'date', 'amount', 'recipid', 'party', 'otherid',\n",
    "                            'recipcode', 'recipprimcode', 'amend', 'report', 'pg', 'microfilm', 'type',\n",
    "                            'realcode', 'source']\n",
    "\n",
    "columns_campfin22_pac_other22 = dict(enumerate(columns_campfin22_pac_other22))\n",
    "\n",
    "df_pac_other22 = pd.read_csv('../../../data/open_secrets/CampaignFin22/pac_other22.csv', on_bad_lines='skip', sep=',', header=None, na_values=['N/A', 'NA'])\n",
    "df_pac_other22 = df_pac_other22.rename(columns=columns_campfin22_pac_other22)\n",
    "\n",
    "# Get rid of the pipes on both sides of the data.\n",
    "df_pac_other22 = df_pac_other22.applymap(lambda x: x.replace('|', '') if type(x) == str else x)\n",
    "\n",
    "# Other cleanup.\n",
    "df_pac_other22['cycle'] = df_pac_other22['cycle'].apply(lambda x: int(x))\n",
    "df_pac_other22['fecrecno'] = df_pac_other22['fecrecno'].apply(lambda x: int(x))\n",
    "\n",
    "df_pac_other22['date'] = pd.to_datetime(df_pac_other22['date'], format='%m/%d/%Y', errors='coerce')\n",
    "df_pac_other22 = df_pac_other22.dropna(subset=['date'])\n",
    "\n",
    "df_pac_other22['microfilm'] = df_pac_other22['microfilm'].fillna(0)\n",
    "df_pac_other22['microfilm'] = df_pac_other22['microfilm'].apply(lambda x: 0 if x == '' else int(x))\n",
    "                                                                                                \n",
    "df_pac_other22.head()                                                                                                "
   ]
  },
  {
   "cell_type": "markdown",
   "id": "4bd1828e-48ca-4da4-91e0-1558ac65438b",
   "metadata": {},
   "source": [
    "### PACs to Candidates"
   ]
  },
  {
   "cell_type": "code",
   "execution_count": null,
   "id": "4dc3dd4a-ad27-4997-b19a-a43dc4130b63",
   "metadata": {
    "tags": []
   },
   "outputs": [],
   "source": [
    "# First, join df1 and df2 on 'id' with an inner join\n",
    "df_cmtes_merged = pd.merge(df_cmtes22, df_cmtes527, on='cmteid', how='inner')\n",
    "df_cmtes_merged.head()\n",
    "\n",
    "# # Then, join the result with df3 on 'id' with an inner join\n",
    "df_cmtes_cands = pd.merge(df_cmtes_merged, df_cands22, on='cid', how='inner')\n",
    "df_cmtes_cands.head()"
   ]
  },
  {
   "cell_type": "code",
   "execution_count": null,
   "id": "0a1d365d-7b63-4de0-a7b4-8d24a199b1af",
   "metadata": {
    "tags": []
   },
   "outputs": [],
   "source": [
    "df_network = df_cmtes_cands[['cmteid', 'pacshort', 'cid']].drop_duplicates()\n",
    "df_network = df_network.reset_index(drop=True)\n",
    "\n",
    "df_network.head(100)"
   ]
  },
  {
   "cell_type": "code",
   "execution_count": null,
   "id": "b05fc758-589b-4d10-bcc2-3e24ee23140c",
   "metadata": {
    "tags": []
   },
   "outputs": [],
   "source": [
    "import networkx as nx\n",
    "import matplotlib.pyplot as plt\n",
    "\n",
    "# Create a graph from the DataFrame\n",
    "G1 = nx.from_pandas_edgelist(df_network, source='cid', target='cmteid')\n",
    "\n",
    "# Draw the network\n",
    "plt.figure(figsize=(8, 6))\n",
    "pos = nx.spring_layout(G1)  # Layout for visualization\n",
    "nx.draw(G1, pos, with_labels=True, node_size=700, node_color='lightblue', font_size=7)\n",
    "\n",
    "plt.show()"
   ]
  },
  {
   "cell_type": "markdown",
   "id": "2a557f34-c641-4195-a08b-23422013b20e",
   "metadata": {},
   "source": [
    "### PACs to PACs"
   ]
  },
  {
   "cell_type": "code",
   "execution_count": null,
   "id": "bfd4effc-c7be-4341-ab20-9252905800cc",
   "metadata": {
    "tags": []
   },
   "outputs": [],
   "source": [
    "df_pac_other22_temp = df_pac_other22[['filerid', 'recipid', 'party']]\n",
    "df_pac_other22_network = df_pac_other22_temp.drop_duplicates()\n",
    "df_pac_other22_network['party'] = df_pac_other22_network['party'].replace(['', ' '], 'X').fillna('X').str.strip().replace('', 'X').fillna('X')"
   ]
  },
  {
   "cell_type": "code",
   "execution_count": null,
   "id": "19f20460-30c0-4465-8062-d2a88454ef80",
   "metadata": {
    "tags": []
   },
   "outputs": [],
   "source": [
    "len(df_pac_other22_temp.duplicated())"
   ]
  },
  {
   "cell_type": "code",
   "execution_count": null,
   "id": "78c26d54-9160-49a1-8c54-e497f1396e53",
   "metadata": {
    "tags": []
   },
   "outputs": [],
   "source": [
    "len(df_pac_other22_network)"
   ]
  },
  {
   "cell_type": "code",
   "execution_count": null,
   "id": "57208e6c-0117-40b0-b220-0fb0800a7e89",
   "metadata": {
    "tags": []
   },
   "outputs": [],
   "source": [
    "# df_pac_other22_network[:50]"
   ]
  },
  {
   "cell_type": "code",
   "execution_count": null,
   "id": "e81c58d7-2feb-4a09-b7c2-aeb1518ddb3c",
   "metadata": {},
   "outputs": [],
   "source": [
    "df_pac_other22_network"
   ]
  },
  {
   "cell_type": "code",
   "execution_count": null,
   "id": "5319c2e2-2514-40d6-97d7-61989065be05",
   "metadata": {
    "tags": []
   },
   "outputs": [],
   "source": [
    "# df_pac_other22_network[:250]\n",
    "\n",
    "# Filter rows where column1 is not equal to column2\n",
    "df_pac_other22_network_filtered = df_pac_other22_network[df_pac_other22_network['filerid'] != df_pac_other22_network['recipid']]\n",
    "df_pac_other22_network_filtered[~df_pac_other22_network_filtered['filerid'].isna() & (df_pac_other22_network_filtered['filerid'] != '')]\n",
    "df_pac_other22_network_filtered[~df_pac_other22_network_filtered['recipid'].isna() & (df_pac_other22_network_filtered['recipid'] != '')]\n",
    "\n",
    "df_pac_other22_network_filtered.head()"
   ]
  },
  {
   "cell_type": "code",
   "execution_count": null,
   "id": "fe8ed168-e885-4d0c-83a8-8af4b8a54815",
   "metadata": {
    "tags": []
   },
   "outputs": [],
   "source": [
    "import matplotlib.cm as cm\n",
    "import textwrap\n",
    "\n",
    "# Wrap long labels.\n",
    "def split_label(label, max_length=25):\n",
    "    return textwrap.fill(label, width=max_length)\n",
    "\n",
    "# Duplicate edges as weights. No... should be dollar amount.\n",
    "df_edges = df_pac_other22_network_filtered[:7500].groupby(['filerid', 'recipid']).size().reset_index(name='weight')\n",
    "\n",
    "# Make graph with weighted edges.\n",
    "G2 = nx.from_pandas_edgelist(df_edges, source='filerid', target='recipid', edge_attr='weight', create_using=nx.DiGraph())\n",
    "in_degrees = dict(G2.in_degree())\n",
    "nodes_sorted = sorted(G2.nodes, key=in_degrees.get, reverse=True)\n",
    "\n",
    "# Degree-based node size.\n",
    "node_sizes_sorted = [in_degrees[node] * 10 for node in nodes_sorted]\n",
    "\n",
    "# Top n degree labels.\n",
    "label_dict = pd.Series(df_cmtes22.pacshort.values, index=df_cmtes22.cmteid).to_dict()\n",
    "top_n_nodes = sorted(in_degrees, key=in_degrees.get, reverse=True)[:20]\n",
    "top_n_labels = {node: split_label(label_dict[node].upper()) for node in top_n_nodes if node in label_dict}\n",
    "\n",
    "# Party node color.\n",
    "df_pac_other22['filerid'] = df_pac_other22['filerid'].fillna('X')\n",
    "df_pac_other22['filerid'] = df_pac_other22['filerid'].astype(str)\n",
    "color_map = {'D': 'blue', 'R': 'red', 'G': 'green', 'I': 'brown', 'X': 'gray'}\n",
    "node_colors = {row['filerid']: color_map.get(row['party'], 'gray') for _, row in df_pac_other22.iterrows()}\n",
    "node_color_list_sorted = [node_colors.get(str(node), 'gray') for node in nodes_sorted]\n",
    "\n",
    "# Party edge color.\n",
    "in_degree_values = [in_degrees[target] for _, target in G2.edges]\n",
    "norm = plt.Normalize(vmin=min(in_degree_values), vmax=max(in_degree_values))\n",
    "# cmap = cm.Blues\n",
    "edge_colors = [node_colors.get(str(source), 'gray') for source, _ in G2.edges]\n",
    "\n",
    "# Node spacing.\n",
    "initial_pos = {node: (0.5, 0.5) for node in top_n_nodes}\n",
    "pos = nx.spring_layout(G2, pos=initial_pos, fixed=top_n_nodes, k=1.25, scale=1.5, iterations=200)\n",
    "\n",
    "edge_widths = [G2[u][v]['weight'] * 0.1 for u, v in G2.edges]\n",
    "\n",
    "# Draw.\n",
    "plt.figure(figsize=(10, 10))\n",
    "pos = nx.spring_layout(G2)\n",
    "nx.draw_networkx_edges(G2, pos, width=edge_widths, edge_color=edge_colors) #0.15 width\n",
    "nx.draw_networkx_nodes(G2, pos, nodelist=nodes_sorted, node_color=node_color_list_sorted, node_size=node_sizes_sorted, edgecolors='white', linewidths=1)\n",
    "nx.draw_networkx_labels(G2, pos, labels=top_n_labels, font_size=5, font_color=\"black\", bbox=dict(facecolor='white', edgecolor='none', boxstyle='round,pad=0.4'))\n",
    "plt.show()"
   ]
  },
  {
   "cell_type": "code",
   "execution_count": null,
   "id": "54c357f1-ca55-42d8-bfc3-9e5cfe844d08",
   "metadata": {
    "tags": []
   },
   "outputs": [],
   "source": [
    "len(G2.nodes)"
   ]
  },
  {
   "cell_type": "code",
   "execution_count": null,
   "id": "718a89f5-ba21-408f-b64e-077207ac9b62",
   "metadata": {
    "tags": []
   },
   "outputs": [],
   "source": [
    "global_clustering_coefficient = nx.average_clustering(G2)\n",
    "print(\"Global Clustering Coefficient:\", global_clustering_coefficient)"
   ]
  },
  {
   "cell_type": "code",
   "execution_count": null,
   "id": "4426acd8-6c4b-4a06-aacb-74160ec71d64",
   "metadata": {
    "tags": []
   },
   "outputs": [],
   "source": [
    "largest_scc = max(nx.strongly_connected_components(G2), key=len)\n",
    "G2_largest_scc = G2.subgraph(largest_scc)\n",
    "avg_path_length = nx.average_shortest_path_length(G2_largest_scc)\n",
    "avg_path_length"
   ]
  },
  {
   "cell_type": "code",
   "execution_count": null,
   "id": "ecf78569-f0fe-4eb8-b42c-f161b8fc2e69",
   "metadata": {
    "tags": []
   },
   "outputs": [],
   "source": [
    "df_pac_other22_network_filtered_dems = df_pac_other22_network_filtered[df_pac_other22_network_filtered['party'] == 'D']\n",
    "\n",
    "# Wrap long labels.\n",
    "def split_label(label, max_length=25):\n",
    "    return textwrap.fill(label, width=max_length)\n",
    "\n",
    "# Duplicate edges as weights. No... should be dollar amount.\n",
    "df_edges = df_pac_other22_network_filtered_dems[:7500].groupby(['filerid', 'recipid']).size().reset_index(name='weight')\n",
    "\n",
    "# Make graph with weighted edges.\n",
    "G3 = nx.from_pandas_edgelist(df_edges, source='filerid', target='recipid', edge_attr='weight', create_using=nx.DiGraph())\n",
    "in_degrees = dict(G3.in_degree())\n",
    "nodes_sorted = sorted(G3.nodes, key=in_degrees.get, reverse=True)\n",
    "\n",
    "# Degree-based node size.\n",
    "node_sizes_sorted = [in_degrees[node] * 10 for node in nodes_sorted]\n",
    "\n",
    "# Top n degree labels.\n",
    "label_dict = pd.Series(df_cmtes22.pacshort.values, index=df_cmtes22.cmteid).to_dict()\n",
    "top_n_nodes = sorted(in_degrees, key=in_degrees.get, reverse=True)[:20]\n",
    "top_n_labels = {node: split_label(label_dict[node].upper()) for node in top_n_nodes if node in label_dict}\n",
    "\n",
    "# Party node color.\n",
    "df_pac_other22['filerid'] = df_pac_other22['filerid'].fillna('X')\n",
    "df_pac_other22['filerid'] = df_pac_other22['filerid'].astype(str)\n",
    "color_map = {'D': 'blue', 'R': 'red', 'G': 'green', 'I': 'brown', 'X': 'gray'}\n",
    "node_colors = {row['filerid']: color_map.get(row['party'], 'gray') for _, row in df_pac_other22.iterrows()}\n",
    "node_color_list_sorted = [node_colors.get(str(node), 'gray') for node in nodes_sorted]\n",
    "\n",
    "# Party edge color.\n",
    "in_degree_values = [in_degrees[target] for _, target in G3.edges]\n",
    "norm = plt.Normalize(vmin=min(in_degree_values), vmax=max(in_degree_values))\n",
    "# cmap = cm.Blues\n",
    "edge_colors = [node_colors.get(str(source), 'gray') for source, _ in G3.edges]\n",
    "\n",
    "# Node spacing.\n",
    "initial_pos = {node: (0.5, 0.5) for node in top_n_nodes}\n",
    "pos = nx.spring_layout(G3, pos=initial_pos, fixed=top_n_nodes, k=1.25, scale=1.5, iterations=200)\n",
    "\n",
    "edge_widths = [G3[u][v]['weight'] * 0.1 for u, v in G3.edges]\n",
    "\n",
    "# Draw.\n",
    "plt.figure(figsize=(10, 10))\n",
    "pos = nx.spring_layout(G3)\n",
    "nx.draw_networkx_edges(G3, pos, width=edge_widths, edge_color=edge_colors) #0.15 width\n",
    "nx.draw_networkx_nodes(G3, pos, nodelist=nodes_sorted, node_color=node_color_list_sorted, node_size=node_sizes_sorted, edgecolors='white', linewidths=1)\n",
    "nx.draw_networkx_labels(G3, pos, labels=top_n_labels, font_size=5, font_color=\"black\", bbox=dict(facecolor='white', edgecolor='none', boxstyle='round,pad=0.4'))\n",
    "plt.show()"
   ]
  },
  {
   "cell_type": "code",
   "execution_count": null,
   "id": "8d427779-d06e-42ba-9a86-16f5cf40b50b",
   "metadata": {
    "tags": []
   },
   "outputs": [],
   "source": [
    "len(G3.nodes)"
   ]
  },
  {
   "cell_type": "code",
   "execution_count": null,
   "id": "2dc90bb1-222a-4f88-863f-111be2f76194",
   "metadata": {
    "tags": []
   },
   "outputs": [],
   "source": [
    "global_clustering_coefficient = nx.average_clustering(G3)\n",
    "print(\"Global Clustering Coefficient:\", global_clustering_coefficient)"
   ]
  },
  {
   "cell_type": "code",
   "execution_count": null,
   "id": "d40b8761-95d2-41e1-89f1-1d4ca1969a07",
   "metadata": {
    "tags": []
   },
   "outputs": [],
   "source": [
    "num_components = nx.number_weakly_connected_components(G3)\n",
    "print(\"Number of Weakly Connected Components:\", num_components)"
   ]
  },
  {
   "cell_type": "code",
   "execution_count": null,
   "id": "0fff93a2-0da6-4635-8d99-37bae98d6593",
   "metadata": {
    "tags": []
   },
   "outputs": [],
   "source": [
    "num_components = nx.number_strongly_connected_components(G3)\n",
    "print(\"Number of Strongly Connected Components:\", num_components)"
   ]
  },
  {
   "cell_type": "code",
   "execution_count": null,
   "id": "1cf2e500-0422-4187-b9e0-01a8d416a7c0",
   "metadata": {
    "tags": []
   },
   "outputs": [],
   "source": [
    "largest_scc = max(nx.strongly_connected_components(G3), key=len)\n",
    "G3_largest_scc = G3.subgraph(largest_scc)\n",
    "avg_path_length = nx.average_shortest_path_length(G3_largest_scc)\n",
    "avg_path_length"
   ]
  },
  {
   "cell_type": "code",
   "execution_count": null,
   "id": "d7ebebe6-8c96-4904-980d-eeec9c20fc81",
   "metadata": {
    "tags": []
   },
   "outputs": [],
   "source": [
    "df_pac_other22_network_filtered_repb = df_pac_other22_network_filtered[df_pac_other22_network_filtered['party'] == 'R']\n",
    "\n",
    "# Wrap long labels.\n",
    "def split_label(label, max_length=25):\n",
    "    return textwrap.fill(label, width=max_length)\n",
    "\n",
    "# Duplicate edges as weights. No... should be dollar amount.\n",
    "df_edges = df_pac_other22_network_filtered_repb[:7500].groupby(['filerid', 'recipid']).size().reset_index(name='weight')\n",
    "\n",
    "# Make graph with weighted edges.\n",
    "G4 = nx.from_pandas_edgelist(df_edges, source='filerid', target='recipid', edge_attr='weight', create_using=nx.DiGraph())\n",
    "in_degrees = dict(G4.in_degree())\n",
    "nodes_sorted = sorted(G4.nodes, key=in_degrees.get, reverse=True)\n",
    "\n",
    "# Degree-based node size.\n",
    "node_sizes_sorted = [in_degrees[node] * 10 for node in nodes_sorted]\n",
    "\n",
    "# Top n degree labels.\n",
    "label_dict = pd.Series(df_cmtes22.pacshort.values, index=df_cmtes22.cmteid).to_dict()\n",
    "top_n_nodes = sorted(in_degrees, key=in_degrees.get, reverse=True)[:20]\n",
    "top_n_labels = {node: split_label(label_dict[node].upper()) for node in top_n_nodes if node in label_dict}\n",
    "\n",
    "# Party node color.\n",
    "df_pac_other22['filerid'] = df_pac_other22['filerid'].fillna('X')\n",
    "df_pac_other22['filerid'] = df_pac_other22['filerid'].astype(str)\n",
    "color_map = {'D': 'blue', 'R': 'red', 'G': 'green', 'I': 'brown', 'X': 'gray'}\n",
    "node_colors = {row['filerid']: color_map.get(row['party'], 'gray') for _, row in df_pac_other22.iterrows()}\n",
    "node_color_list_sorted = [node_colors.get(str(node), 'gray') for node in nodes_sorted]\n",
    "\n",
    "# Party edge color.\n",
    "in_degree_values = [in_degrees[target] for _, target in G4.edges]\n",
    "norm = plt.Normalize(vmin=min(in_degree_values), vmax=max(in_degree_values))\n",
    "# cmap = cm.Blues\n",
    "edge_colors = [node_colors.get(str(source), 'gray') for source, _ in G4.edges]\n",
    "\n",
    "# Node spacing.\n",
    "initial_pos = {node: (0.5, 0.5) for node in top_n_nodes}\n",
    "pos = nx.spring_layout(G4, pos=initial_pos, fixed=top_n_nodes, k=1.25, scale=1.5, iterations=200)\n",
    "\n",
    "edge_widths = [G4[u][v]['weight'] * 0.1 for u, v in G4.edges]\n",
    "\n",
    "# Draw.\n",
    "plt.figure(figsize=(10, 10))\n",
    "pos = nx.spring_layout(G4)\n",
    "nx.draw_networkx_edges(G4, pos, width=edge_widths, edge_color=edge_colors) #0.15 width\n",
    "nx.draw_networkx_nodes(G4, pos, nodelist=nodes_sorted, node_color=node_color_list_sorted, node_size=node_sizes_sorted, edgecolors='white', linewidths=1)\n",
    "nx.draw_networkx_labels(G4, pos, labels=top_n_labels, font_size=5, font_color=\"black\", bbox=dict(facecolor='white', edgecolor='none', boxstyle='round,pad=0.4'))\n",
    "plt.show()"
   ]
  },
  {
   "cell_type": "code",
   "execution_count": null,
   "id": "340e8937-e986-4356-a760-0c76af5d0b5a",
   "metadata": {
    "tags": []
   },
   "outputs": [],
   "source": [
    "len(G4.nodes)"
   ]
  },
  {
   "cell_type": "code",
   "execution_count": null,
   "id": "fe0b1794-5dc5-4385-8d36-7e9b0703c098",
   "metadata": {
    "tags": []
   },
   "outputs": [],
   "source": [
    "global_clustering_coefficient = nx.average_clustering(G4)\n",
    "print(\"Global Clustering Coefficient:\", global_clustering_coefficient)"
   ]
  },
  {
   "cell_type": "code",
   "execution_count": null,
   "id": "ccf5a14b-4e6e-4d8a-b5bb-38815234e5d1",
   "metadata": {
    "tags": []
   },
   "outputs": [],
   "source": [
    "num_components = nx.number_weakly_connected_components(G4)\n",
    "print(\"Number of Weakly Connected Components:\", num_components)"
   ]
  },
  {
   "cell_type": "code",
   "execution_count": null,
   "id": "0802f3db-9763-4ec7-8698-e22fe4f738e2",
   "metadata": {
    "tags": []
   },
   "outputs": [],
   "source": [
    "num_components = nx.number_strongly_connected_components(G4)\n",
    "print(\"Number of Strongly Connected Components:\", num_components)"
   ]
  },
  {
   "cell_type": "code",
   "execution_count": null,
   "id": "f73dc11f-76c9-4e95-b7b3-c47c376624d2",
   "metadata": {
    "tags": []
   },
   "outputs": [],
   "source": [
    "largest_scc = max(nx.strongly_connected_components(G4), key=len)\n",
    "G4_largest_scc = G4.subgraph(largest_scc)\n",
    "avg_path_length = nx.average_shortest_path_length(G4_largest_scc)\n",
    "avg_path_length"
   ]
  },
  {
   "cell_type": "code",
   "execution_count": null,
   "id": "4f41c4ef-99af-4d62-aed3-91cff2210933",
   "metadata": {
    "tags": []
   },
   "outputs": [],
   "source": [
    "duplicates = df_pac_other22_network_filtered[df_pac_other22_network_filtered.duplicated()]\n",
    "print(duplicates)"
   ]
  },
  {
   "cell_type": "code",
   "execution_count": null,
   "id": "5e208950-e9af-4654-85fa-2c8c3d3463a0",
   "metadata": {
    "tags": []
   },
   "outputs": [],
   "source": [
    "import itertools\n",
    "import matplotlib.cm as cm\n",
    "\n",
    "C = nx.community.greedy_modularity_communities(G2)\n",
    "\n",
    "color_map = {'D': 'blue', 'R': 'red', 'G': 'green', 'I': 'brown', 'X': 'gray'}\n",
    "node_colors = {}\n",
    "\n",
    "for community in C:\n",
    "    for node in community:\n",
    "        party = G2.nodes[node].get('party', 'X')\n",
    "        node_colors[node] = color_map.get(party, 'gray')\n",
    "\n",
    "node_color_list = [node_colors.get(node, 'gray') for node in G2.nodes]\n",
    "plt.figure(figsize=(10, 10))\n",
    "pos = nx.spring_layout(G2, k=1, scale=2, iterations=200)\n",
    "nx.draw(G2, pos, node_color=node_color_list, with_labels=False, node_size=2, edge_color='gray', width=0.15, edgecolors='white')\n",
    "plt.show()"
   ]
  },
  {
   "cell_type": "code",
   "execution_count": null,
   "id": "1bd2979b-cd90-4c8c-bcd5-a2ecd204ecd3",
   "metadata": {
    "tags": []
   },
   "outputs": [],
   "source": [
    "num_components = nx.number_weakly_connected_components(G2)\n",
    "print(\"Number of Weakly Connected Components:\", num_components)"
   ]
  },
  {
   "cell_type": "code",
   "execution_count": null,
   "id": "4d7691b5-afca-4605-a9a2-a9d76b4abfea",
   "metadata": {
    "tags": []
   },
   "outputs": [],
   "source": [
    "num_components = nx.number_strongly_connected_components(G2)\n",
    "print(\"Number of Strongly Connected Components:\", num_components)"
   ]
  },
  {
   "cell_type": "code",
   "execution_count": null,
   "id": "cd2f4e36-553c-4840-9efe-c4c15516a33e",
   "metadata": {
    "tags": []
   },
   "outputs": [],
   "source": [
    "largest_scc = max(nx.strongly_connected_components(G2), key=len)\n",
    "G2_largest_scc = G2.subgraph(largest_scc)\n",
    "avg_path_length = nx.average_shortest_path_length(G2_largest_scc)\n",
    "avg_path_length"
   ]
  },
  {
   "cell_type": "code",
   "execution_count": null,
   "id": "dc94eb67-963c-4f0b-85e4-977edd04b63f",
   "metadata": {},
   "outputs": [],
   "source": []
  }
 ],
 "metadata": {
  "kernelspec": {
   "display_name": "Python 3 (ipykernel)",
   "language": "python",
   "name": "python3"
  },
  "language_info": {
   "codemirror_mode": {
    "name": "ipython",
    "version": 3
   },
   "file_extension": ".py",
   "mimetype": "text/x-python",
   "name": "python",
   "nbconvert_exporter": "python",
   "pygments_lexer": "ipython3",
   "version": "3.12.7"
  }
 },
 "nbformat": 4,
 "nbformat_minor": 5
}
